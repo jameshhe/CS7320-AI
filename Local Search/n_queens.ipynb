{
 "cells": [
  {
   "cell_type": "markdown",
   "metadata": {},
   "source": [
    "# Solving the n-Queens Problem using Local Search\n",
    "\n",
    "## Instructions\n",
    "\n",
    "Total Points: 10\n",
    "\n",
    "Complete this notebook and submit it. The notebook needs to be a complete project report with \n",
    "\n",
    "* your implementation,\n",
    "* documentation including a short discussion of how your implementation works and your design choices, and\n",
    "* experimental results (e.g., tables and charts with simulation results) with a short discussion of what they mean. \n",
    "\n",
    "Use the provided notebook cells and insert additional code and markdown cells as needed."
   ]
  },
  {
   "cell_type": "markdown",
   "metadata": {},
   "source": [
    "## The n-Queens Problem\n",
    "\n",
    "* __Goal:__ Find an arrangement of $n$ queens on a $n \\times n$ chess board so that no queen is on the same row, column or diagonal as any other queen.\n",
    "\n",
    "* __State space:__ An arrangement of the queens on the board. We restrict the state space to arrangements where there is only a single queen per column. We represent a state as an integer vector $\\mathbf{q} = \\{q_1, q_2, \\dots, q_n\\}$, each number representing the row positions of the queens from left to right. We will call a state a \"board.\"\n",
    "\n",
    "* __Objective function:__ The number of pairwise conflicts (i.e., two queens in the same row/column/diagonal).\n",
    "The optimization problem is to find the optimal arrangement $\\mathbf{q}^*$ of $n$ queens on the board:\n",
    "\n",
    "> minimize: $\\mathbf{q}^* = \\mathrm{argmin}_\\mathbf{q} \\ \\mathrm{conflicts}(\\mathbf{q})$\n",
    ">\n",
    "> subject to: $\\mathbf{q} \\ \\text{contains only one queen per column}$\n",
    "\n",
    "* __Local improvement move:__ Move one queen to a different row in its column.\n",
    "\n",
    "* __Termination:__ For this problem there is always an arrangement $\\mathbf{q}^*$ with $\\mathrm{conflicts}(\\mathbf{q}^*) = 0$, however, the local improvement moves might end up in a local minimum. "
   ]
  },
  {
   "cell_type": "markdown",
   "metadata": {},
   "source": [
    "## Helper functions"
   ]
  },
  {
   "cell_type": "code",
<<<<<<< HEAD
   "execution_count": 157,
=======
   "execution_count": 279,
>>>>>>> 6ee1f640fb69a549482c5cc990eec0fd22023eb9
   "metadata": {},
   "outputs": [],
   "source": [
    "import numpy as np\n",
    "import matplotlib.pyplot as plt\n",
    "from matplotlib import colors\n",
    "\n",
    "np.random.seed(1234)\n",
    "\n",
    "\n",
    "def random_board(n):\n",
    "    \"\"\"Creates a random board of size n x n. Note that only a single queen is placed in each column!\"\"\"\n",
    "    \n",
    "    return(np.random.randint(0,n, size = n))\n",
    "\n",
    "def comb2(n): return n*(n-1)//2 # this is n choose 2 equivalent to math.comb(n, 2); // is int division\n",
    "\n",
    "def conflicts(board):\n",
    "    \"\"\"Caclulate the number of conflicts, i.e., the objective function.\"\"\"\n",
    "\n",
    "    n = len(board)\n",
    "    \n",
    "    horizontal_cnt = [0] * n\n",
    "    diagonal1_cnt = [0] * 2 * n\n",
    "    diagonal2_cnt = [0] * 2 * n\n",
    "    \n",
    "    for i in range(n):\n",
    "        horizontal_cnt[board[i]] += 1\n",
    "        diagonal1_cnt[i + board[i]] += 1\n",
    "        diagonal2_cnt[i - board[i] + n] += 1\n",
    "    \n",
    "    return sum(map(comb2, horizontal_cnt + diagonal1_cnt + diagonal2_cnt))\n",
    "\n",
    "\n",
    "def show_board(board, cols = ['white', 'gray'], fontsize = 48):  \n",
    "    \"\"\"display the board\"\"\"\n",
    "    \n",
    "    n = len(board)\n",
    "    \n",
    "    # create chess board display\n",
    "    display = np.zeros([n,n])\n",
    "    for i in range(n):\n",
    "        for j in range(n):\n",
    "            if (((i+j) % 2) != 0): \n",
    "                display[i,j] = 1\n",
    "    \n",
    "    cmap = colors.ListedColormap(cols)\n",
    "    fig, ax = plt.subplots()\n",
    "    ax.imshow(display, cmap = cmap, \n",
    "              norm = colors.BoundaryNorm(range(len(cols)+1), cmap.N))\n",
    "    ax.set_xticks([])\n",
    "    ax.set_yticks([])\n",
    "    \n",
    "    # place queens. Note: Unicode u265B is a black queen\n",
    "    for j in range(n):\n",
    "        plt.text(j, board[j], u\"\\u265B\", fontsize = fontsize, \n",
    "                 horizontalalignment = 'center',\n",
    "                 verticalalignment = 'center')\n",
    "    \n",
    "    print(f\"Board with {conflicts(board)} conflicts.\")\n",
    "    plt.show()"
   ]
  },
  {
   "cell_type": "markdown",
   "metadata": {},
   "source": [
    "## Create a board"
   ]
  },
  {
   "cell_type": "code",
<<<<<<< HEAD
   "execution_count": 158,
=======
   "execution_count": 280,
>>>>>>> 6ee1f640fb69a549482c5cc990eec0fd22023eb9
   "metadata": {},
   "outputs": [
    {
     "name": "stdout",
     "output_type": "stream",
     "text": [
      "Board with 5 conflicts.\n"
     ]
    },
    {
     "data": {
<<<<<<< HEAD
      "image/png": "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\n",
=======
      "image/png": "iVBORw0KGgoAAAANSUhEUgAAAOsAAADrCAYAAACICmHVAAAABHNCSVQICAgIfAhkiAAAAAlwSFlzAAALEgAACxIB0t1+/AAAADh0RVh0U29mdHdhcmUAbWF0cGxvdGxpYiB2ZXJzaW9uMy4yLjIsIGh0dHA6Ly9tYXRwbG90bGliLm9yZy+WH4yJAAAXb0lEQVR4nO3db0wU+R3H8fceWqGoKF57yikg2h49WvQate0DbVVSDUaIIVE0QuKfR15iNX1S0/g3UVHS1D5pYgwxBrDWnBxy8cREU0VOmmgrqEiP806xuEe5o0VdVgWW6YPNjDu7i54nyzLweSWX25nZXX5z8Lnv7zfzmxmXYRiIyND3RrQbICLfjMIq4hAKq4hDKKwiDqGwijiEwiriEKNe5c1vvvmmkZqaGqGmRI/b7Y52EyImKSkp2k2IiOH6O+vs7MTr9brCbXulsKampnLt2rWBadUQsnv37mg3IWJ27twZ7SZExHD9nR0+fLjfbeoGiziEwiriEAqriEMorCIOobCKOITCKuIQCquIQyisIg6hsIo4hMIq4hAKq4hDKKwiDqGwijiEwiriEAqriEMorCIOobCKOITCKuIQCquIQyisIg6hsIo4hMIq4hAKq4hDKKwiDqGwijiEwiriEAqriEMorCIOobCKOITCKuIQCquIQyisIg6hsIo4hMIq4hAKq4hDKKwiDqGwijiEwiriEAqriEMorCIOobCKOITCKuIQCquIQyisIg6hsIo4hMIq4hAKq4hDKKwiDqGwijiEwiriEAqriEOMepU3u91udu/eHam2RM3OnTuj3YSIGY6/Lxi+v7OPPvqo322qrCIOobCKOITCKuIQCquIQyisIg6hsIq8xNOnT6PdBEBhFelXQ0MDmZmZxMXFkZqayvnz56PaHoVVRrTm5mZKSkq4cOFCyLa1a9dy8+ZNAFpaWsjPz7dV2b6+Pqqrqzl69Cj379+PeFtfaVKEyHBy4sQJCgoK6O3tBWDNmjWUl5cDYBgGzc3Ntvd3dHTQ3t5OcnIyhmGwfPlyPv74YwBiY2OprKxkyZIlEWuvKquMWNu3b7eCCnD8+HFu3boFgMvloqioiJiYGGv7+vXrSU5OBqC2ttYKKvjHtXv27IloexVWGbESEhJC1vl8Puv11q1b2b9/PwCbNm2ipKTE2vbs2bOQz44ePToCrXxOYZURq7i4mAkTJljL69atY9asWbb39PT0AP7xaaCFCxcyZ84cazk2NpYdO3ZEsLUKq4wQZWVlZGdns3r1aq5evQr4A+d2u9mwYQMAeXl5IZ97/PgxAF1dXbb1MTExbN68GYCsrCyamppYtGgRANeuXaOwsJC8vDxOnTo1YPugA0wy7JWWllJYWGgtV1VVcfv2bVJSUoiLi2P69OkAXLx4kWXLltk+a4bV4/GEfO+VK1cAWLx4MampqQDcuXOHBQsW8OTJEwAqKiqoqKhgxYoVr70fqqwy7J08edK27PV6OXv2rLWcmJgI+MMa7NGjR0D4sF66dAmAtLQ0a11lZaUV1P5+/relsMqwl5GREbJu5syZ1utJkyYBcP36dSucpv4qa3t7O01NTYA9rGaVDjR79uxv2XI7hVWGvW3btpGTk0NsbCwAu3btIisry9puhtXn83H58mXbZ83wBo9Za2pqrNeBAc3LyyM7OxuAKVOmsHHjRrZs2TIg+6Exqwx7CQkJnD59mra2NpKSkkKqn9kNhtBxa3+V1ewyjx8/3go7+E/p1NfXM23aNFpaWnC5XAO2H6qsMmJMnjyZefPmcfDgQQzDsNYHhi143NpfWM3xanDwjxw5gtvtZuXKlQMaVFBYZYTJzc2lsbGRM2fOWOsCwxo8bg3XDe7o6KCxsRGwj1e7u7s5cOAAAKtWrRrwtiusMqLk5OQAWKECiI+PZ8yYMUDouNWsrF6v16rGNTU11uvAsJaUlNDa2kpaWhpz584d8LYrrDKiZGRkMGPGDGpra6mrq7PWB49bwT+Z3+z+GoZhVVezCwzPu8E9PT0UFRUBkamqoLDKCBSuuoYbt3o8HtvYNlxYzcoaeJmcwioyQMywVlVVWedKw41bzS6wyePx0NnZyY0bN6x1aWlp9PT0WBP+09PTQ+YXDxSFVUac+fPnk5iYiGEYFBcXA/ZusDluDZ4g4fF4qKmpsSb1u1wuUlNTOXbsGPfu3QMiV1VBYZURKCYmxpq4UF5ezoMHD2yVFfxd4XCVNbALnJSURExMDPv27bPW5efnR6zdCquMSLm5uYD/dMuhQ4e+UVi7urpCDi6VlpZy9+5dADIzM0lPT49YmxVWGZGWLl1qna45fPiw7Y4Q4B+3tra22ta53W7q6+ut5ZSUFPbu3WstR7ILDAqrjFBjx45l6tSpgP9cavCVMT6fz3bbFoDq6mrbnSTq6ur4/PPPreXMzMwItlhhFQH816EGq66uti2fO3fOtvzFF19EtE3BFFaRfjx8+NC23NnZGaWW+OmqGxnR4uPjXzuEXV1dtns5RYrCKiOaYRghB5JeldfrHaDWvJjCKiOa1+sNe3eHoUhjVhGHUFhFHEJhFXEIhVXEIRRWGdHi4+MxDOO1/gmeQxwpOhosI1pvby9lZWWv9R3hHlIVCQqrjGjPnj2joKAg2s34RhRWGbHCzQceyjRmFXEIhVXEIRRWEYdQWEUcQmEVcQiFVcQhFFYRh1BYRRxCYRVxCIVVxCEUVhGHUFhFHOKVJvInJSWxc+fOSLUlanbv3h3tJkTMcPx9wfD9nbnd7n63qbKKOITCKuIQCquIQyisIg6hsIo4hMIqA+Lp06fRbsKwp7DKa2loaCAzM5O4uDhSU1M5f/58tJs0bCms8lLNzc2UlJRw4cKFkG1r167l5s2bALS0tJCfn2+rsn19fVRXV3P06FHu378/aG0ejnR3Q3mhEydOUFBQQG9vLwBr1qyhvLwc8D8usbm52fb+jo4O2tvbSU5OxjAMli9fzscffwxAbGwslZWVLFmyZHB3YphQZZUX2r59uxVUgOPHj3Pr1i0AXC4XRUVFxMTEWNvXr19PcnIyALW1tVZQwT+u3bNnzyC1fPhRWOWFEhISQtb5fD7r9datW9m/fz8AmzZtoqSkxNoW7k71o0ePjkArRwaFVV6ouLiYCRMmWMvr1q1j1qxZtvf09PQA/vFpoIULFzJnzhxrOTY2lh07dkSwtcObwiqWsrIysrOzWb16NVevXgX8gXO73WzYsAGAvLy8kM+ZD2bq6uqyrY+JiWHz5s0AZGVl0dTUxKJFiwC4du0ahYWF5OXlcerUqYjt03CiA0wCQGlpKYWFhdZyVVUVt2/fJiUlhbi4OKZPnw7AxYsXWbZsme2zZlg9Hk/I9165cgWAxYsXk5qaCvgfW7FgwQKePHkCQEVFBRUVFaxYsWLA92s4UWUVAE6ePGlb9nq9nD171lpOTEwE/GEN9ujRIyB8WC9dugRAWlqata6ystIKan8/X0IprAJARkZGyLqZM2darydNmgTA9evXrXCa+qus7e3tNDU1AfawmlU60OzZs79ly0cOhVUA2LZtGzk5OcTGxgKwa9cusrKyrO1mWH0+H5cvX7Z91gxv8Ji1pqbGeh0Y0Ly8PLKzswGYMmUKGzduZMuWLQO4N8OTxqwC+E/RnD59mra2NpKSkkKqn9kNhtBxa3+V1ewyjx8/3go7+E/p1NfXM23aNFpaWnC5XAO9O8OSKqvYTJ48mXnz5nHw4EEMw7DWB4YteNzaX1jN8Wpw8I8cOYLb7WblypUK6itQWCVEbm4ujY2NnDlzxloXGNbgcWu4bnBHRweNjY2Afbza3d3NgQMHAFi1alVkdmCYUlglRE5ODoAVKoD4+HjGjBkDhI5bzcrq9XqtalxTU2O9DgxrSUkJra2tpKWlMXfu3MjuyDCjsEqIjIwMZsyYQW1tLXV1ddb64HEr+Cfzm91fwzCs6mp2geF5N7inp4eioiJAVfXbUFglrHDVNdy41ePx2Ma24cJqVtbAy+QU1lensEpYZlirqqqsc6Xhxq1mF9jk8Xjo7Ozkxo0b1rq0tDR6enqsCf/p6ekh84vl5RRWCWv+/PkkJiZiGAbFxcWAvRtsjluDJ0h4PB5qamqsSf0ul4vU1FSOHTvGvXv3AFXVb0thlbBiYmKsiQvl5eU8ePDAVlnB3xUOV1kDu8BJSUnExMSwb98+a11+fn4EWz58KazSr9zcXMB/uuXQoUPfKKxdXV0hB5dKS0u5e/cuAJmZmaSnp0e45cOTwir9Wrp0qXW65vDhw7Y7QoB/3Nra2mpb53a7qa+vt5ZTUlLYu3evtawu8LensEq/xo4dy9SpUwH/udTgK2N8Pp/tti0A1dXVtjtJ1NXV8fnnn1vLmZmZEWzx8Kawyjd2586dkHXV1dW25XPnztmWv/jii4i2aSRRWOW1PHz40Lbc2dkZpZYMf7rqRl4qPj7+tUPY1dVlu5eTvDqFVV7KMIyQA0mvyuv1DlBrRi6FVV7K6/WGvbuDDC6NWUUcQmEVcQiFVcQhFFYRh1BY5aXi4+MxDOO1/gmeQyyvTkeD5aV6e3spKyt7re8I95AqeTUKq7zUs2fPKCgoiHYzRjyFVV4o3HxgiQ6NWUUcQmEVcQiFVcQhFFYRh1BYRRxCYRVxCIVVxCEUVhGHUFhFHEJhFXEIhVXEIV5pbrDb7Wb37t2RakvU7Ny5M9pNiJjh+PuC4fs7++ijj/rdpsoq4hAKq4hDKKwiDqGwijiEwiriEEM2rD09PdFuQkQ8ffo02k0QhxpyYW1ra+PPf/4ze/fu5Y9//KPt2Z5O1tDQQGZmJnFxcaSmpnL+/PloN0kcJiph/frrr/nnP/8Z9tmdFRUVtLe3A/7HCX7wwQe2KtvX18dnn33G9evXh9zjBZubmykpKeHChQsh29auXcvNmzcBaGlpIT8/31Zl+/r6qK6u5ujRo9y/f3/Q2izOMeg3TLt58yYffvghfX19APzkJz8hLy8P8D+trKOjw/b+J0+eWI8LNAyDv/zlL3z22WcAjBo1ivz8fGbOnDm4OxHGiRMnKCgooLe3F4A1a9ZQXl4O+PerubnZ9v6Ojg7a29tJTk7GMAyWL19uPUU8NjaWyspKlixZMrg7IUPaoFfWv/3tb1ZQwR/e//znPwC4XC6ysrJwuVzW9vfee896ruf9+/etoIL/fraXLl0apJa/2Pbt262gAhw/fpxbt24B/v0qKioiJibG2r5+/XqSk5MBqK2ttYIK/nHtnj17Bqnl4hSDHtYxY8aErDMMw3r9i1/8gqysLADmzp1Lbm6utS0wDKY33hgaw+6EhISQdT6fz3q9detW9u/fD8CmTZsoKSmxtoW7Afbo0aMj0EpxskH/S//1r39NbGystTx79mwmT55se4/5Rx4YYoDp06eTlJRkLY8aNYpf/vKXEWztN1dcXGx7sve6deuYNWuW7T3m2DuwZwGwcOFC5syZYy3HxsayY8eOCLZWnCiiYW1oaKCsrIwPPviABw8eAP7A/fa3v+W9994D4N133w35XHd3t+3fVmPfeIOf/exnAKSlpfH++++TlpYGwIMHD6ioqOCvf/0rt2/fjtg+AZSVlZGdnc3q1au5evUq4A+c2+1mw4YNANY4PJD5vJeuri7b+piYGDZv3gxAVlYWTU1NLFq0CIBr165RWFhIXl4ep06ditg+ydAXsQNMDQ0NfPjhh9byp59+yvvvv8+ECRMYPXo0EydOBODevXv88Ic/tH3W7BYGhxXg3//+N+APvfkdHR0dHD161OomNzU1sWrVKn70ox8N+H6VlpZSWFhoLVdVVXH79m1SUlKIi4uznhB+8eJFli1bZvusGVaPxxPyvVeuXAFg8eLFpKamAv674S9YsIAnT54A/iPlFRUVrFixYsD3S4a+iFXWxsZG23JPT4/t4FBcXBzgD2uwF4XVfL8ZVIB//etfIePZ4J8/UE6ePGlb9nq9nD171lpOTEwE/GEN9ujRIyB8WM0DZWZPAaCystIKan8/X0aOiIX1e9/7Xsg68w8Znof1yy+/DJnV01832OPx8PXXXwP2sAa+NgWPgwdKRkZGyLrAU0eTJk0C4Pr161Y4Tf1V1vb2dpqamgB7WM0qHWj27NnfsuXidBEL6/z583nnnXcYNcrf0/7Vr37FjBkzrO3f/e53Af9BpOBJAGZlDZ5y2NLSYr0ODOi7777LD37wAwDGjh3LT3/6U37+858P4N48t23bNnJycqyDZLt27bKOXsPzsPp8Pi5fvmz7rBne4DFrTU2N9TowoHl5eWRnZwMwZcoUNm7cyJYtWwZwb8RJIjZmjY2NZfXq1Tx+/Jg//OEPtiOl8LyyQui4tb9usNkFHjNmjBV28J/SaWtrY/z48WzdutV2nnagJSQkcPr0adra2khKSgqpfoG9h+Bxa3+V1ewyjx8/3go7+P871NfXM23aNFpaWiK6XzL0RfzUzbhx43j77bf55JNPbKdigsMaqL9usFlZg4P/j3/8g8ePH5ORkTFof9CTJ09m3rx5HDx40LZfgWELHrf2F1ZzvBoc/CNHjuB2u1m5cqWCKoNznjU9PZ2vvvrKNuUusDIGj1vDVVav12vNGQ7sAvf29vLJJ58A8OMf/zgyO9CP3NxcGhsbOXPmjLUuMKzB49Zw3eCOjg7rYFjgeLW7u5sDBw4AsGrVqsjsgDjKoIT1nXfeAbBCBfCd73zHmn4XPG4NHLOaVau/8aoZiIkTJ/L2229HbifCyMnJAbBCBRAfH2/N0goet5qV1ev1WvtVU1NjvQ4Ma0lJCa2traSlpTF37tzI7og4wqCE9fvf/z4TJ07k/v371nlSCN8VNgzDVlHN14FdZTOsPp+P2tpaIPxR2kjLyMhgxowZ1NbWUldXZ60PHreCf7/M7q9hGFZ1DZzbbHaDe3p6KCoqAlRV5blBm25oVlczXGDvCpthDB6nmkeEw1XW69ev8/DhQ2Dwu8CmcNU13LjV4/HYxrbhwmpW1sDL5BRWMQ16WD/99FO++uorwF5ZzXFr8KT27u5unjx5Yl2ZA/6wBlbVN998M2LnVV/GDGtVVZV1rjTcuNXsAps8Hg+dnZ3cuHHDWpeWlkZPT4814T89PT1kfrGMXIMWVnM6HjwfuwaG1Ry3hgtrS0uLrSpNmDCB+vp66+LzaHSBTfPnzycxMRHDMCguLgbs3WBz3Bo8QcLj8VBTU2NN6ne5XKSmpnLs2DGrl6GqKoEGLaxvvPGGNXHh5s2bPHr0yNYNBn9XOLgbbIbVNG7cOFwul+3ATbS6wOCfhG9OXCgvL+fBgwe2ygr+rnC4yhrYBU5KSiImJoZ9+/ZZ6/Lz8yPYcnGaQb1EzuwK+3w+/v73v9sqK/jDGq6yBh9cunHjhlVV33rrrbBTGweTec1td3c3hw4d+kZh7erqCjm4VFpayt27dwHIzMwkPT09wi0XJxnUsM6cOdM6XXPt2rWQC8e//PLLsPNp29rarOWEhATb9LxodoFNS5cutU7XHD582HZHCPCPW1tbW23r3G439fX11nJKSgp79+61ltUFlmCDGtYxY8Ywfvx4wF+Fgq+MMQzDdmUO+C8TCxyvtra28r///c9afuuttyLY4m9m7NixTJ06FfD/zyX4yhifz2e7bQtAdXW17U4SdXV1tjs5ZmZmRrDF4kRRvSfKf//735B1d+7csS0H34o0MKhDVfA+gD+cgc6dO2dbDnenR5FAQ+MGRgGCx6zD5abY5vlg01C7jaoMfYN+K1Lw3wzsd7/73Wt9R+Asn6EiPj7+tUNo3nZVJFhUwgqEHEh6VUPx8RqGYYQcSHpVXq93gFojw01UwtrT08Of/vSnaPzoiPJ6vWHv7iAyEIbcmFVEwlNYRRxCYRVxCIVVxCGidurm97///Wt9x7Nnz6xLyYaK+Pj4sPcEfhUej4dx48YNUItkOIlKWPv6+mhoaHit7wicqjdU9Pb2UlZW9lrfEe4hVSIQpbD6fD7bozWGi2fPnlFQUBDtZsgwNehh/c1vfjPYP3JQhJsPLDKQdIBJxCEUVhGHUFhFHEJhFXEIhVXEIRRWEYdQWEUcQmEVcQiFVcQhFFYRh1BYRRxCYRVxCFfg3e5f+maX6yug5aVvFJFvK8UwjLAPb3qlsIpI9KgbLOIQCquIQyisIg6hsIo4hMIq4hAKq4hDKKwiDqGwijiEwiriEP8HAtep7wHYeKQAAAAASUVORK5CYII=\n",
>>>>>>> 6ee1f640fb69a549482c5cc990eec0fd22023eb9
      "text/plain": [
       "<Figure size 432x288 with 1 Axes>"
      ]
     },
     "metadata": {},
     "output_type": "display_data"
    },
    {
     "name": "stdout",
     "output_type": "stream",
     "text": [
<<<<<<< HEAD
      "Queens (left to right) are at rows: [1 2 1 2]\n",
      "Number of conflicts: 5\n"
=======
      "Queens (left to right) are at rows: [3 3 2 1]\n",
      "Number of conflicts: 4\n"
>>>>>>> 6ee1f640fb69a549482c5cc990eec0fd22023eb9
     ]
    }
   ],
   "source": [
    "board = random_board(4)\n",
    "\n",
    "show_board(board)\n",
    "print(f\"Queens (left to right) are at rows: {board}\")\n",
    "print(f\"Number of conflicts: {conflicts(board)}\")"
   ]
  },
  {
   "cell_type": "markdown",
   "metadata": {},
   "source": [
    "A board $4 \\times 4$ with no conflicts:"
   ]
  },
  {
   "cell_type": "code",
<<<<<<< HEAD
   "execution_count": 159,
=======
   "execution_count": 281,
>>>>>>> 6ee1f640fb69a549482c5cc990eec0fd22023eb9
   "metadata": {},
   "outputs": [
    {
     "name": "stdout",
     "output_type": "stream",
     "text": [
      "Board with 0 conflicts.\n"
     ]
    },
    {
     "data": {
      "image/png": "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\n",
      "text/plain": [
       "<Figure size 432x288 with 1 Axes>"
      ]
     },
     "metadata": {},
     "output_type": "display_data"
    }
   ],
   "source": [
    "board = [1,3,0,2]\n",
    "show_board(board)"
   ]
  },
  {
   "cell_type": "code",
   "execution_count": 160,
   "metadata": {},
   "outputs": [
    {
     "name": "stdout",
     "output_type": "stream",
     "text": [
      "[1, 3, 0, 2]\n"
     ]
    }
   ],
   "source": [
<<<<<<< HEAD
    "print(board)"
=======
    "## Steepest-ascend Hill Climbing Search [2 Points]\n",
    "\n",
    "Calculate the objective function for all local moves (move each queen within its column) and always choose the best among all local moves. If there are no local moves that improve the objective, then you have reached a local optimum. "
>>>>>>> 6ee1f640fb69a549482c5cc990eec0fd22023eb9
   ]
  },
  {
   "cell_type": "code",
<<<<<<< HEAD
   "execution_count": 161,
   "metadata": {},
   "outputs": [],
   "source": [
    "def getNeighbors(board):\n",
    "    # get all the neighbors of the current state\n",
    "    board = np.array(board)\n",
    "    n = len(board)\n",
    "    neighbors = []\n",
    "    \n",
    "    for index, queen_pos in enumerate(board):\n",
    "        # all positions in the column except for the current one\n",
    "        for i in range(n):\n",
    "            if i != queen_pos:\n",
    "                new_neighbor = board.copy()\n",
    "                new_neighbor[index] = i\n",
    "                neighbors.append(new_neighbor)\n",
    "       \n",
    "    return neighbors"
=======
   "execution_count": 282,
   "metadata": {
    "scrolled": false
   },
   "outputs": [],
   "source": [
    "# Code and description go here"
>>>>>>> 6ee1f640fb69a549482c5cc990eec0fd22023eb9
   ]
  },
  {
   "cell_type": "code",
   "execution_count": 162,
   "metadata": {},
   "outputs": [
    {
     "data": {
      "text/plain": [
       "[array([0, 3, 0, 2]),\n",
       " array([2, 3, 0, 2]),\n",
       " array([3, 3, 0, 2]),\n",
       " array([1, 0, 0, 2]),\n",
       " array([1, 1, 0, 2]),\n",
       " array([1, 2, 0, 2]),\n",
       " array([1, 3, 1, 2]),\n",
       " array([1, 3, 2, 2]),\n",
       " array([1, 3, 3, 2]),\n",
       " array([1, 3, 0, 0]),\n",
       " array([1, 3, 0, 1]),\n",
       " array([1, 3, 0, 3])]"
      ]
     },
     "execution_count": 162,
     "metadata": {},
     "output_type": "execute_result"
    }
   ],
   "source": [
<<<<<<< HEAD
    "getNeighbors(board)"
=======
    "## Stochastic Hill Climbing 1 [1 Point]\n",
    "\n",
    "Chooses randomly from among all uphill moves. Make the probability of the choice proportional to the steepness of the uphill move (i.e., with the improvement in conflicts). "
>>>>>>> 6ee1f640fb69a549482c5cc990eec0fd22023eb9
   ]
  },
  {
   "cell_type": "code",
<<<<<<< HEAD
   "execution_count": 163,
=======
   "execution_count": 283,
   "metadata": {},
   "outputs": [],
   "source": [
    "# Code and description go here"
   ]
  },
  {
   "cell_type": "markdown",
>>>>>>> 6ee1f640fb69a549482c5cc990eec0fd22023eb9
   "metadata": {},
   "outputs": [],
   "source": [
<<<<<<< HEAD
    "import random\n",
    "def getDesiredNeighbor(board, method='Steepest Ascent', debug=False):\n",
    "    board = np.array(board)\n",
    "    neighbors = getNeighbors(board)\n",
    "    # randomly shuffle neighbors\n",
    "    np.random.shuffle(neighbors)\n",
    "    best_neighbor = neighbors[0]\n",
    "    if method == 'Stochastic':\n",
    "        # compile a list of uphill moves\n",
    "        uphill = []\n",
    "    curr_conflicts = conflicts(board)\n",
    "    if debug:\n",
    "        print('The board', board, 'has', curr_conflicts, 'conflicts')\n",
    "    for neighbor in neighbors:\n",
    "        if conflicts(neighbor) < curr_conflicts:\n",
    "            best_neighbor = neighbor\n",
    "            if debug:\n",
    "                print('This neighbor', neighbor, 'has', conflicts(neighbor), 'conflicts')\n",
    "            if method == 'First Choice':\n",
    "                # The first neighbor to have a lower conflict is the accepted result\n",
    "                return best_neighbor\n",
    "            if method == 'Stochastic':\n",
    "                uphill.append(neighbor)\n",
    "    if debug & (method=='Stochastic'):\n",
    "        print('Number of uphill moves:', len(uphill))\n",
    "    if method == 'Steepest Ascent':\n",
    "        return best_neighbor\n",
    "    elif method == 'Stochastic':\n",
    "        # if there's nothing in uphill, meaning that there's no better solutions\n",
    "        if len(uphill) == 0:\n",
    "            # return the current board\n",
    "            return board\n",
    "        else:\n",
    "            # randomly choose a board inside among all uphill moves\n",
    "            return random.choice(uphill)\n",
    "    elif method == 'First Choice':\n",
    "        # if there's no neighbor with a lower conflict, return the current board\n",
    "        return board"
=======
    "## Stochastic Hill Climbing 2 [2 Point]\n",
    "\n",
    "A popular version of stochastic hill climbing generates only a single random local neighbor at a time and accept it if it has a better objective function value than the current state. This is very efficient if each state has many possible successor states. This method is called \"First-choice hill climbing\" in the textbook.\n",
    "\n",
    "__Notes:__ \n",
    "\n",
    "* Detecting local optima is tricky! You can, for example, stop if you were not able to improve the objective function during the last $x$ tries."
>>>>>>> 6ee1f640fb69a549482c5cc990eec0fd22023eb9
   ]
  },
  {
   "cell_type": "code",
<<<<<<< HEAD
   "execution_count": 164,
   "metadata": {},
   "outputs": [],
   "source": [
    "def isSame(board1, board2):\n",
    "    for i in range(len(board1)):\n",
    "        if board1[i] != board2[i]:\n",
    "            return False\n",
    "    return True"
=======
   "execution_count": 284,
   "metadata": {},
   "outputs": [],
   "source": [
    "# Code and description go here"
>>>>>>> 6ee1f640fb69a549482c5cc990eec0fd22023eb9
   ]
  },
  {
   "cell_type": "markdown",
   "metadata": {},
   "source": [
<<<<<<< HEAD
    "## Steepest-ascend Hill Climbing Search [3 Points]\n",
    "\n",
    "Calculate the objective function for all local moves (move each queen within its column) and always choose the best among all local moves."
=======
    "## Hill Climbing Search with Random Restarts [1 Point]\n",
    "\n",
    "Hill climbing will often end up in local optima. Restart the each of the three hill climbing algorithm up to 100 times with a random board to find a better (hopefully optimal) solution.   "
>>>>>>> 6ee1f640fb69a549482c5cc990eec0fd22023eb9
   ]
  },
  {
   "cell_type": "code",
<<<<<<< HEAD
   "execution_count": 165,
=======
   "execution_count": 285,
>>>>>>> 6ee1f640fb69a549482c5cc990eec0fd22023eb9
   "metadata": {
    "scrolled": false
   },
   "outputs": [],
   "source": [
<<<<<<< HEAD
    "# Code goes here\n",
    "# the objective function is the number of pairwise conflicts\n",
    "def SAHC(board=None, n=4, debug=False, max_steps=1000000, stop_after=1000):\n",
    "    # 1. initialize current board\n",
    "    if board is None:\n",
    "        curr_board = np.array(random_board(n)).copy()\n",
    "    else:\n",
    "        curr_board = np.array(board).copy()\n",
    "    if debug:\n",
    "        show_board(curr_board)\n",
    "    # initialize number of conflicts\n",
    "    curr_conflicts = conflicts(curr_board)\n",
    "    if curr_conflicts == 0:\n",
    "        return curr_board\n",
    "    if debug:\n",
    "        print(f\"Initial Number of conflicts: {curr_conflicts}\")\n",
    "    \n",
    "    # step when we last improved the length\n",
    "    last_improvement_step = 0\n",
    "    \n",
    "    # 2. repeat local moves\n",
    "    for step in range(max_steps):\n",
    "        if curr_conflicts == 0:\n",
    "            break\n",
    "        # check neighbor\n",
    "        best_neighbor = getDesiredNeighbor(curr_board, method='Steepest Ascent')\n",
    "        best_neighbor_conflicts = conflicts(best_neighbor)\n",
    "        # if we cannot find a better neighbor\n",
    "        if best_neighbor_conflicts > curr_conflicts:\n",
    "            # exit loop\n",
    "            break\n",
    "        # set the current board and conflicts to the best neighbor's\n",
    "        else:\n",
    "            curr_board, curr_conflicts = best_neighbor, best_neighbor_conflicts\n",
    "            last_improvement_step = step\n",
    "            \n",
    "        # stop if we did not improve for stop_after steps\n",
    "        if step - last_improvement_step > stop_after: \n",
    "            if debug: \n",
    "                print(f\"step: {step} - no improvement for {stop_after} steps.\")\n",
    "            break\n",
    "    if debug:\n",
    "        print('The best board is', curr_board, 'with', curr_conflicts, 'number of conflicts')\n",
    "        show_board(curr_board)\n",
    "    return curr_board\n",
    "    "
=======
    "# Code and description go here"
>>>>>>> 6ee1f640fb69a549482c5cc990eec0fd22023eb9
   ]
  },
  {
   "cell_type": "code",
   "execution_count": 166,
   "metadata": {},
   "outputs": [
    {
     "name": "stdout",
     "output_type": "stream",
     "text": [
      "Board with 5 conflicts.\n"
     ]
    },
    {
     "data": {
      "image/png": "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\n",
      "text/plain": [
       "<Figure size 432x288 with 1 Axes>"
      ]
     },
     "metadata": {},
     "output_type": "display_data"
    },
    {
     "name": "stdout",
     "output_type": "stream",
     "text": [
      "Initial Number of conflicts: 5\n",
      "The best board is [1 0 2 3] with 2 number of conflicts\n",
      "Board with 2 conflicts.\n"
     ]
    },
    {
     "data": {
      "image/png": "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\n",
      "text/plain": [
       "<Figure size 432x288 with 1 Axes>"
      ]
     },
     "metadata": {},
     "output_type": "display_data"
    },
    {
     "data": {
      "text/plain": [
       "array([1, 0, 2, 3])"
      ]
     },
     "execution_count": 166,
     "metadata": {},
     "output_type": "execute_result"
    }
   ],
   "source": [
<<<<<<< HEAD
    "SAHC(debug=True)"
   ]
  },
  {
   "cell_type": "markdown",
=======
    "## Simulated Annealing [2 Points]\n",
    "\n",
    "Simulated annealing is a form of stochastic hill climbing that also allows downhill moves with a probability proportional to the temperature. This is done to avoid local optima. The temperature is decreased in every iteration following an annealing schedule. You have to experiment with the annealing schedule (Google to find guidance on this)."
   ]
  },
  {
   "cell_type": "code",
   "execution_count": 286,
>>>>>>> 6ee1f640fb69a549482c5cc990eec0fd22023eb9
   "metadata": {},
   "source": [
<<<<<<< HEAD
    "## Steepest-ascend Hill Climbing Search with Random Restarts [1 Point]\n",
    "\n",
    "Steepest-ascend hill climbing will often end up in local optima. Restart the algorithm up to 100 times with a random board to find a better (hopefully optimal) solution.   "
=======
    "# Code and description go here"
>>>>>>> 6ee1f640fb69a549482c5cc990eec0fd22023eb9
   ]
  },
  {
   "cell_type": "code",
   "execution_count": 167,
   "metadata": {
    "scrolled": false
   },
   "outputs": [],
   "source": [
<<<<<<< HEAD
    "# Code goes here\n",
    "def SAHC_RR(board=None, n=4, debug=False):\n",
    "    # 1. initialize current board\n",
    "    if board is None:\n",
    "        best_board = np.array(random_board(n)).copy()\n",
    "    else:\n",
    "        best_board = np.array(board).copy()\n",
    "    if debug:\n",
    "        show_board(best_board)\n",
    "    for i in range(100):\n",
    "        curr_board = SAHC(n=n)\n",
    "        best_board = curr_board if conflicts(curr_board) < conflicts(best_board) else best_board\n",
    "        # break the loop early if we've found the optimal solution already\n",
    "        if conflicts(best_board) == 0:\n",
    "            if debug:\n",
    "                print('The best board is', best_board, 'with', conflicts(best_board), 'number of conflicts after', i+1, 'iterations')\n",
    "                show_board(best_board)\n",
    "            return best_board\n",
    "    if debug:\n",
    "        print('The best board is', best_board_board, 'with', conflicts(best_board), 'number of conflicts after', i+1, 'iterations')\n",
    "        show_board(best_board)\n",
    "    return best_board"
=======
    "## Compare Performance [2 Points]\n",
    "\n",
    "Use runtime and objective function value to compare the algorithms. Use boards of different sizes to explore scalability and discuss how the different algorithms perform. Make sure that you run the algorithms for each board size several times (at least 10 times) with different starting boards and report averages.\n",
    "\n",
    "The example below times creating 100 random boards and calculating the conflicts. Reported is the average run time over `N = 100` runs.\n",
    "\n",
    "For timing you can use the `time` package."
>>>>>>> 6ee1f640fb69a549482c5cc990eec0fd22023eb9
   ]
  },
  {
   "cell_type": "code",
<<<<<<< HEAD
   "execution_count": 168,
=======
   "execution_count": 287,
>>>>>>> 6ee1f640fb69a549482c5cc990eec0fd22023eb9
   "metadata": {},
   "outputs": [
    {
     "name": "stdout",
     "output_type": "stream",
     "text": [
<<<<<<< HEAD
      "Board with 3 conflicts.\n"
=======
      "This took: 5.320703983306885 milliseconds\n"
>>>>>>> 6ee1f640fb69a549482c5cc990eec0fd22023eb9
     ]
    },
    {
     "data": {
      "image/png": "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\n",
      "text/plain": [
       "<Figure size 432x288 with 1 Axes>"
      ]
     },
     "metadata": {},
     "output_type": "display_data"
    },
    {
     "name": "stdout",
     "output_type": "stream",
     "text": [
      "The best board is [2 0 3 1] with 0 number of conflicts after 3 iterations\n",
      "Board with 0 conflicts.\n"
     ]
    },
    {
     "data": {
      "image/png": "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\n",
      "text/plain": [
       "<Figure size 432x288 with 1 Axes>"
      ]
     },
     "metadata": {},
     "output_type": "display_data"
    },
    {
     "data": {
      "text/plain": [
       "array([2, 0, 3, 1])"
      ]
     },
     "execution_count": 168,
     "metadata": {},
     "output_type": "execute_result"
    }
   ],
   "source": [
<<<<<<< HEAD
    "SAHC_RR(debug=True)"
=======
    "import time\n",
    "\n",
    "N = 100\n",
    "total = 0\n",
    "\n",
    "for i in range(N):\n",
    "    t0 = time.time()\n",
    "    for i in range(1,100): conflicts(random_board(8))\n",
    "    t1 = time.time()\n",
    "    total += t1 - t0\n",
    "\n",
    "tm = total/N\n",
    "    \n",
    "print(f\"This took: {tm * 1e3} milliseconds\")"
>>>>>>> 6ee1f640fb69a549482c5cc990eec0fd22023eb9
   ]
  },
  {
   "cell_type": "markdown",
   "metadata": {},
   "source": [
<<<<<<< HEAD
    "## Stochastic Hill Climbing [1 Point]\n",
    "\n",
    "Chooses randomly from among all uphill moves."
=======
    "The `timit` package is useful to measure time for code that is called repeatedly."
   ]
  },
  {
   "cell_type": "code",
   "execution_count": 291,
   "metadata": {},
   "outputs": [
    {
     "name": "stdout",
     "output_type": "stream",
     "text": [
      "This took: 5.123364410246722 ms\n"
     ]
    }
   ],
   "source": [
    "import timeit\n",
    "\n",
    "N = 100\n",
    "\n",
    "tm = timeit.timeit('for i in range(1,100): conflicts(random_board(8))', \n",
    "                   globals = globals(), number = N)/N\n",
    "\n",
    "print(f\"This took: {tm * 1e3} milliseconds\")"
>>>>>>> 6ee1f640fb69a549482c5cc990eec0fd22023eb9
   ]
  },
  {
   "cell_type": "code",
<<<<<<< HEAD
   "execution_count": 169,
   "metadata": {},
   "outputs": [],
   "source": [
    "# Code goes here\n",
    "def SHC(board=None, n=4, debug=False, max_steps=1000000, stop_after=1000):\n",
    "    # 1. initialize current board\n",
    "    if board is None:\n",
    "        curr_board = np.array(random_board(n)).copy()\n",
    "    else:\n",
    "        curr_board = np.array(board).copy()\n",
    "    if debug:\n",
    "        show_board(curr_board)\n",
    "    # initialize number of conflicts\n",
    "    curr_conflicts = conflicts(curr_board)\n",
    "    if curr_conflicts == 0:\n",
    "        return curr_board\n",
    "    if debug:\n",
    "        print(f\"Initial Number of conflicts: {curr_conflicts}\")\n",
    "    # step when we last improved the length\n",
    "    last_improvement_step = 0\n",
    "    # 2. repeat local moves\n",
    "    for step in range(max_steps):\n",
    "        if curr_conflicts == 0:\n",
    "            break\n",
    "        # check neighbor\n",
    "        random_neighbor = getDesiredNeighbor(curr_board, method='Stochastic')\n",
    "        random_neighbor_conflicts = conflicts(random_neighbor)\n",
    "        if debug:\n",
    "            print('Current conflict', curr_conflicts)\n",
    "            print('The neighbor:', random_neighbor, 'with', random_neighbor_conflicts, 'conflicts is chosen')\n",
    "            show_board(random_neighbor)\n",
    "        # if we cannot find a better neighbor\n",
    "        if (random_neighbor_conflicts > curr_conflicts) | isSame(random_neighbor, curr_board):\n",
    "            # exit loop\n",
    "            break\n",
    "        # else, set the current board and conflicts to the best neighbor's\n",
    "        else:\n",
    "            curr_board, curr_conflicts = random_neighbor, random_neighbor_conflicts\n",
    "        # stop if we did not improve for stop_after steps\n",
    "        if step - last_improvement_step > stop_after: \n",
    "            if debug: \n",
    "                print(f\"step: {step} - no improvement for {stop_after} steps.\")\n",
    "            break\n",
    "    if debug:\n",
    "        print('The best board is', curr_board, 'with', curr_conflicts, 'number of conflicts')\n",
    "        show_board(curr_board)\n",
    "    return curr_board"
   ]
  },
  {
   "cell_type": "code",
   "execution_count": 170,
   "metadata": {},
   "outputs": [
    {
     "name": "stdout",
     "output_type": "stream",
     "text": [
      "Board with 4 conflicts.\n"
     ]
    },
    {
     "data": {
      "image/png": "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\n",
      "text/plain": [
       "<Figure size 432x288 with 1 Axes>"
      ]
     },
     "metadata": {},
     "output_type": "display_data"
    },
    {
     "name": "stdout",
     "output_type": "stream",
     "text": [
      "Initial Number of conflicts: 4\n",
      "Current conflict 4\n",
      "The neighbor: [2 0 1 0] with 3 conflicts is chosen\n",
      "Board with 3 conflicts.\n"
     ]
    },
    {
     "data": {
      "image/png": "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\n",
      "text/plain": [
       "<Figure size 432x288 with 1 Axes>"
      ]
     },
     "metadata": {},
     "output_type": "display_data"
    },
    {
     "name": "stdout",
     "output_type": "stream",
     "text": [
      "Current conflict 3\n",
      "The neighbor: [2 0 1 1] with 2 conflicts is chosen\n",
      "Board with 2 conflicts.\n"
     ]
    },
    {
     "data": {
      "image/png": "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\n",
      "text/plain": [
       "<Figure size 432x288 with 1 Axes>"
      ]
     },
     "metadata": {},
     "output_type": "display_data"
    },
    {
     "name": "stdout",
     "output_type": "stream",
     "text": [
      "Current conflict 2\n",
      "The neighbor: [2 0 1 3] with 1 conflicts is chosen\n",
      "Board with 1 conflicts.\n"
     ]
    },
    {
     "data": {
      "image/png": "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\n",
      "text/plain": [
       "<Figure size 432x288 with 1 Axes>"
      ]
     },
     "metadata": {},
     "output_type": "display_data"
    },
    {
     "name": "stdout",
     "output_type": "stream",
     "text": [
      "Current conflict 1\n",
      "The neighbor: [2 0 1 3] with 1 conflicts is chosen\n",
      "Board with 1 conflicts.\n"
     ]
    },
    {
     "data": {
      "image/png": "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\n",
      "text/plain": [
       "<Figure size 432x288 with 1 Axes>"
      ]
     },
     "metadata": {},
     "output_type": "display_data"
    },
    {
     "name": "stdout",
     "output_type": "stream",
     "text": [
      "The best board is [2 0 1 3] with 1 number of conflicts\n",
      "Board with 1 conflicts.\n"
     ]
    },
    {
     "data": {
      "image/png": "iVBORw0KGgoAAAANSUhEUgAAAOsAAADrCAYAAACICmHVAAAABHNCSVQICAgIfAhkiAAAAAlwSFlzAAALEgAACxIB0t1+/AAAADh0RVh0U29mdHdhcmUAbWF0cGxvdGxpYiB2ZXJzaW9uMy4yLjEsIGh0dHA6Ly9tYXRwbG90bGliLm9yZy+j8jraAAAXxUlEQVR4nO3dW2wU5f/H8ff2YLcCPYmCrdIDVSqVikZULvDYqIFQYmqkGCHxcKWJSrzRGEVMlCox0UtiGmKohxgtiBFr1CClgEa0J2uhFKS1lFqo9lza7Xb/F/uf+e3sbsXS3W6n+3klxnlmdrfP/NbP7/s8c9hxeDweRGTmi4l0B0Tkv1FYRWxCYRWxCYVVxCYUVhGbUFhFbCJuMi+eP3++JysrK0xdiZyOjo5IdyFs0tPTI92FsJit31lPTw9DQ0OOYNsmFdasrCyOHj0aml7NIFu3bo10F8Jmy5Ytke5CWMzW72zHjh0TbtMwWMQmFFYRm1BYRWxCYZ1mLpcr0l0Qm5rUASa5dJ2dnVRUVNDV1UVycjJFRUUsXrw40t0SG1FlDaHz58/z66+/curUqYBtRlABent7+eyzzyxVdnx8nBMnTlBTU0NPT8+09VnsQ5U1RBoaGti9ezfj4+MALFu2jOLiYgA8Hg/d3d2W1w8PDzM4OEhKSgoej4ePP/6YEydOABAXF0dJSQm5ubnTuxMyo6myhsj+/fvNoII3vH/99RcADoeDwsJCHI7/neu++eabSUlJAaCtrc0MKsDY2BgHDhyYpp6LXaiyhkhCQkLAOt8b+1euXMn4+DjffvstK1asYM2aNea2sbGxgPfGxOj/R8VK/0WEyP3334/T6TTby5cvZ+HChZbXuN1uwBpigOzsbMtlgXFxcdx1111h7K3YkSrrJairq6OhoQGn08nKlSvJyMggOzubF154gX379lFTU8PSpUsD3jc6Omr5tyEmJobbb7+d3bt3k5OTw9q1a0lNTQXgzJkz/PTTT7hcLpYtWxb0cyU6KKyTVFdXx+7du8328ePHeeaZZ0hJSSE+Pt4M2enTp7n++ust7x0ZGQECwwrw559/At4qa3xGd3c3O3fuNIfJTU1NrF+/nhtuuCH0OyYznobBk9TY2Ghpu1wuy8GhxMREwBtWf/8WVuP1RlABjh07FjCf9f/7Ej0U1km68sorA9alpaWZy0ZYz549y4ULFyyvM0LqfxXTwMAA58+fB6xh9V02+M+DJXoorJO0atUqlixZQlycdwZx9913W65EuvzyywHvQaS2tjbLeyeqrK2treayb0CXLl3KddddB8DcuXO55ZZbuOOOO0K4N2InmrNOktPpZMOGDfT39/POO++Y50oNRmWFwHnrRGE1hsAJCQlm2MF7Sqezs5OkpCQ2b95sOU8r0UeV9RLNmzePjIwMDh06ZDkV4x9WXxMdDTYqq/+w95dffqG/v5/8/HwFVRTWqcjLy+PcuXM0Nzeb63wro/+8NVhlHRoaMq8Z9q3SY2NjHDp0CIAbb7wxPDsgtqKwTsGSJUsAzFABXHbZZcTGxgKB81YjrC6Xy6zGE81Xa2pq6OvrIzU1lYyMjPDthNiGwjoFV111FampqbS1tZnnSSH4UNjj8VgqqrHsO1Q2wup2u6murgYgPz8/XN0Xm1FYp8iorka4wDoUNsLoP081Tt8Eq6w1NTX09vYCGgLL/yisU2SE9fjx45w7dw6wVlZj3moMgQ2jo6MMDw+bd+aAN6y+VXX+/Pk6ryomhXWKMjMzzXAePnwYsIbVmLcGC2tra6vlSHJKSgq1tbXmzecaAosvhXWKYmJizAsX6uvr6evrswyDwTsU9h8GG2E1zJs3D4fDwcGDB811GgKLL4U1BIyhsNvt5scff7RUVvCGNVhl9T+4VF9fb1bVBQsWBL20UaKXwhoCubm55umao0ePBtw4fvbsWfr6+izr+vv76ezsNNvJyclUVVWZbQ2BxZ/CGgIJCQkkJSUB3orpf2eMx+Ox3JkD0NLSYpmvtre3888//5jtBQsWhLHHYkcKaxj8/fffAetaWlos7ZMnT1ravkEVCUZhnSb+c1b/2+dELkZ33YRQfHw8L7744pQ+w+VyUVpaGqIeyWyisIaY/4GkydLjNWQiCmsIuVwu3nvvvUh3Q2YpzVlFbEJhFbEJhVXEJhRWEZvQAaYQio+P5+WXX57SZ4yMjLBt27YQ9UhmE4U1hMbHx6mrq5vSZxjPwxHxp7CGkNvttjxaQySUFNYQee655yLdBZnldIBJxCYUVhGbUFhFbEJhFbEJhVXEJhRWEZtQWEVsQmEVsQmFVcQmFFYRm1BYRWxiUtcGd3R0sHXr1nD1JWK2bNkS6S6EzWz8vmD2fmdffvnlhNtUWUVsQmEVsQmFVcQmFFYRm1BYRWxCYZWQ0GM/wk8/6yJT0tnZSUVFBV1dXSQnJ1NUVMTixYsj3a1ZSZVVLur8+fP8+uuvnDp1KmCbEVSA3t5ePvvsM0uVHR8f58SJE9TU1NDT0zNtfZ6NVFnlXzU0NLB7927Gx8cBWLZsGcXFxYD3ie7d3d2W1w8PDzM4OEhKSgoej4ePP/7YfOp7XFwcJSUl5ObmTu9OzBKqrPKv9u/fbwYVvOH966+/AHA4HBQWFuJwOMztN998MykpKQC0tbWZQQUYGxvjwIED09Tz2UeVVf5VQkJCwDqPx2Mur1y5kvHxcb799ltWrFjBmjVrzG1jY2MB742JUX24VPpfTv7V/fffj9PpNNvLly9n4cKFltcYTxHwDTFAdnY26enpZjsuLo677rorjL2d3VRZxVRXV0dDQwNOp5OVK1eSkZFBdnY2L7zwAvv27aOmpoalS5cGvG90dNTyb0NMTAy33347u3fvJicnh7Vr15KamgrAmTNn+Omnn3C5XCxbtizo54qVwiqAN6i+j/44fvw4zzzzDCkpKcTHx5shO336NNdff73lvSMjI0BgWAH+/PNPwFtljc/o7u5m586d5jC5qamJ9evXc8MNN4R+x2YRDYMFgMbGRkvb5XJZDg4lJiYC3rD6+7ewGq83ggpw7NixgPms/9+XQAqrAHDllVcGrEtLSzOXjbCePXuWCxcuWF5nhNT/KqaBgQHOnz8PWMPqu2zwnwdLIIVVAFi1ahVLliwhLs47M7r77rstVyJdfvnlgPcgUltbm+W9E1XW1tZWc9k3oEuXLuW6664DYO7cudxyyy3ccccdIdyb2UlzVgHA6XSyYcMG+vv7eeedd8xzpQajskLgvHWisBpD4ISEBDPs4D2l09nZSVJSEps3b7acp5WJqbKKxbx588jIyODQoUOWUzH+YfU10dFgo7L6D3t/+eUX+vv7yc/PV1AnQWGVAHl5eZw7d47m5mZznW9l9J+3BqusQ0ND5jXDvlV6bGyMQ4cOAXDjjTeGZwdmKYVVAixZsgTADBXAZZddRmxsLBA4bzXC6nK5zGo80Xy1pqaGvr4+UlNTycjICN9OzEIKqwS46qqrSE1Npa2tzTxPCsGHwh6Px1JRjWXfobIRVrfbTXV1NQD5+fnh6v6spbBKUEZ1NcIF1qGwEUb/eapx+iZYZa2pqaG3txfQEPhSKKwSlBHW48ePc+7cOcBaWY15qzEENoyOjjI8PGzemQPesPpW1fnz5+u86iVQWCWozMxMM5yHDx8GrGE15q3Bwtra2mo5kpySkkJtba1587mGwJdGYZWgYmJizAsX6uvr6evrswyDwTsU9h8GG2E1zJs3D4fDwcGDB811GgJfGoVVJmQMhd1uNz/++KOlsoI3rMEqq//Bpfr6erOqLliwIOiljXJxCqtMKDc31zxdc/To0YAbx8+ePUtfX59lXX9/P52dnWY7OTmZqqoqs60h8KVTWGVCCQkJJCUlAd6K6X9njMfjsdyZA9DS0mKZr7a3t/PPP/+Y7QULFoSxx7Obwir/2d9//x2wrqWlxdI+efKkpe0bVJkahVWmxH/O6n/7nISO7rqRi4qPj+fFF1+c0me4XC5KS0tD1KPopLDKf+J/IGmy9HiNqVNY5aJcLhfvvfdepLsR9TRnFbEJhVXEJhRWEZtQWEVsQgeY5KLi4+N5+eWXp/QZIyMjbNu2LUQ9ik4Kq1zU+Pg4dXV1U/oM43k4cukUVrkot9ttebSGRIbCKv/queeei3QX5P/pAJOITSisIjahsIrYhMIqYhMKq4hNKKwiNqGwitiEwipiEwqriE0orCI2obCK2ITCKmITk7qQPz09nS1btoSrLxGzdevWSHchbGbj9wWz9zvr6OiYcJsqq4hNKKwiNqGwitiEwipiEwqriE3M2LDqaWQiVjMurHV1dRQUFJCYmEhWVhbfffddpLskMiNEJKzNzc2UlZXx/fffB2x77LHHaGhoAKC1tZWSkhJLlR0fH6eyspKdO3fS1tY2bX0WibRp/3XDTz75hI0bNzI2NgbAo48+yocffgh4H3vf3NxseX13dzddXV0sWrQIj8fD2rVr2bdvHwBOp5M9e/bwwAMPTO9OiETAtFfWV155xQwqwEcffcRvv/0GgMPhoLS0lNjYWHP7E088waJFiwCorq42gwreee3rr78+TT0XiaxpD2tycnLAOt9fa9+8ebP5mIWnn36asrIyc9vIyEjAe+Pj48PQS5GZZ9rDun37dlJSUsz2448/zk033WR5jfGU7PHxccv6e+65h1tvvdVsO51OXn311TD2VmTmCGtYy8vLWb16NRs2bODnn38GvIHr6OjgySefBODhhx8OeF9/fz8Ag4ODlvWxsbE8++yzABQWFtLU1MS9994LwNGjR9m0aRPFxcV8/vnnYdsnkUgJ2wGmXbt2sWnTJrO9d+9efv/9dzIzM0lMTCQ7OxuA/fv3s3r1ast7+/r6ABgYGAj43MOHDwNw3333kZWVBUBLSwt33nknw8PDAFRUVFBRUcFDDz0U8v0SiZSwVdZPP/3U0h4aGuLrr78222lpaQD88MMPAe81KmuwsB44cACAnJwcc92ePXvMoE7090XsLmxhzc/PD1iXm5trLl9xxRUA1NTUmJXUMNEwuKuri6amJsAaVqNK+1q+fPkl9lxkZgpbWF966SWKiopwOp0AvPbaaxQWFprbjbC63W4OHjxoee9Ew+Cqqipz2TegxcXF5lD66quv5qmnnuL5558P4d6IRF7Y5qzJycl88cUXdHZ2kp6eHlD9jGEweIfCa9asMdsTDYONIXNSUpIZdvCe0qmtreXaa6+ltbUVh8MR6t0Ribiwn7pZuHAht912G2+//TYej8dc7xs2/3nrRGENNl8FeP/99+no6OCRRx5RUGXWmpbzrOvWraOxsZGvvvrKXOcbVv95q7HsO2ft7u6msbERsA6BR0dHeeuttwBYv359eHZAZAaYlrAWFRUBmKECmDNnDgkJCUDgvNWorENDQ2Y1rqqqMpd9K2tZWRnt7e3k5OSwYsWK8O6ISARNS1jz8/NZvHgx1dXVHDlyxFzvP28F78X8xvDX4/GY1dUYAsP/KqvL5aK0tBRQVZXZb9ouNwxWXYPNWwcGBixz22BhNSqr721yJSUl4em4yAwx7WHdu3cvx44dA4LPW40hsGFgYICenh7q6+vNdTk5ObhcLvOC/7y8PAoKCsK9CyIRNW1hXbVqFWlpaXg8HrZv3w5Yh8HGvNX/AomBgQGqqqrMi/odDgdZWVl88MEHnD59GtAQWKLDtIU1NjbWvHChvLycM2fOWCoreIfCwSqr7xA4PT2d2NhY3nzzTXOdhsASDab1Frl169YB3tMt77777n8K6+DgYMDBpV27dvHHH38AUFBQQF5eXph7LhJ50xrWBx980Dxds2PHDssvQoB33tre3m5Z19HRQW1trdnOzMzkjTfeMNsaAku0mNawzp07l2uuuQbwnkv1vzPG7XZbfrYFoLKy0vJLEkeOHOHkyZNmWweWJFpE9KdIW1paAtZVVlZa2t98842lferUqbD2SWSmmnG/G9zb22tp9/T0RKgnIjPLtP8UKXgvNZxqCAcHBy2/5SQy20UkrB6PJ+BA0mQNDQ2FqDci9hCRsA4NDQX9dQcRmdiMm7OKSHAKq4hNKKwiNqGwithERMI6Z84cPB7PlP7xv4ZYZLaLyNHgsbExysvLp/QZwR5SJTKbRSSsIyMjbNy4MRJ/WsS2pj2swa4HFpGL0wEmEZtQWEVsQmEVsQmFVcQmFFYRm1BYRWxCYRWxCYVVxCYUVhGbUFhFbEJhFbGJSV0b3NHRwdatW8PVl4jZsmVLpLsQNrPx+4LZ+519+eWXE25TZRWxCYVVxCYUVhGbUFhFbEJhFbEJhVXkIi5cuBDpLgAKq8iE6urqKCgoIDExkaysLL777ruI9kdhlajW3NxMWVkZ33//fcC2xx57jIaGBgBaW1spKSmxVNnx8XEqKyvZuXMnbW1tYe9rRH7dUGQm+OSTT9i4cSNjY2MAPProo3z44YeA90mHzc3Nltd3d3fT1dXFokWL8Hg8rF27ln379gHgdDrZs2cPDzzwQNj6q8oqUeuVV14xgwrw0Ucf8dtvvwHgcDgoLS0lNjbW3P7EE0+waNEiAKqrq82ggnde+/rrr4e1vwqrRK3k5OSAdW6321zevHkz27ZtA+Dpp5+mrKzM3BbsR+bj4+PD0Mv/UVglam3fvp2UlBSz/fjjj3PTTTdZXuNyuQDv/NTXPffcw6233mq2nU4nr776ahh7q7BKlCgvL2f16tVs2LCBn3/+GfAGrqOjgyeffBKAhx9+OOB9xjOVBgcHLetjY2N59tlnASgsLKSpqYl7770XgKNHj7Jp0yaKi4v5/PPPQ7YPOsAks96uXbvYtGmT2d67dy+///47mZmZJCYmkp2dDcD+/ftZvXq15b19fX0ADAwMBHzu4cOHAbjvvvvIysoCvE+cuPPOOxkeHgagoqKCiooKHnrooSnvhyqrzHqffvqppT00NMTXX39tttPS0gD44YcfAt5rVNZgYT1w4AAAOTk55ro9e/aYQZ3o718qhVVmvfz8/IB1ubm55vIVV1wBQE1NjVlJDRMNg7u6umhqagKsYTWqtK/ly5dfYs+tFFaZ9V566SWKiopwOp0AvPbaaxQWFprbjbC63W4OHjxoee9Ew+Cqqipz2TegxcXF5lD66quv5qmnnuL5558PyX5oziqzXnJyMl988QWdnZ2kp6cHVD9jGAzeofCaNWvM9kTDYGPInJSUZIYdvKd0amtrufbaa2ltbcXhcIRsP1RZJWosXLiQ2267jbfffhuPx2Ou9w2b/7x1orAGm68CvP/++3R0dPDII4+ENKigsEqUWbduHY2NjXz11VfmOt+w+s9bjWXfOWt3dzeNjY2AdQg8OjrKW2+9BcD69etD3neFVaJKUVERgBkqgDlz5pCQkAAEzluNyjo0NGRW46qqKnPZt7KWlZXR3t5OTk4OK1asCHnfFVaJKvn5+SxevJjq6mqOHDlirveft4L3Yn5j+OvxeMzqagyB4X+V1eVyUVpaCoSnqoLCKlEoWHUNNm8dGBiwzG2DhdWorL63yZWUlISl3wqrRB0jrHv37uXYsWNA8HmrMQQ2DAwM0NPTQ319vbkuJycHl8tlXvCfl5dHQUFBWPqtsErUWbVqFWlpaXg8HrZv3w5Yh8HGvNX/AomBgQGqqqrMi/odDgdZWVl88MEHnD59GgjfEBgUVolCsbGx5oUL5eXlnDlzxlJZwTsUDlZZfYfA6enpxMbG8uabb5rrwjUEBoVVotS6desA7+mWd9999z+FdXBwMODg0q5du/jjjz8AKCgoIC8vL2x9VlglKj344IPm6ZodO3ZYfhECvPPW9vZ2y7qOjg5qa2vNdmZmJm+88YbZDucQGBRWiVJz587lmmuuAbznUv3vjHG73ZafbQGorKy0/JLEkSNHOHnypNkO14Elg8Iqgvc+VH+VlZWW9jfffGNpnzp1Kqx98qewikygt7fX0u7p6YlQT7x0141EtTlz5kw5hIODg5bfcgoXhVWimsfjCTiQNFlDQ0Mh6s2/U1glqg0NDQX9dYeZSHNWEZtQWEVsQmEVsQmFVcQmFFaJanPmzMHj8UzpH/9riMNFR4Mlqo2NjVFeXj6lzwj2kKpwUFglqo2MjLBx48ZId+M/UVglagW7Hngm05xVxCYUVhGbUFhFbEJhFbEJhVXEJhRWEZtQWEVsQmEVsQmFVcQmFFYRm1BYRWxCYRWxCYfv8ycv+mKH4xzQGr7uiES9TI/Hc2WwDZMKq4hEjobBIjahsIrYhMIqYhMKq4hNKKwiNqGwitiEwipiEwqriE0orCI28X+TkLf45h0NJwAAAABJRU5ErkJggg==\n",
      "text/plain": [
       "<Figure size 432x288 with 1 Axes>"
      ]
     },
     "metadata": {},
     "output_type": "display_data"
    },
    {
     "data": {
      "text/plain": [
       "array([2, 0, 1, 3])"
      ]
     },
     "execution_count": 170,
     "metadata": {},
     "output_type": "execute_result"
    }
   ],
   "source": [
    "SHC(debug=True)"
   ]
  },
  {
   "cell_type": "markdown",
   "metadata": {},
   "source": [
    "## First-choice Hill Climbing [1 Point]\n",
    "\n",
    "First-choice hill climbing is a type of stochastic hill climbing that generates one random local neighbor at a time and accept it if it has a better objective function value than the current state."
   ]
  },
  {
   "cell_type": "code",
   "execution_count": 171,
   "metadata": {},
   "outputs": [],
   "source": [
    "# Code goes here\n",
    "# Code goes here\n",
    "def FCHC(board=None, n=4, debug=False, max_steps=1000000, stop_after=1000):\n",
    "    # 1. initialize current board\n",
    "    if board is None:\n",
    "        curr_board = np.array(random_board(n)).copy()\n",
    "    else:\n",
    "        curr_board = np.array(board).copy()\n",
    "    if debug:\n",
    "        show_board(curr_board)\n",
    "    # initialize number of conflicts\n",
    "    curr_conflicts = conflicts(curr_board)\n",
    "    if curr_conflicts == 0:\n",
    "        return curr_board\n",
    "    if debug:\n",
    "        print(f\"Initial Number of conflicts: {curr_conflicts}\")\n",
    "    # step when we last improved the length\n",
    "    last_improvement_step = 0\n",
    "    # 2. repeat local moves\n",
    "    for step in range(max_steps):\n",
    "        if curr_conflicts == 0:\n",
    "            break\n",
    "        # check neighbor\n",
    "        random_neighbor = getDesiredNeighbor(curr_board, method='First Choice')\n",
    "        random_neighbor_conflicts = conflicts(random_neighbor)\n",
    "        if debug:\n",
    "            print('Current conflict', curr_conflicts)\n",
    "            print('The neighbor:', random_neighbor, 'with', random_neighbor_conflicts, 'conflicts is chosen')\n",
    "            show_board(random_neighbor)\n",
    "        # if we cannot find a better neighbor\n",
    "        if (random_neighbor_conflicts > curr_conflicts) | isSame(random_neighbor, curr_board):\n",
    "            # exit loop\n",
    "            break\n",
    "        # else, set the current board and conflicts to the best neighbor's\n",
    "        else:\n",
    "            curr_board, curr_conflicts = random_neighbor, random_neighbor_conflicts\n",
    "        # stop if we did not improve for stop_after steps\n",
    "        if step - last_improvement_step > stop_after: \n",
    "            if debug: \n",
    "                print(f\"step: {step} - no improvement for {stop_after} steps.\")\n",
    "            break\n",
    "    if debug:\n",
    "        print('The best board is', curr_board, 'with', curr_conflicts, 'number of conflicts')\n",
    "        show_board(curr_board)\n",
    "    return curr_board"
   ]
  },
  {
   "cell_type": "code",
   "execution_count": 172,
   "metadata": {},
   "outputs": [
    {
     "name": "stdout",
     "output_type": "stream",
     "text": [
      "Board with 4 conflicts.\n"
     ]
    },
    {
     "data": {
      "image/png": "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\n",
      "text/plain": [
       "<Figure size 432x288 with 1 Axes>"
      ]
     },
     "metadata": {},
     "output_type": "display_data"
    },
    {
     "name": "stdout",
     "output_type": "stream",
     "text": [
      "Initial Number of conflicts: 4\n",
      "Current conflict 4\n",
      "The neighbor: [0 1 3 1] with 2 conflicts is chosen\n",
      "Board with 2 conflicts.\n"
     ]
    },
    {
     "data": {
      "image/png": "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\n",
      "text/plain": [
       "<Figure size 432x288 with 1 Axes>"
      ]
     },
     "metadata": {},
     "output_type": "display_data"
    },
    {
     "name": "stdout",
     "output_type": "stream",
     "text": [
      "Current conflict 2\n",
      "The neighbor: [0 2 3 1] with 1 conflicts is chosen\n",
      "Board with 1 conflicts.\n"
     ]
    },
    {
     "data": {
      "image/png": "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\n",
      "text/plain": [
       "<Figure size 432x288 with 1 Axes>"
      ]
     },
     "metadata": {},
     "output_type": "display_data"
    },
    {
     "name": "stdout",
     "output_type": "stream",
     "text": [
      "Current conflict 1\n",
      "The neighbor: [0 2 3 1] with 1 conflicts is chosen\n",
      "Board with 1 conflicts.\n"
     ]
    },
    {
     "data": {
      "image/png": "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\n",
      "text/plain": [
       "<Figure size 432x288 with 1 Axes>"
      ]
     },
     "metadata": {},
     "output_type": "display_data"
    },
    {
     "name": "stdout",
     "output_type": "stream",
     "text": [
      "The best board is [0 2 3 1] with 1 number of conflicts\n",
      "Board with 1 conflicts.\n"
     ]
    },
    {
     "data": {
      "image/png": "iVBORw0KGgoAAAANSUhEUgAAAOsAAADrCAYAAACICmHVAAAABHNCSVQICAgIfAhkiAAAAAlwSFlzAAALEgAACxIB0t1+/AAAADh0RVh0U29mdHdhcmUAbWF0cGxvdGxpYiB2ZXJzaW9uMy4yLjEsIGh0dHA6Ly9tYXRwbG90bGliLm9yZy+j8jraAAAXvklEQVR4nO3dWWxU5f/H8fd0sVOBbqJgq3ShSqVS0YjKBa6NGgglpkaKERKXK01U4o3GKGKiVImJXhLTEENdYrQgRqxRg5QCGtFu1kIpSGsptVAtXWmn0/lfzP+c35yZqQid6fTMfF6J8Txnlj7nN35+3+c5q8Pj8SAiM19cpDsgIv+NwipiEwqriE0orCI2obCK2ITCKmITCRfz5rlz53pycnLC1JXI6erqinQXwiYzMzPSXQiLaP3N+vr6GB4edgR77aLCmpOTw+HDh0PTqxlk8+bNke5C2GzatCnSXQiLaP3Ntm3bNulrGgaL2ITCKmITCquITczYsJ4/fz7SXRCZUWZcWBsaGigqKiI5OZmcnBy+++67SHdJZEaISFhbW1upqKjg+++/D3jtscceo6mpCYD29nbKysosVXZiYoLq6mq2b99OR0fHtPVZJNIu6tBNKHzyySesX7+e8fFxAB599FE+/PBDADweD62trZb39/b20tPTw4IFC/B4PKxevZo9e/YA4HQ62bVrFw888MD0boRIBEx7ZX3llVfMoAJ89NFH/PbbbwA4HA7Ky8uJj483X3/iiSdYsGABALW1tWZQwTuvff3116ep5yKRNe1hTU1NDVjndrvN5Y0bN7JlyxYAnn76aSoqKszXRkdHAz6bmJgYhl6KzDzTHtatW7eSlpZmth9//HFuuukmy3tcLhfgnZ/6uueee7j11lvNttPp5NVXXw1jb0VmjrCGtbKykpUrV7Ju3Tp+/vlnwBu4rq4unnzySQAefvjhgM8NDAwAMDQ0ZFkfHx/Ps88+C0BxcTEtLS3ce++9ABw+fJgNGzZQWlrK559/HrZtEomUsO1g2rFjBxs2bDDbu3fv5vfffyc7O5vk5GRyc3MB2Lt3LytXrrR8tr+/H4DBwcGA7z148CAA9913H8ZFBW1tbdx5552MjIwAUFVVRVVVFQ899FDIt0skUsJWWT/99FNLe3h4mK+//tpsZ2RkAPDDDz8EfNaorMHCum/fPgDy8vLMdbt27TKDOtnfF7G7sIW1sLAwYF1+fr65fMUVVwBQV1dnVlLDZMPgnp4eWlpaAGtYjSrta+nSpZfYc5GZKWxhfemllygpKcHpdALw2muvUVxcbL5uhNXtdrN//37LZycbBtfU1JjLvgEtLS01h9JXX301Tz31FM8//3wIt0Yk8sI2Z01NTeWLL76gu7ubzMzMgOpnDIPBOxRetWqV2Z5sGGwMmVNSUsywg/eQTn19Pddeey3t7e04HEGv3RWxtbAfupk/fz633XYbb7/9Nr43FPcNm/+8dbKwBpuvArz//vt0dXXxyCOPKKgStablOOuaNWtobm7mq6++Mtf5htV/3mos+85Ze3t7aW5uBqxD4LGxMd566y0A1q5dG54NEJkBpiWsJSUlAGaoAGbNmkVSUhIQOG81Kuvw8LBZjWtqasxl38paUVFBZ2cneXl5LFu2LLwbIhJB0xLWwsJCFi5cSG1tLYcOHTLX+89bwXsyvzH89Xg8ZnU1hsDwv8rqcrkoLy8HVFUl+k3b6YbBqmuweevg4KBlbhssrEZl9b1MrqysLDwdF5khpj2su3fv5siRI0DweasxBDYMDg7S19dHY2OjuS4vLw+Xy2We8F9QUEBRUVG4N0EkoqYtrCtWrCAjIwOPx8PWrVsB6zDYmLf6nyAxODhITU2NeVK/w+EgJyeHDz74gJMnTwIaAktsmLawxsfHmycuVFZWcurUKUtlBe9QOFhl9R0CZ2ZmEh8fz5tvvmmu0xBYYsG0XiK3Zs0awHu45d133/1PYR0aGgrYubRjxw7++OMPAIqKiigoKAhzz0Uib1rD+uCDD5qHa7Zt22a5IwR4562dnZ2WdV1dXdTX15vt7Oxs3njjDbOtIbDEimkN6+zZs7nmmmsA77FU/ytj3G635bYtANXV1ZY7SRw6dIjjx4+bbe1YklgR0VuRtrW1Bayrrq62tL/55htL+8SJE2Htk8hMNePuG3zu3DlLu6+vL0I9EZlZpv1WpOA91XCqIRwaGrLcy0kk2kUkrB6PJ2BH0sUaHh4OUW9E7CEiYR0eHg56dwcRmdyMm7OKSHAKq4hNKKwiNqGwithERMI6a9YsPB7PlP7xP4dYJNpFZG/w+Pg4lZWVU/qOYA+pEolmEQnr6Ogo69evj8SfFrGtaQ9rsPOBReTCtINJxCYUVhGbUFhFbEJhFbEJhVXEJhRWEZtQWEVsQmEVsQmFVcQmFFYRm1BYRWzios4N7urqYvPmzeHqS8Rs2rQp0l0Im2j8vSB6f7Mvv/xy0tdUWUVsQmEVsQmFVcQmFFYRm1BYRWxCYRW5gPPnz0e6C4DCKjKphoYGioqKSE5OJicnh++++y6i/VFYJaa1trZSUVHB999/H/DaY489RlNTEwDt7e2UlZVZquzExATV1dVs376djo6OsPc1Inc3FJkJPvnkE9avX8/4+DgAjz76KB9++CHgfdJha2ur5f29vb309PSwYMECPB4Pq1evZs+ePQA4nU527drFAw88ELb+qrJKzHrllVfMoAJ89NFH/PbbbwA4HA7Ky8uJj483X3/iiSdYsGABALW1tWZQwTuvff3118PaX4VVYlZqamrAOrfbbS5v3LiRLVu2APD0009TUVFhvhbsJvOJiYlh6OX/KKwSs7Zu3UpaWprZfvzxx7npppss73G5XIB3furrnnvu4dZbbzXbTqeTV199NYy9VVglRlRWVrJy5UrWrVvHzz//DHgD19XVxZNPPgnAww8/HPA545lKQ0NDlvXx8fE8++yzABQXF9PS0sK9994LwOHDh9mwYQOlpaV8/vnnIdsG7WCSqLdjxw42bNhgtnfv3s3vv/9OdnY2ycnJ5ObmArB3715Wrlxp+Wx/fz8Ag4ODAd978OBBAO677z5ycnIA7xMn7rzzTkZGRgCoqqqiqqqKhx56aMrbocoqUe/TTz+1tIeHh/n666/NdkZGBgA//PBDwGeNyhosrPv27QMgLy/PXLdr1y4zqJP9/UulsErUKywsDFiXn59vLl9xxRUA1NXVmZXUMNkwuKenh5aWFsAaVqNK+1q6dOkl9txKYZWo99JLL1FSUoLT6QTgtddeo7i42HzdCKvb7Wb//v2Wz042DK6pqTGXfQNaWlpqDqWvvvpqnnrqKZ5//vmQbIfmrBL1UlNT+eKLL+ju7iYzMzOg+hnDYPAOhVetWmW2JxsGG0PmlJQUM+zgPaRTX1/PtddeS3t7Ow6HI2TbocoqMWP+/PncdtttvP3223g8HnO9b9j8562ThTXYfBXg/fffp6uri0ceeSSkQQWFVWLMmjVraG5u5quvvjLX+YbVf95qLPvOWXt7e2lubgasQ+CxsTHeeustANauXRvyviusElNKSkoAzFABzJo1i6SkJCBw3mpU1uHhYbMa19TUmMu+lbWiooLOzk7y8vJYtmxZyPuusEpMKSwsZOHChdTW1nLo0CFzvf+8Fbwn8xvDX4/HY1ZXYwgM/6usLpeL8vJyIDxVFRRWiUHBqmuweevg4KBlbhssrEZl9b1MrqysLCz9Vlgl5hhh3b17N0eOHAGCz1uNIbBhcHCQvr4+GhsbzXV5eXm4XC7zhP+CggKKiorC0m+FVWLOihUryMjIwOPxsHXrVsA6DDbmrf4nSAwODlJTU2Oe1O9wOMjJyeGDDz7g5MmTQPiGwKCwSgyKj483T1yorKzk1KlTlsoK3qFwsMrqOwTOzMwkPj6eN99801wXriEwKKwSo9asWQN4D7e8++67/ymsQ0NDATuXduzYwR9//AFAUVERBQUFYeuzwiox6cEHHzQP12zbts1yRwjwzls7Ozst67q6uqivrzfb2dnZvPHGG2Y7nENgUFglRs2ePZtrrrkG8B5L9b8yxu12W27bAlBdXW25k8ShQ4c4fvy42Q7XjiWDwiqC9zpUf9XV1Zb2N998Y2mfOHEirH3yp7CKTOLcuXOWdl9fX4R64qWrbiSmzZo1a8ohHBoastzLKVwUVolpHo8nYEfSxRoeHg5Rb/6dwioxbXh4OOjdHWYizVlFbEJhFbEJhVXEJhRWEZtQWCWmzZo1C4/HM6V//M8hDhftDZaYNj4+TmVl5ZS+I9hDqsJBYZWYNjo6yvr16yPdjf9EYZWYFex84JlMc1YRm1BYRWxCYRWxCYVVxCYUVhGbUFhFbEJhFbEJhVXEJhRWEZtQWEVsQmEVsQmFVcQmLupE/szMTDZt2hSuvkTM5s2bI92FsInG3wui9zfr6uqa9DVVVhGbUFhFbEJhFbEJhVXEJhRWEZtQWKeZy+WKdBfEpnQPpmnS3d1NVVUVPT09pKamUlJSwsKFCyPdLbERVdYQOnv2LL/++mvQh+waQQXvcz8/++wzS5WdmJjg2LFj1NXVRfw5oDIzqbKGSFNTEzt37mRiYgKAJUuWUFpaCngfK9jb22t5/8jIiPlcT4/Hw8cff8yxY8cASEhIoKysjPz8/OndCJnRVFlDZO/evWZQwRvev/76CwCHw0FxcTEOh8N8/eabbzYfwNvR0WEGFbw3nt63b9809VzsQpU1RJKSkgLWeTwec3n58uVMTEzw7bffsmzZMlatWmW+Nj4+HvDZuDj9/6hY6b+IELn//vtxOp1me+nSpcyfP9/yHrfbDVhDDJCbm0tmZqbZTkhI4K677gpjb8WOVFkvQUNDA01NTTidTpYvX05WVha5ubm88MIL7Nmzh7q6OhYvXhzwubGxMcu/DXFxcdx+++3s3LmTvLw8Vq9eTXp6OgCnTp3ip59+wuVysWTJkqDfK7FBYb1IDQ0N7Ny502wfPXqUZ555hrS0NBITE82QnTx5kuuvv97yWeMBRv5hBfjzzz8Bb5U1vqO3t5ft27ebw+SWlhbWrl3LDTfcEPoNkxlPw+CL1NzcbGm7XC7LzqHk5GTAG1Z//xZW4/1GUAGOHDkSMJ/1//sSOxTWi3TllVcGrMvIyDCXjbCePn2a8+fPW95nhNT/LKbBwUHOnj0LWMPqu2zwnwdL7FBYL9KKFStYtGgRCQneGcTdd99tORPp8ssvB7w7kTo6Oiyfnayytre3m8u+AV28eDHXXXcdALNnz+aWW27hjjvuCOHWiJ1oznqRnE4n69atY2BggHfeecc8VmowKisEzlsnC6sxBE5KSjLDDt5DOt3d3aSkpLBx40bLcVqJPaqsl2jOnDlkZWVx4MABy6EY/7D6mmxvsFFZ/Ye9v/zyCwMDAxQWFiqoorBORUFBAWfOnKG1tdVc51sZ/eetwSrr8PCwec6wb5UeHx/nwIEDANx4443h2QCxFYV1ChYtWgRghgrgsssuIz4+HgictxphdblcZjWebL5aV1dHf38/6enpZGVlhW8jxDYU1im46qqrSE9Pp6OjwzxOCsGHwh6Px1JRjWXfobIRVrfbTW1tLQCFhYXh6r7YjMI6RUZ1NcIF1qGwEUb/eapx+CZYZa2rq+PcuXOAhsDyPwrrFBlhPXr0KGfOnAGsldWYtxpDYMPY2BgjIyPmlTngDatvVZ07d66Oq4pJYZ2i7OxsM5wHDx4ErGE15q3Bwtre3m7Zk5yWlkZ9fb158bmGwOJLYZ2iuLg488SFxsZG+vv7LcNg8A6F/YfBRlgNc+bMweFwsH//fnOdhsDiS2ENAWMo7Ha7+fHHHy2VFbxhDVZZ/XcuNTY2mlV13rx5QU9tlNilsIZAfn6+ebjm8OHDAReOnz59mv7+fsu6gYEBuru7zXZqaio1NTVmW0Ng8aewhkBSUhIpKSmAt2L6Xxnj8XgsV+YAtLW1WearnZ2d/PPPP2Z73rx5Yeyx2JHCGgZ///13wLq2tjZL+/jx45a2b1BFglFYp4n/nNX/8jmRC9FVNyGUmJjIiy++OKXvcLlclJeXh6hHEk0U1hDz35F0sfR4DZmMwhpCLpeL9957L9LdkCilOauITSisIjahsIrYhMIqYhPawRRCiYmJvPzyy1P6jtHRUbZs2RKiHkk0UVhDaGJigoaGhil9h/E8HBF/CmsIud1uy6M1REJJYQ2R5557LtJdkCinHUwiNqGwitiEwipiEwqriE0orCI2obCK2ITCKmITCquITSisIjahsIrYhMIqYhMXdW5wV1cXmzdvDldfImbTpk2R7kLYROPvBdH7m3355ZeTvqbKKmITCquITSisIjahsIrYhMIqYhMKq4SEHvsRfrqti0xJd3c3VVVV9PT0kJqaSklJCQsXLox0t6KSKqtc0NmzZ/n11185ceJEwGtGUAHOnTvHZ599ZqmyExMTHDt2jLq6Ovr6+qatz9FIlVX+VVNTEzt37mRiYgKAJUuWUFpaCnif6N7b22t5/8jICENDQ6SlpeHxePj444/Np74nJCRQVlZGfn7+9G5ElFBllX+1d+9eM6jgDe9ff/0FgMPhoLi4GIfDYb5+8803k5aWBkBHR4cZVIDx8XH27ds3TT2PPqqs8q+SkpIC1nk8HnN5+fLlTExM8O2337Js2TJWrVplvjY+Ph7w2bg41YdLpf/l5F/df//9OJ1Os7106VLmz59veY/xFAHfEAPk5uaSmZlpthMSErjrrrvC2NvopsoqpoaGBpqamnA6nSxfvpysrCxyc3N54YUX2LNnD3V1dSxevDjgc2NjY5Z/G+Li4rj99tvZuXMneXl5rF69mvT0dABOnTrFTz/9hMvlYsmSJUG/V6wUVgG8QfV99MfRo0d55plnSEtLIzEx0QzZyZMnuf766y2fHR0dBQLDCvDnn38C3iprfEdvby/bt283h8ktLS2sXbuWG264IfQbFkU0DBYAmpubLW2Xy2XZOZScnAx4w+rv38JqvN8IKsCRI0cC5rP+f18CKawCwJVXXhmwLiMjw1w2wnr69GnOnz9veZ8RUv+zmAYHBzl79ixgDavvssF/HiyBFFYBYMWKFSxatIiEBO/M6O6777aciXT55ZcD3p1IHR0dls9OVlnb29vNZd+ALl68mOuuuw6A2bNnc8stt3DHHXeEcGuik+asAoDT6WTdunUMDAzwzjvvmMdKDUZlhcB562RhNYbASUlJZtjBe0inu7ublJQUNm7caDlOK5NTZRWLOXPmkJWVxYEDByyHYvzD6muyvcFGZfUf9v7yyy8MDAxQWFiooF4EhVUCFBQUcObMGVpbW811vpXRf94arLIODw+b5wz7Vunx8XEOHDgAwI033hieDYhSCqsEWLRoEYAZKoDLLruM+Ph4IHDeaoTV5XKZ1Xiy+WpdXR39/f2kp6eTlZUVvo2IQgqrBLjqqqtIT0+no6PDPE4KwYfCHo/HUlGNZd+hshFWt9tNbW0tAIWFheHqftRSWCUoo7oa4QLrUNgIo/881Th8E6yy1tXVce7cOUBD4EuhsEpQRliPHj3KmTNnAGtlNeatxhDYMDY2xsjIiHllDnjD6ltV586dq+Oql0BhlaCys7PNcB48eBCwhtWYtwYLa3t7u2VPclpaGvX19ebF5xoCXxqFVYKKi4szT1xobGykv7/fMgwG71DYfxhshNUwZ84cHA4H+/fvN9dpCHxpFFaZlDEUdrvd/Pjjj5bKCt6wBqus/juXGhsbzao6b968oKc2yoUprDKp/Px883DN4cOHAy4cP336NP39/ZZ1AwMDdHd3m+3U1FRqamrMtobAl05hlUklJSWRkpICeCum/5UxHo/HcmUOQFtbm2W+2tnZyT///GO2582bF8YeRzeFVf6zv//+O2BdW1ubpX38+HFL2zeoMjUKq0yJ/5zV//I5CR1ddSMXlJiYyIsvvjil73C5XJSXl4eoR7FJYZX/xH9H0sXS4zWmTmGVC3K5XLz33nuR7kbM05xVxCYUVhGbUFhFbEJhFbEJ7WCSC0pMTOTll1+e0neMjo6yZcuWEPUoNimsckETExM0NDRM6TuM5+HIpVNY5YLcbrfl0RoSGQqr/Kvnnnsu0l2Q/6cdTCI2obCK2ITCKmITCquITSisIjahsIrYhMIqYhMKq4hNKKwiNqGwitiEwipiEwqriE04fO+efsE3OxxngPYLvlFELlW2x+MJ+jCgiwqriESOhsEiNqGwitiEwipiEwqriE0orCI2obCK2ITCKmITCquITSisIjbxfwVOt/gyLCFbAAAAAElFTkSuQmCC\n",
      "text/plain": [
       "<Figure size 432x288 with 1 Axes>"
      ]
     },
     "metadata": {},
     "output_type": "display_data"
    },
    {
     "data": {
      "text/plain": [
       "array([0, 2, 3, 1])"
      ]
     },
     "execution_count": 172,
     "metadata": {},
     "output_type": "execute_result"
    }
   ],
   "source": [
    "FCHC(debug=True)"
   ]
  },
  {
   "cell_type": "markdown",
   "metadata": {},
   "source": [
    "## Simulated Annealing [2 Points]\n",
    "\n",
    "You have to experiment with the annealing schedule."
   ]
  },
  {
   "cell_type": "code",
   "execution_count": 177,
   "metadata": {},
   "outputs": [],
   "source": [
    "# Code goes here\n",
    "def SA(board=None, n=4, T0=None, alpha=0.999, epsilon=1e-3, debug=False):\n",
    "    # 1. initialize current board\n",
    "    if board is None:\n",
    "        curr_board = np.array(random_board(n)).copy()\n",
    "    else:\n",
    "        curr_board = np.array(board).copy()\n",
    "    if debug:\n",
    "        show_board(curr_board)\n",
    "    # initialize number of conflicts\n",
    "    curr_conflicts = conflicts(curr_board)\n",
    "    if curr_conflicts == 0:\n",
    "        return curr_board\n",
    "    if debug:\n",
    "        print(f\"Initial Number of conflicts: {curr_conflicts}\")\n",
    "    if T0 is None:\n",
    "        T0 = curr_conflicts\n",
    "    \n",
    "    # 2. repeat local moves till temperature is low enough\n",
    "    T = T0\n",
    "    t = 0\n",
    "    \n",
    "    while T > epsilon:\n",
    "        # calculate temperature\n",
    "        T = T0 * alpha **t\n",
    "        \n",
    "        # choose neighbor randomly\n",
    "        neighbors = getNeighbors(curr_board)\n",
    "        new_board = random.choice(neighbors)\n",
    "        new_conflicts = conflicts(new_board)\n",
    "        \n",
    "        if new_conflicts == 0:\n",
    "            break;\n",
    "        \n",
    "        deltaE = new_conflicts - curr_conflicts\n",
    "        \n",
    "        if deltaE < 0 or np.random.rand() < math.exp(-deltaE/T):\n",
    "            curr_board, curr_conflicts = new_board, new_conflicts\n",
    "            if debug: \n",
    "                print(f\"step: {t} \\t temp: {T:5.3f} \\t deltaE: {deltaE:+3.3f} \\t new conflicts: {curr_conflicts:3.3f}\")\n",
    "        \n",
    "        t += 1\n",
    "        \n",
    "    if debug:\n",
    "        show_board(curr_board)\n",
    "    return curr_board"
   ]
  },
  {
   "cell_type": "code",
   "execution_count": 178,
   "metadata": {},
   "outputs": [
    {
     "name": "stdout",
     "output_type": "stream",
     "text": [
      "Board with 4 conflicts.\n"
     ]
    },
    {
     "data": {
      "image/png": "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\n",
      "text/plain": [
       "<Figure size 432x288 with 1 Axes>"
      ]
     },
     "metadata": {},
     "output_type": "display_data"
    },
    {
     "name": "stdout",
     "output_type": "stream",
     "text": [
      "Initial Number of conflicts: 4\n",
      "step: 0 \t temp: 4.000 \t deltaE: -1.000 \t new conflicts: 3.000\n",
      "step: 1 \t temp: 3.996 \t deltaE: -2.000 \t new conflicts: 1.000\n",
      "step: 3 \t temp: 3.988 \t deltaE: +3.000 \t new conflicts: 4.000\n",
      "step: 4 \t temp: 3.984 \t deltaE: +0.000 \t new conflicts: 4.000\n",
      "step: 5 \t temp: 3.980 \t deltaE: +0.000 \t new conflicts: 4.000\n",
      "step: 6 \t temp: 3.976 \t deltaE: +1.000 \t new conflicts: 5.000\n",
      "step: 7 \t temp: 3.972 \t deltaE: -1.000 \t new conflicts: 4.000\n",
      "step: 8 \t temp: 3.968 \t deltaE: -2.000 \t new conflicts: 2.000\n",
      "step: 9 \t temp: 3.964 \t deltaE: +2.000 \t new conflicts: 4.000\n",
      "step: 10 \t temp: 3.960 \t deltaE: +2.000 \t new conflicts: 6.000\n",
      "step: 11 \t temp: 3.956 \t deltaE: -3.000 \t new conflicts: 3.000\n",
      "step: 12 \t temp: 3.952 \t deltaE: +0.000 \t new conflicts: 3.000\n",
      "step: 13 \t temp: 3.948 \t deltaE: +1.000 \t new conflicts: 4.000\n",
      "step: 14 \t temp: 3.944 \t deltaE: -2.000 \t new conflicts: 2.000\n",
      "step: 15 \t temp: 3.940 \t deltaE: -1.000 \t new conflicts: 1.000\n",
      "step: 17 \t temp: 3.933 \t deltaE: +1.000 \t new conflicts: 2.000\n",
      "step: 18 \t temp: 3.929 \t deltaE: +0.000 \t new conflicts: 2.000\n",
      "step: 19 \t temp: 3.925 \t deltaE: +2.000 \t new conflicts: 4.000\n",
      "step: 20 \t temp: 3.921 \t deltaE: -2.000 \t new conflicts: 2.000\n",
      "step: 21 \t temp: 3.917 \t deltaE: +0.000 \t new conflicts: 2.000\n",
      "step: 22 \t temp: 3.913 \t deltaE: +1.000 \t new conflicts: 3.000\n",
      "step: 23 \t temp: 3.909 \t deltaE: +1.000 \t new conflicts: 4.000\n",
      "step: 24 \t temp: 3.905 \t deltaE: +0.000 \t new conflicts: 4.000\n",
      "step: 25 \t temp: 3.901 \t deltaE: +0.000 \t new conflicts: 4.000\n",
      "step: 26 \t temp: 3.897 \t deltaE: -2.000 \t new conflicts: 2.000\n",
      "step: 27 \t temp: 3.893 \t deltaE: +1.000 \t new conflicts: 3.000\n",
      "step: 28 \t temp: 3.889 \t deltaE: -2.000 \t new conflicts: 1.000\n",
      "step: 29 \t temp: 3.886 \t deltaE: +2.000 \t new conflicts: 3.000\n",
      "step: 30 \t temp: 3.882 \t deltaE: +1.000 \t new conflicts: 4.000\n",
      "step: 31 \t temp: 3.878 \t deltaE: -1.000 \t new conflicts: 3.000\n",
      "step: 32 \t temp: 3.874 \t deltaE: -1.000 \t new conflicts: 2.000\n",
      "step: 33 \t temp: 3.870 \t deltaE: +0.000 \t new conflicts: 2.000\n",
      "step: 35 \t temp: 3.862 \t deltaE: +2.000 \t new conflicts: 4.000\n",
      "step: 36 \t temp: 3.858 \t deltaE: +1.000 \t new conflicts: 5.000\n",
      "step: 37 \t temp: 3.855 \t deltaE: -3.000 \t new conflicts: 2.000\n",
      "step: 38 \t temp: 3.851 \t deltaE: +1.000 \t new conflicts: 3.000\n",
      "step: 39 \t temp: 3.847 \t deltaE: +1.000 \t new conflicts: 4.000\n",
      "step: 40 \t temp: 3.843 \t deltaE: +1.000 \t new conflicts: 5.000\n",
      "step: 41 \t temp: 3.839 \t deltaE: -1.000 \t new conflicts: 4.000\n",
      "step: 42 \t temp: 3.835 \t deltaE: -2.000 \t new conflicts: 2.000\n",
      "step: 43 \t temp: 3.832 \t deltaE: +0.000 \t new conflicts: 2.000\n",
      "step: 44 \t temp: 3.828 \t deltaE: +2.000 \t new conflicts: 4.000\n",
      "step: 45 \t temp: 3.824 \t deltaE: +0.000 \t new conflicts: 4.000\n",
      "step: 46 \t temp: 3.820 \t deltaE: +0.000 \t new conflicts: 4.000\n",
      "step: 47 \t temp: 3.816 \t deltaE: -3.000 \t new conflicts: 1.000\n",
      "step: 51 \t temp: 3.801 \t deltaE: +3.000 \t new conflicts: 4.000\n",
      "step: 52 \t temp: 3.797 \t deltaE: +1.000 \t new conflicts: 5.000\n",
      "step: 53 \t temp: 3.793 \t deltaE: -1.000 \t new conflicts: 4.000\n",
      "step: 54 \t temp: 3.790 \t deltaE: -2.000 \t new conflicts: 2.000\n",
      "step: 55 \t temp: 3.786 \t deltaE: +2.000 \t new conflicts: 4.000\n",
      "step: 56 \t temp: 3.782 \t deltaE: -1.000 \t new conflicts: 3.000\n",
      "step: 57 \t temp: 3.778 \t deltaE: -2.000 \t new conflicts: 1.000\n",
      "step: 58 \t temp: 3.774 \t deltaE: +1.000 \t new conflicts: 2.000\n",
      "step: 59 \t temp: 3.771 \t deltaE: -1.000 \t new conflicts: 1.000\n",
      "step: 60 \t temp: 3.767 \t deltaE: +1.000 \t new conflicts: 2.000\n",
      "step: 61 \t temp: 3.763 \t deltaE: +0.000 \t new conflicts: 2.000\n",
      "step: 62 \t temp: 3.759 \t deltaE: +0.000 \t new conflicts: 2.000\n",
      "step: 63 \t temp: 3.756 \t deltaE: -1.000 \t new conflicts: 1.000\n",
      "step: 64 \t temp: 3.752 \t deltaE: +1.000 \t new conflicts: 2.000\n",
      "step: 65 \t temp: 3.748 \t deltaE: -1.000 \t new conflicts: 1.000\n",
      "step: 66 \t temp: 3.744 \t deltaE: +1.000 \t new conflicts: 2.000\n",
      "step: 67 \t temp: 3.741 \t deltaE: -1.000 \t new conflicts: 1.000\n",
      "step: 68 \t temp: 3.737 \t deltaE: +2.000 \t new conflicts: 3.000\n",
      "step: 69 \t temp: 3.733 \t deltaE: +0.000 \t new conflicts: 3.000\n",
      "step: 70 \t temp: 3.729 \t deltaE: +2.000 \t new conflicts: 5.000\n",
      "step: 71 \t temp: 3.726 \t deltaE: -2.000 \t new conflicts: 3.000\n",
      "step: 72 \t temp: 3.722 \t deltaE: -1.000 \t new conflicts: 2.000\n",
      "step: 74 \t temp: 3.715 \t deltaE: +2.000 \t new conflicts: 4.000\n",
      "step: 75 \t temp: 3.711 \t deltaE: -1.000 \t new conflicts: 3.000\n",
      "step: 76 \t temp: 3.707 \t deltaE: +2.000 \t new conflicts: 5.000\n",
      "step: 77 \t temp: 3.703 \t deltaE: +0.000 \t new conflicts: 5.000\n",
      "step: 78 \t temp: 3.700 \t deltaE: -2.000 \t new conflicts: 3.000\n",
      "step: 79 \t temp: 3.696 \t deltaE: +0.000 \t new conflicts: 3.000\n",
      "step: 80 \t temp: 3.692 \t deltaE: +1.000 \t new conflicts: 4.000\n",
      "step: 81 \t temp: 3.689 \t deltaE: +0.000 \t new conflicts: 4.000\n",
      "step: 82 \t temp: 3.685 \t deltaE: -1.000 \t new conflicts: 3.000\n",
      "step: 83 \t temp: 3.681 \t deltaE: +1.000 \t new conflicts: 4.000\n",
      "step: 84 \t temp: 3.678 \t deltaE: -1.000 \t new conflicts: 3.000\n",
      "step: 85 \t temp: 3.674 \t deltaE: +1.000 \t new conflicts: 4.000\n",
      "step: 86 \t temp: 3.670 \t deltaE: -2.000 \t new conflicts: 2.000\n",
      "step: 87 \t temp: 3.667 \t deltaE: +2.000 \t new conflicts: 4.000\n",
      "step: 88 \t temp: 3.663 \t deltaE: +0.000 \t new conflicts: 4.000\n",
      "step: 89 \t temp: 3.659 \t deltaE: -1.000 \t new conflicts: 3.000\n",
      "step: 90 \t temp: 3.656 \t deltaE: +1.000 \t new conflicts: 4.000\n",
      "step: 91 \t temp: 3.652 \t deltaE: +0.000 \t new conflicts: 4.000\n",
      "step: 92 \t temp: 3.648 \t deltaE: -1.000 \t new conflicts: 3.000\n",
      "step: 93 \t temp: 3.645 \t deltaE: -2.000 \t new conflicts: 1.000\n",
      "step: 94 \t temp: 3.641 \t deltaE: +2.000 \t new conflicts: 3.000\n",
      "step: 95 \t temp: 3.637 \t deltaE: +1.000 \t new conflicts: 4.000\n",
      "step: 96 \t temp: 3.634 \t deltaE: -2.000 \t new conflicts: 2.000\n",
      "step: 97 \t temp: 3.630 \t deltaE: -1.000 \t new conflicts: 1.000\n",
      "step: 98 \t temp: 3.626 \t deltaE: +1.000 \t new conflicts: 2.000\n",
      "step: 101 \t temp: 3.616 \t deltaE: +0.000 \t new conflicts: 2.000\n",
      "step: 102 \t temp: 3.612 \t deltaE: +0.000 \t new conflicts: 2.000\n",
      "step: 104 \t temp: 3.605 \t deltaE: +2.000 \t new conflicts: 4.000\n",
      "step: 105 \t temp: 3.601 \t deltaE: +0.000 \t new conflicts: 4.000\n",
      "step: 106 \t temp: 3.598 \t deltaE: +0.000 \t new conflicts: 4.000\n",
      "step: 107 \t temp: 3.594 \t deltaE: +0.000 \t new conflicts: 4.000\n",
      "step: 108 \t temp: 3.590 \t deltaE: +1.000 \t new conflicts: 5.000\n",
      "step: 109 \t temp: 3.587 \t deltaE: -1.000 \t new conflicts: 4.000\n",
      "step: 110 \t temp: 3.583 \t deltaE: +0.000 \t new conflicts: 4.000\n",
      "step: 111 \t temp: 3.580 \t deltaE: -1.000 \t new conflicts: 3.000\n",
      "step: 112 \t temp: 3.576 \t deltaE: +1.000 \t new conflicts: 4.000\n",
      "step: 114 \t temp: 3.569 \t deltaE: -1.000 \t new conflicts: 3.000\n",
      "step: 115 \t temp: 3.565 \t deltaE: +1.000 \t new conflicts: 4.000\n",
      "step: 116 \t temp: 3.562 \t deltaE: -2.000 \t new conflicts: 2.000\n",
      "step: 117 \t temp: 3.558 \t deltaE: -1.000 \t new conflicts: 1.000\n",
      "step: 119 \t temp: 3.551 \t deltaE: +2.000 \t new conflicts: 3.000\n",
      "step: 120 \t temp: 3.547 \t deltaE: +1.000 \t new conflicts: 4.000\n",
      "step: 121 \t temp: 3.544 \t deltaE: +0.000 \t new conflicts: 4.000\n",
      "step: 122 \t temp: 3.540 \t deltaE: -1.000 \t new conflicts: 3.000\n",
      "step: 123 \t temp: 3.537 \t deltaE: +1.000 \t new conflicts: 4.000\n",
      "step: 125 \t temp: 3.530 \t deltaE: -1.000 \t new conflicts: 3.000\n",
      "step: 126 \t temp: 3.526 \t deltaE: +0.000 \t new conflicts: 3.000\n",
      "step: 127 \t temp: 3.523 \t deltaE: +0.000 \t new conflicts: 3.000\n",
      "step: 130 \t temp: 3.512 \t deltaE: +0.000 \t new conflicts: 3.000\n",
      "step: 131 \t temp: 3.509 \t deltaE: -1.000 \t new conflicts: 2.000\n",
      "step: 132 \t temp: 3.505 \t deltaE: +1.000 \t new conflicts: 3.000\n",
      "step: 133 \t temp: 3.502 \t deltaE: +1.000 \t new conflicts: 4.000\n",
      "step: 134 \t temp: 3.498 \t deltaE: -1.000 \t new conflicts: 3.000\n",
      "step: 135 \t temp: 3.495 \t deltaE: +0.000 \t new conflicts: 3.000\n",
      "step: 136 \t temp: 3.491 \t deltaE: +1.000 \t new conflicts: 4.000\n",
      "step: 137 \t temp: 3.488 \t deltaE: +0.000 \t new conflicts: 4.000\n",
      "step: 138 \t temp: 3.484 \t deltaE: -2.000 \t new conflicts: 2.000\n",
      "step: 139 \t temp: 3.481 \t deltaE: +2.000 \t new conflicts: 4.000\n",
      "step: 140 \t temp: 3.477 \t deltaE: +0.000 \t new conflicts: 4.000\n",
      "step: 141 \t temp: 3.474 \t deltaE: +0.000 \t new conflicts: 4.000\n",
      "step: 142 \t temp: 3.470 \t deltaE: +0.000 \t new conflicts: 4.000\n",
      "step: 143 \t temp: 3.467 \t deltaE: -1.000 \t new conflicts: 3.000\n",
      "step: 144 \t temp: 3.463 \t deltaE: +1.000 \t new conflicts: 4.000\n",
      "step: 145 \t temp: 3.460 \t deltaE: +0.000 \t new conflicts: 4.000\n",
      "step: 146 \t temp: 3.456 \t deltaE: -2.000 \t new conflicts: 2.000\n",
      "step: 147 \t temp: 3.453 \t deltaE: +2.000 \t new conflicts: 4.000\n",
      "step: 148 \t temp: 3.449 \t deltaE: -2.000 \t new conflicts: 2.000\n",
      "step: 150 \t temp: 3.443 \t deltaE: +0.000 \t new conflicts: 2.000\n",
      "step: 151 \t temp: 3.439 \t deltaE: +0.000 \t new conflicts: 2.000\n",
      "step: 152 \t temp: 3.436 \t deltaE: +2.000 \t new conflicts: 4.000\n",
      "step: 153 \t temp: 3.432 \t deltaE: -2.000 \t new conflicts: 2.000\n",
      "step: 154 \t temp: 3.429 \t deltaE: -1.000 \t new conflicts: 1.000\n"
     ]
    },
    {
     "name": "stdout",
     "output_type": "stream",
     "text": [
      "Board with 1 conflicts.\n"
     ]
    },
    {
     "data": {
      "image/png": "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\n",
      "text/plain": [
       "<Figure size 432x288 with 1 Axes>"
      ]
     },
     "metadata": {},
     "output_type": "display_data"
    },
    {
     "data": {
      "text/plain": [
       "array([2, 0, 3, 0])"
      ]
     },
     "execution_count": 178,
     "metadata": {},
     "output_type": "execute_result"
    }
   ],
   "source": [
    "SA(debug=True)"
   ]
  },
  {
   "cell_type": "markdown",
   "metadata": {},
   "source": [
    "## Compare Performance [2 Points]\n",
    "\n",
    "Use runtime, scalability, and best objective function value to compare the algorithms on boards of different sizes.  \n",
    "\n",
    "For timing you can use the `time` package."
   ]
  },
  {
   "cell_type": "code",
   "execution_count": 179,
   "metadata": {},
   "outputs": [
    {
     "name": "stdout",
     "output_type": "stream",
     "text": [
      "Do something\n",
      "This took: 0.0 milliseconds\n"
     ]
    }
   ],
   "source": [
    "import time\n",
    "\n",
    "t0 = time.time()\n",
    "print(\"Do something\")\n",
    "t1 = time.time()\n",
    "\n",
    "print(f\"This took: {(t1-t0) * 1e3} milliseconds\")"
   ]
  },
  {
   "cell_type": "code",
   "execution_count": 180,
   "metadata": {},
   "outputs": [],
   "source": [
    "import pandas as pd\n",
    "import matplotlib.pyplot as plt"
   ]
  },
  {
   "cell_type": "code",
   "execution_count": 188,
   "metadata": {},
   "outputs": [],
   "source": [
    "# N: replications\n",
    "# n: number of rows and columns\n",
    "def generateComparisons(N=20, n=4):\n",
    "    results = { \n",
    "        'SAHC' : np.zeros(shape = [N]),\n",
    "        'SAHC_RR' : np.zeros(shape = [N]),\n",
    "        'SHC' : np.zeros(shape = [N]),\n",
    "        'FCHC' : np.zeros(shape = [N]),\n",
    "        'SA' : np.zeros(shape = [N]) \n",
    "    }\n",
    "\n",
    "    runtime_results = {\n",
    "        'SAHC' : np.zeros(shape = [N]),\n",
    "        'SAHC_RR' : np.zeros(shape = [N]),\n",
    "        'SHC' : np.zeros(shape = [N]),\n",
    "        'FCHC' : np.zeros(shape = [N]),\n",
    "        'SA' : np.zeros(shape = [N]) \n",
    "    }\n",
    "\n",
    "    for i in range(N):\n",
    "        initial_board = random_board(n).copy()\n",
    "\n",
    "        t0 = time.time()\n",
    "        results['SAHC'][i] = conflicts(SAHC(initial_board))\n",
    "        t1 = time.time()\n",
    "        runtime_results['SAHC'][i] = t1-t0\n",
    "\n",
    "        t0 = time.time()\n",
    "        results['SAHC_RR'][i] = conflicts(SAHC_RR(initial_board))\n",
    "        t1 = time.time()\n",
    "        runtime_results['SAHC_RR'][i] = t1-t0\n",
    "\n",
    "        t0 = time.time()\n",
    "        results['SHC'][i] = conflicts(SHC(initial_board))\n",
    "        t1 = time.time()\n",
    "        runtime_results['SHC'][i] = t1-t0\n",
    "\n",
    "        t0 = time.time()\n",
    "        results['FCHC'][i] = conflicts(FCHC(initial_board))\n",
    "        t1 = time.time()\n",
    "        runtime_results['FCHC'][i] = t1-t0\n",
    "\n",
    "        t0 = time.time()\n",
    "        results['SA'][i] = conflicts(SA(initial_board))\n",
    "        t1 = time.time()\n",
    "        runtime_results['SA'][i] = t1-t0\n",
    "    \n",
    "    # Compare averages\n",
    "    print('==================Comparing Average Results==================')\n",
    "    results = pd.DataFrame(results)\n",
    "    print(results)\n",
    "\n",
    "    means = np.mean(results, axis = 0)\n",
    "    print(means)\n",
    "\n",
    "    plt.bar(means.keys(), means)\n",
    "    plt.ylabel(\"mean conflicts\")\n",
    "    plt.show()\n",
    "    \n",
    "    # Compare average runtime\n",
    "    print('==================Comparing Average Runtime==================')\n",
    "    runtime_results = pd.DataFrame(runtime_results)\n",
    "    print(runtime_results)\n",
    "\n",
    "    means = np.mean(runtime_results, axis = 0)\n",
    "    print(means)\n",
    "\n",
    "    plt.bar(means.keys(), means)\n",
    "    plt.ylabel(\"mean time\")\n",
    "    plt.show()\n",
    "    \n",
    "    # Histogram\n",
    "    plt.hist(results['SAHC'], bins = 20, alpha = .5)\n",
    "    plt.hist(results['SAHC_RR'], bins = 20, alpha = .5)\n",
    "    plt.hist(results['SHC'], bins = 20, alpha = .5)\n",
    "    plt.hist(results['FCHC'], bins = 20, alpha = .5)\n",
    "    plt.hist(results['SA'], bins = 20, alpha = .5)\n",
    "    plt.xlabel(\"Number of conflicts\")\n",
    "    plt.ylabel(\"frequency\")\n",
    "    plt.legend(labels = ['SAHC', 'SAHC_RR', 'SHC', 'FCHC', 'SA'])\n",
    "    plt.show()\n",
    "    \n",
    "    # histogram for runtime results\n",
    "    plt.hist(runtime_results['SAHC'], bins = 20, alpha = .5)\n",
    "    plt.hist(runtime_results['SAHC_RR'], bins = 20, alpha = .5)\n",
    "    plt.hist(runtime_results['SHC'], bins = 20, alpha = .5)\n",
    "    plt.hist(runtime_results['FCHC'], bins = 20, alpha = .5)\n",
    "    plt.hist(runtime_results['SA'], bins = 20, alpha = .5)\n",
    "    plt.xlabel(\"Time (seconds)\")\n",
    "    plt.ylabel(\"frequency\")\n",
    "    plt.legend(labels = ['SAHC', 'SAHC_RR', 'SHC', 'FCHC', 'SA'])\n",
    "    plt.show()\n",
    "    \n",
    "    print('Box plot for the results')\n",
    "    results.boxplot()\n",
    "    \n",
    "    print('Box plot for the runtime results')\n",
    "    runtime_results.boxplot()"
   ]
  },
  {
   "cell_type": "code",
   "execution_count": 189,
   "metadata": {},
   "outputs": [
    {
     "name": "stdout",
     "output_type": "stream",
     "text": [
      "==================Comparing Average Results==================\n",
      "    SAHC  SAHC_RR  SHC  FCHC   SA\n",
      "0    1.0      0.0  1.0   0.0  1.0\n",
      "1    1.0      0.0  0.0   1.0  1.0\n",
      "2    0.0      0.0  0.0   0.0  1.0\n",
      "3    0.0      0.0  0.0   1.0  2.0\n",
      "4    0.0      0.0  0.0   1.0  2.0\n",
      "5    1.0      0.0  1.0   1.0  1.0\n",
      "6    2.0      0.0  1.0   0.0  1.0\n",
      "7    0.0      0.0  1.0   1.0  2.0\n",
      "8    1.0      0.0  1.0   1.0  1.0\n",
      "9    0.0      0.0  1.0   0.0  1.0\n",
      "10   1.0      0.0  1.0   1.0  2.0\n",
      "11   0.0      0.0  1.0   0.0  3.0\n",
      "12   1.0      0.0  1.0   0.0  1.0\n",
      "13   0.0      0.0  0.0   1.0  3.0\n",
      "14   0.0      0.0  1.0   1.0  1.0\n",
      "15   1.0      0.0  1.0   2.0  2.0\n",
      "16   1.0      0.0  1.0   1.0  1.0\n",
      "17   0.0      0.0  0.0   1.0  2.0\n",
      "18   1.0      0.0  1.0   1.0  3.0\n",
      "19   1.0      0.0  0.0   0.0  3.0\n",
      "SAHC       0.60\n",
      "SAHC_RR    0.00\n",
      "SHC        0.65\n",
      "FCHC       0.70\n",
      "SA         1.70\n",
      "dtype: float64\n"
     ]
    },
    {
     "data": {
      "image/png": "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\n",
      "text/plain": [
       "<Figure size 432x288 with 1 Axes>"
      ]
     },
     "metadata": {
      "needs_background": "light"
     },
     "output_type": "display_data"
    },
    {
     "name": "stdout",
     "output_type": "stream",
     "text": [
      "==================Comparing Average Runtime==================\n",
      "        SAHC   SAHC_RR       SHC      FCHC        SA\n",
      "0   0.007848  0.003795  0.004985  0.000997  0.001995\n",
      "1   0.004985  0.006981  0.003990  0.003990  0.017997\n",
      "2   0.004183  0.045688  0.003942  0.002235  0.006619\n",
      "3   0.007861  0.024678  0.008976  0.004040  0.014958\n",
      "4   0.003991  0.002989  0.002992  0.002993  0.011970\n",
      "5   0.002986  0.014964  0.001994  0.001995  0.018951\n",
      "6   0.003987  0.005990  0.003983  0.001995  0.002991\n",
      "7   0.001995  0.003110  0.002876  0.001994  0.000998\n",
      "8   0.003995  0.012960  0.003988  0.002990  0.017945\n",
      "9   0.002999  0.002995  0.002990  0.001995  0.013964\n",
      "10  0.003987  0.004990  0.004987  0.002991  0.015959\n",
      "11  0.006979  0.005995  0.004974  0.002995  0.009971\n",
      "12  0.005986  0.035856  0.004983  0.001993  0.003991\n",
      "13  0.004986  0.005983  0.001994  0.002993  0.019946\n",
      "14  0.006981  0.008977  0.007180  0.002839  0.005985\n",
      "15  0.005982  0.030925  0.004415  0.001566  0.017955\n",
      "16  0.002992  0.010917  0.003238  0.002752  0.001994\n",
      "17  0.005034  0.024930  0.005985  0.002991  0.003990\n",
      "18  0.003989  0.020944  0.003989  0.001998  0.000995\n",
      "19  0.003988  0.018952  0.004988  0.001982  0.022938\n",
      "SAHC       0.004787\n",
      "SAHC_RR    0.014631\n",
      "SHC        0.004373\n",
      "FCHC       0.002516\n",
      "SA         0.010606\n",
      "dtype: float64\n"
     ]
    },
    {
     "data": {
      "image/png": "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\n",
      "text/plain": [
       "<Figure size 432x288 with 1 Axes>"
      ]
     },
     "metadata": {
      "needs_background": "light"
     },
     "output_type": "display_data"
    },
    {
     "data": {
      "image/png": "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\n",
      "text/plain": [
       "<Figure size 432x288 with 1 Axes>"
      ]
     },
     "metadata": {
      "needs_background": "light"
     },
     "output_type": "display_data"
    },
    {
     "data": {
      "image/png": "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\n",
      "text/plain": [
       "<Figure size 432x288 with 1 Axes>"
      ]
     },
     "metadata": {
      "needs_background": "light"
     },
     "output_type": "display_data"
    },
    {
     "name": "stdout",
     "output_type": "stream",
     "text": [
      "Box plot for the results\n",
      "Box plot for the runtime results\n"
     ]
    },
    {
     "data": {
      "image/png": "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\n",
      "text/plain": [
       "<Figure size 432x288 with 1 Axes>"
      ]
     },
     "metadata": {
      "needs_background": "light"
     },
     "output_type": "display_data"
    }
   ],
   "source": [
    "generateComparisons(N=20, n=4)"
   ]
  },
  {
   "cell_type": "code",
   "execution_count": 190,
   "metadata": {},
   "outputs": [
    {
     "name": "stdout",
     "output_type": "stream",
     "text": [
      "==================Comparing Average Results==================\n",
      "    SAHC  SAHC_RR  SHC  FCHC   SA\n",
      "0    2.0      0.0  1.0   1.0  2.0\n",
      "1    0.0      0.0  2.0   2.0  3.0\n",
      "2    1.0      0.0  2.0   1.0  1.0\n",
      "3    1.0      0.0  1.0   1.0  1.0\n",
      "4    1.0      0.0  2.0   1.0  3.0\n",
      "5    1.0      0.0  2.0   1.0  2.0\n",
      "6    1.0      0.0  1.0   1.0  1.0\n",
      "7    1.0      0.0  2.0   1.0  2.0\n",
      "8    1.0      0.0  2.0   1.0  2.0\n",
      "9    3.0      0.0  2.0   2.0  2.0\n",
      "10   2.0      0.0  0.0   1.0  2.0\n",
      "11   1.0      0.0  0.0   1.0  1.0\n",
      "12   1.0      0.0  2.0   2.0  3.0\n",
      "13   1.0      0.0  1.0   1.0  1.0\n",
      "14   0.0      0.0  1.0   1.0  1.0\n",
      "15   2.0      0.0  0.0   1.0  1.0\n",
      "16   1.0      0.0  1.0   2.0  1.0\n",
      "17   1.0      0.0  2.0   1.0  1.0\n",
      "18   1.0      0.0  0.0   3.0  1.0\n",
      "19   2.0      0.0  3.0   2.0  1.0\n",
      "SAHC       1.20\n",
      "SAHC_RR    0.00\n",
      "SHC        1.35\n",
      "FCHC       1.35\n",
      "SA         1.60\n",
      "dtype: float64\n"
     ]
    },
    {
     "data": {
      "image/png": "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\n",
      "text/plain": [
       "<Figure size 432x288 with 1 Axes>"
      ]
     },
     "metadata": {
      "needs_background": "light"
     },
     "output_type": "display_data"
    },
    {
     "name": "stdout",
     "output_type": "stream",
     "text": [
      "==================Comparing Average Runtime==================\n",
      "        SAHC   SAHC_RR       SHC      FCHC        SA\n",
      "0   0.043456  0.006982  0.050864  0.032195  1.180767\n",
      "1   0.081831  0.006931  0.117685  0.029919  1.044259\n",
      "2   0.073803  0.008056  0.050739  0.024179  0.887964\n",
      "3   0.146650  0.017952  0.113595  0.026036  0.718032\n",
      "4   0.128617  0.002038  0.127615  0.051861  1.574786\n",
      "5   0.143109  0.003990  0.087765  0.024933  1.341463\n",
      "6   0.129653  0.003989  0.111697  0.024933  2.173946\n",
      "7   0.086036  0.004993  0.070805  0.034623  1.193074\n",
      "8   0.074800  0.019947  0.094746  0.029922  1.269988\n",
      "9   0.087761  0.004485  0.085276  0.027925  1.227845\n",
      "10  0.118973  0.002959  0.078679  0.041888  1.307588\n",
      "11  0.092746  0.006174  0.069623  0.029435  1.013063\n",
      "12  0.070812  0.012984  0.042075  0.020973  1.147725\n",
      "13  0.060060  0.002740  0.062335  0.029921  1.894568\n",
      "14  0.086764  0.040894  0.091752  0.022938  0.803540\n",
      "15  0.060063  0.018727  0.131470  0.033945  5.092538\n",
      "16  0.072836  0.016954  0.059845  0.019913  1.610340\n",
      "17  0.091753  0.018916  0.123729  0.053859  1.133434\n",
      "18  0.037801  0.020927  0.050864  0.015920  1.025051\n",
      "19  0.104720  0.002992  0.089760  0.018950  1.434515\n",
      "SAHC       0.089612\n",
      "SAHC_RR    0.011182\n",
      "SHC        0.085546\n",
      "FCHC       0.029713\n",
      "SA         1.453724\n",
      "dtype: float64\n"
     ]
    },
    {
     "data": {
      "image/png": "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\n",
      "text/plain": [
       "<Figure size 432x288 with 1 Axes>"
      ]
     },
     "metadata": {
      "needs_background": "light"
     },
     "output_type": "display_data"
    },
    {
     "data": {
      "image/png": "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\n",
      "text/plain": [
       "<Figure size 432x288 with 1 Axes>"
      ]
     },
     "metadata": {
      "needs_background": "light"
     },
     "output_type": "display_data"
    },
    {
     "data": {
      "image/png": "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\n",
      "text/plain": [
       "<Figure size 432x288 with 1 Axes>"
      ]
     },
     "metadata": {
      "needs_background": "light"
     },
     "output_type": "display_data"
    },
    {
     "name": "stdout",
     "output_type": "stream",
     "text": [
      "Box plot for the results\n",
      "Box plot for the runtime results\n"
     ]
    },
    {
     "data": {
      "image/png": "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\n",
      "text/plain": [
       "<Figure size 432x288 with 1 Axes>"
      ]
     },
     "metadata": {
      "needs_background": "light"
     },
     "output_type": "display_data"
    }
   ],
   "source": [
    "generateComparisons(N=20, n=8)"
   ]
  },
  {
   "cell_type": "code",
   "execution_count": 191,
   "metadata": {},
   "outputs": [
    {
     "name": "stdout",
     "output_type": "stream",
     "text": [
      "==================Comparing Average Results==================\n",
      "    SAHC  SAHC_RR  SHC  FCHC   SA\n",
      "0    2.0      0.0  2.0   5.0  1.0\n",
      "1    1.0      0.0  2.0   3.0  1.0\n",
      "2    3.0      0.0  4.0   4.0  1.0\n",
      "3    2.0      0.0  3.0   3.0  1.0\n",
      "4    1.0      0.0  1.0   2.0  1.0\n",
      "5    2.0      0.0  3.0   3.0  1.0\n",
      "6    2.0      0.0  3.0   1.0  1.0\n",
      "7    2.0      0.0  2.0   4.0  1.0\n",
      "8    2.0      0.0  1.0   3.0  1.0\n",
      "9    3.0      0.0  1.0   1.0  1.0\n",
      "10   2.0      0.0  2.0   3.0  1.0\n",
      "11   4.0      0.0  2.0   4.0  1.0\n",
      "12   2.0      0.0  2.0   2.0  1.0\n",
      "13   1.0      0.0  4.0   1.0  1.0\n",
      "14   3.0      0.0  1.0   2.0  1.0\n",
      "15   2.0      0.0  2.0   3.0  1.0\n",
      "16   4.0      0.0  1.0   1.0  1.0\n",
      "17   2.0      0.0  2.0   3.0  1.0\n",
      "18   2.0      0.0  3.0   2.0  1.0\n",
      "19   2.0      0.0  3.0   1.0  1.0\n",
      "SAHC       2.20\n",
      "SAHC_RR    0.00\n",
      "SHC        2.20\n",
      "FCHC       2.55\n",
      "SA         1.00\n",
      "dtype: float64\n"
     ]
    },
    {
     "data": {
      "image/png": "iVBORw0KGgoAAAANSUhEUgAAAYIAAAD5CAYAAAAqaDI/AAAABHNCSVQICAgIfAhkiAAAAAlwSFlzAAALEgAACxIB0t1+/AAAADh0RVh0U29mdHdhcmUAbWF0cGxvdGxpYiB2ZXJzaW9uMy4yLjEsIGh0dHA6Ly9tYXRwbG90bGliLm9yZy+j8jraAAASKUlEQVR4nO3dfZBld13n8feHPGg0WbM6o8kmGRqpKZQgYGhDIlgba901QDSrYkgWeUiVTkElFlBIbdaowd0/ZF0WFEYTZoGVUDGmkBGyy0B8WDCwLg8zU0NCEpEBwzImZSaxTDIEzU747h/3NF56bnefnrnndvf83q+qW3PPwz3ne3Jv7qfP7/zu76SqkCS160lrXYAkaW0ZBJLUOINAkhpnEEhS4wwCSWrciWtdwGpt2rSp5ubm1roMSdpQ9uzZ82BVbZ60bMMFwdzcHLt3717rMiRpQ0ny5aWW2TQkSY0zCCSpcQaBJDXOIJCkxhkEktQ4g0CSGmcQSFLjDAJJapxBIEmN23C/LJa0enPXfGitS5iKe9/0orUu4bg02BlBknOSfDTJPUnuSvKaCetclOThJPu6x68NVY8kabIhzwgOA6+vqr1JTgP2JPmTqrp70Xofr6pLBqxDkrSMwc4Iqur+qtrbPX8UuAc4a6j9SZKOzkwuFieZA34Q+NSExRcm+WySDyc5d4nXb0uyO8nugwcPDlipJLVn8CBIcirwfuC1VfXIosV7gSdX1bOAtwMfmLSNqtpRVfNVNb9588ThtCVJR2nQIEhyEqMQuKmqdi5eXlWPVNWh7vku4KQkm4asSZL0zYbsNRTgXcA9VfWWJdY5o1uPJOd39Tw0VE2SpCMN2WvoecDLgDuT7Ovm/TKwBaCqbgBeDLw6yWHga8DlVVUD1iRJWmSwIKiqTwBZYZ3twPahapAkrcwhJiSpcQaBJDXOIJCkxhkEktQ4g0CSGmcQSFLjDAJJapxBIEmNMwgkqXEGgSQ1ziCQpMYZBJLUOINAkhpnEEhS4wwCSWqcQSBJjTMIJKlxBoEkNW7IexavO3PXfGitS5iae9/0orUuYUPxvZeW5hmBJDXOIJCkxhkEktQ4g0CSGmcQSFLjDAJJapxBIEmNMwgkqXEGgSQ1ziCQpMYZBJLUOINAkho3WBAkOSfJR5Pck+SuJK+ZsE6SvC3J/iR3JDlvqHokSZMNOfroYeD1VbU3yWnAniR/UlV3j63zAmBr93gucH33ryRpRgY7I6iq+6tqb/f8UeAe4KxFq10K3FgjnwROT3LmUDVJko40k2sESeaAHwQ+tWjRWcBXxqYPcGRYkGRbkt1Jdh88eHCoMiWpSYMHQZJTgfcDr62qRxYvnvCSOmJG1Y6qmq+q+c2bNw9RpiQ1a9AgSHISoxC4qap2TljlAHDO2PTZwH1D1iRJ+mZD9hoK8C7gnqp6yxKr3Qq8vOs9dAHwcFXdP1RNkqQjDdlr6HnAy4A7k+zr5v0ysAWgqm4AdgEvBPYDjwFXDliPJGmCwYKgqj7B5GsA4+sUcNVQNUiSVuYviyWpcQaBJDXOIJCkxhkEktQ4g0CSGmcQSFLjDAJJapxBIEmNMwgkqXEGgSQ1ziCQpMYZBJLUOINAkhpnEEhS41YMgiQ/m+S07vmvJNmZ5LzhS5MkzUKfM4JfrapHkzwf+HHgPcD1w5YlSZqVPkHwRPfvi4Drq+qDwMnDlSRJmqU+QfA3Sd4BXAbsSvItPV8nSdoA+nyhXwbcBlxcVX8PfCfwhkGrkiTNTJ8geEdV7ayqLwBU1f2MbkovSToO9AmCc8cnkpwAPGeYciRJs7ZkECT5D0keBZ6Z5JHu8SjwAHDrzCqUJA1qySCoqt+oqtOA/1JV/6x7nFZV31VV18ywRknSgPo0DX06yXcsTCQ5Pcm/HbAmSdIM9QmC66rq4YWJrufQdcOVJEmapT5BMGmdE6ddiCRpbfQJgt1J3pLkqUm+N8lbgT1DFyZJmo0+QfCLwOPALcD7gH8ArhqyKEnS7KzYxFNVXwXsJSRJx6klgyDJb1XVa5P8D6AWL6+qnxy0MknSTCx3RvDe7t83z6IQSdLaWDIIqmpP9++fz64cSdKsLdc0dCcTmoQWVNUzl9twkncDlwAPVNUzJiy/CPgg8NfdrJ1V9R971CxJmqLlmoZ+FvjaMWz794DtwI3LrPPxqrrkGPYhSTpGywXB71fVeUneW1WrHna6qm5PMnfUlUmSZmK5IDg5ySuAH07y04sXVtXOKez/wiSfBe4Dfqmq7pq0UpJtwDaALVu2TGG3kqQFywXBq4CXAqcDP7FoWQHHGgR7gSdX1aEkLwQ+AGydtGJV7QB2AMzPzy953UKStHrL9Rr6BPCJJLur6l3T3nFVPTL2fFeS302yqaoenPa+JElL6/PL4ncl+WFgbnz9qlruIvCKkpwB/G1VVZLzGQ138dCxbFOStHorBkGS9wJPBfYBT3Szi+V7A5HkZuAiYFOSA4yGrj4JoKpuAF4MvDrJYUa9ky6vKpt9JGnG+gwnPQ88fbVf0lV1xQrLtzPqXipJWkN9Rh/9HHDG0IVIktZGnzOCTcDdST4N/OPCTAedk6TjQ58geOPQRUiS1k6fXkN/nuR7gB/qZn26qh4YtixJ0qyseI0gyWXApxmNPXQZ8KkkLx66MEnSbPRpGroW+KGFs4Akm4E/Bf5wyMIkSbPRp9fQkxY1BT3U83WSpA2gzxnBR5LcBtzcTb8E+PBwJUmSZqnPxeI3dKOPPh8IsKOq/mjwyiRJM9FniImnALsWhp1OckqSuaq6d+jiJEnD69PW/z7g62PTT3TzJEnHgT5BcGJVPb4w0T0/ebiSJEmz1CcIDib5xnASSS4FvGeAJB0n+vQaehVwU5KFkUIPAKu+h7EkaX3q02voi8AFSU4FUlWPDl+WJGlW+pwRAFBVh4YsRJK0NvyFsCQ1ziCQpMb1ahoa4ub1kqT1YbCb10uSNobBbl4vSdoYvHm9JDXOm9dLUuO8eb0kNa7XzetnUYgkaW30uXn9BUk+k+RQkseTPJHkkVkUJ0kaXp+LxduBK4AvAKcAP9/NkyQdB3r9oKyq9ic5oaqeAP57kr8YuC5J0oz0CYLHkpwM7Evym8D9wLcPW5YkaVb6NA29rFvvauCrwDnAzwxZlCRpdvr0GvpyklOAM6vq12dQkyRphvr0GvoJRuMMfaSbfnaSW3u87t1JHkjyuSWWJ8nbkuxPckeS81ZbvCTp2PVpGnojcD7w9wBVtY/RSKQr+T3g4mWWvwDY2j22Adf32KYkacr6BMHhqnp4tRuuqtuBv1tmlUuBG2vkk8DpSc5c7X4kScem16BzSf4dcEKSrUneDkyj++hZwFfGpg908yRJM9Sn++gvAtcyGnDuZuA24D9NYd+ZMG/iUNdJtjFqPmLLli1T2LWkVsxd86G1LmFq7n3TiwbZbp9eQ48xCoJrp7zvA4y6oi44G7hviRp2ADsA5ufnvS+CJE1Rn15D80l2Jtnb9e65I8kdU9j3rcDLu95DFwAPV9X9U9iuJGkV+jQN3QS8AbgT+HrfDSe5GbgI2JTkAHAdcBJAVd0A7AJeCOwHHgOuXE3hkqTp6BMEB6tqxd8NLFZVV6ywvICrVrtdSdJ09QmC65K8E/gzvvkOZTsHq0qSNDN9guBK4PsYNessNA0VYBBI0nGgTxA8q6p+YPBKJElros8Pyj6Z5OmDVyJJWhN9zgieD7wiyV8zukYQRtd6nzloZZKkmegTBMsNHCdJ2uB63Y9gFoVIktZGn2sEkqTjmEEgSY0zCCSpcQaBJDXOIJCkxhkEktQ4g0CSGmcQSFLjDAJJapxBIEmNMwgkqXEGgSQ1ziCQpMYZBJLUOINAkhpnEEhS4wwCSWqcQSBJjTMIJKlxBoEkNc4gkKTGGQSS1DiDQJIaZxBIUuMMAklq3KBBkOTiJJ9Psj/JNROWX5Tk4ST7usevDVmPJOlIJw614SQnAL8D/GvgAPCZJLdW1d2LVv14VV0yVB2SpOUNeUZwPrC/qr5UVY8DfwBcOuD+JElHYcggOAv4ytj0gW7eYhcm+WySDyc5d9KGkmxLsjvJ7oMHDw5RqyQ1a8ggyIR5tWh6L/DkqnoW8HbgA5M2VFU7qmq+quY3b9485TIlqW1DBsEB4Jyx6bOB+8ZXqKpHqupQ93wXcFKSTQPWJElaZMgg+AywNclTkpwMXA7cOr5CkjOSpHt+flfPQwPWJElaZLBeQ1V1OMnVwG3ACcC7q+quJK/qlt8AvBh4dZLDwNeAy6tqcfORJGlAgwUBfKO5Z9eieTeMPd8ObB+yBknS8vxlsSQ1ziCQpMYZBJLUOINAkhpnEEhS4wwCSWqcQSBJjTMIJKlxBoEkNc4gkKTGGQSS1DiDQJIaZxBIUuMMAklqnEEgSY0zCCSpcQaBJDXOIJCkxhkEktQ4g0CSGmcQSFLjDAJJapxBIEmNMwgkqXEGgSQ1ziCQpMYZBJLUOINAkhpnEEhS4wwCSWqcQSBJjTMIJKlxgwZBkouTfD7J/iTXTFieJG/rlt+R5Lwh65EkHWmwIEhyAvA7wAuApwNXJHn6otVeAGztHtuA64eqR5I02ZBnBOcD+6vqS1X1OPAHwKWL1rkUuLFGPgmcnuTMAWuSJC1y4oDbPgv4ytj0AeC5PdY5C7h/fKUk2xidMQAcSvL56ZY6dZuAB4fcQf7zkFs/JoMf+zrnez+glo8djvn4n7zUgiGDIBPm1VGsQ1XtAHZMo6hZSLK7qubXuo610PKxQ9vH77Fv3GMfsmnoAHDO2PTZwH1HsY4kaUBDBsFngK1JnpLkZOBy4NZF69wKvLzrPXQB8HBV3b94Q5Kk4QzWNFRVh5NcDdwGnAC8u6ruSvKqbvkNwC7ghcB+4DHgyqHqmbEN04w1gJaPHdo+fo99g0rVEU3ykqSG+MtiSWqcQSBJjTMIekhybZK7umEw9iV5bjf/xCQPJvmNRet/LMn82PRcks+NTZ+f5PZu+I2/TPLOJN82uyPS0Zj0OTie3+skT3THufCY6+ZPPKYkr0yyfdE2vvHfJ8mpSd6R5Ivdf8fbF/5f2khW+32wERgEK0hyIXAJcF5VPRP4Mf7pR3D/Bvg8cFmSSb+JmLS97wHeB/z7qnoa8P3AR4DTpl17j1rWLOC6L42D3X7/Msnrxpa9McnfdMvuTnLF9I9+dVb4HCz1mnXzXh+lr1XVs8ce9x7jMb0T+Dtga1WdC7yS0Q+xNoxpfx+sFwbBys4EHqyqfwSoqgerauG3DlcAvw38X+CCntu7CnhPVf2fbntVVX9YVX875bqXtU4C7paqejbwPODaJOO/KXlrt+xS4B1JTup/dINY7nOwlHXxXk/ZUR1TkqcyGlngV6rq691rv1RVHxq84uma9vfBumAQrOyPgXOS/FWS303yLwGSnAL8K+B/Ajcz+hCMu2nhlJpRN9kFzwD2zKDulaybgKuqhxh1IT5inKmq+gKjrsX/vGcdQ5n4Oeis9/f6aJ0y1iz0R928lY7pJePNScDCGeS5wL6qemLIgmfgaL8P1jWDYAVVdQh4DqOxjg4CtyR5JaO/pj9aVY8B7wd+KqMRVxe8dOGUmtFvJdabdRNwSbYA3wrcMWHZecAXquqBo9n2tCzzOYD1/14frfGmoZ/q+ZpbxpuTgN1DFjhrx/B9sK4NOdbQcaP7K+ZjwMeS3Am8Avh/wPOS3Nut9l3AjwJ/usLm7mL0QfrgIMX2VFWHkjwH+BFGdd+S0T0jvkr3gU7yfuBXk7xu7C+5l1bVbhhdI2AUGEfrJUl+FHga8AtV9Q9jy16X5BeA7wUuPoZ9TM0Sn4PlrIv3esqO9pjuAp6V5EkLTUMb1ZS/D9YFzwhWkORpSbaOzXo2o78Eng9sqaq5qppj1DTS53RwO/CK8d4SSX4uyRlTLLuXqnqiqj5WVdcBVwM/w+gYfqz7QO/hnz7QK1n4gliNW7qLhj8C/NdF/w3e2l1reAlwY5JvXeW2p2qJz8GXV3jZunmvp+iojqmqvsjo7ODXF647JdmaZPHQ9OvaAN8H64JBsLJTgfd0vVfuYHSTnbuB/7XQvt75IPCTSb5luY11beaXA2/uetfcw+iL8JFhyp9sPQVcd13hvcBrJizbyegLZKW/voc26XPwxuVesF7e62k6xmP6eeAMYH/3l/R/Y+MNMjnV74P1wiEmGtU1C70dOB04zOhi7V8A81V1+dh638moB9HZjMaN+qXFTUNV9Yxu+kLgN4HvBr4O3A68rms3Xbz/V3b7urqb/hfAXkZ3q3s9cKiq3jxW6+8D37/RmxWk9cggkKTG2TQkSY2z15AGleRKjmz7/99VddVa1CPpSDYNSVLjbBqSpMYZBJLUOINAkhpnEEhS4/4/dKEHiESByIoAAAAASUVORK5CYII=\n",
      "text/plain": [
       "<Figure size 432x288 with 1 Axes>"
      ]
     },
     "metadata": {
      "needs_background": "light"
     },
     "output_type": "display_data"
    },
    {
     "name": "stdout",
     "output_type": "stream",
     "text": [
      "==================Comparing Average Runtime==================\n",
      "        SAHC   SAHC_RR       SHC      FCHC         SA\n",
      "0   5.585665  0.009251  6.695218  0.512630  21.137836\n",
      "1   7.794038  0.002568  5.778108  0.662899  20.345369\n",
      "2   5.298959  0.004091  4.860843  0.671853  15.054760\n",
      "3   5.521915  0.013949  5.702385  0.896231  20.917225\n",
      "4   4.068588  0.004989  4.071306  1.011482  19.071307\n",
      "5   3.768376  0.011963  3.371437  0.649538  18.703904\n",
      "6   5.468618  0.012965  6.356059  1.102327  17.284948\n",
      "7   4.035657  0.013966  3.711752  0.507613  19.168551\n",
      "8   4.886248  0.019951  5.533207  0.823797  11.764225\n",
      "9   5.951639  0.003984  5.782265  0.913550   9.800486\n",
      "10  4.080542  0.008977  3.621433  0.469694  11.194987\n",
      "11  4.696667  0.055740  4.985004  0.737343  17.316998\n",
      "12  3.733105  0.008932  3.345253  0.665200  12.077869\n",
      "13  5.148077  0.022938  4.294646  1.103115  11.318551\n",
      "14  4.973648  0.011971  5.839839  0.754017  15.330226\n",
      "15  5.118749  0.006986  7.166260  0.658293  13.163606\n",
      "16  5.429176  0.011333  6.237780  0.764377  17.422956\n",
      "17  4.298822  0.025965  4.784427  0.589386  12.824394\n",
      "18  5.712017  0.007063  5.517016  0.582395  12.635692\n",
      "19  6.945810  0.024929  7.072129  1.009373  19.614213\n",
      "SAHC        5.125816\n",
      "SAHC_RR     0.014126\n",
      "SHC         5.236318\n",
      "FCHC        0.754256\n",
      "SA         15.807405\n",
      "dtype: float64\n"
     ]
    },
    {
     "data": {
      "image/png": "iVBORw0KGgoAAAANSUhEUgAAAX4AAAD5CAYAAAAgGF4oAAAABHNCSVQICAgIfAhkiAAAAAlwSFlzAAALEgAACxIB0t1+/AAAADh0RVh0U29mdHdhcmUAbWF0cGxvdGxpYiB2ZXJzaW9uMy4yLjEsIGh0dHA6Ly9tYXRwbG90bGliLm9yZy+j8jraAAARdklEQVR4nO3deZBlZX3G8e8jIxEUSwytqKCtFqJgcOu4oTHiklGIxGhFiBgw6qRSYpS4oZiAf6RCGdcKWRyRgEoQRVyiBsUFqcQlNojsCBpE1EgTKiKCIPDLH/dO7PT0TJ/puefe7n6/n6pb3We55/2duXee+/Z7z5KqQpLUjrtMugBJ0ngZ/JLUGINfkhpj8EtSYwx+SWrMukkX0MVuu+1W09PTky5DklaV88477/qqmlo4f1UE//T0NLOzs5MuQ5JWlSTfX2y+Qz2S1BiDX5IaY/BLUmN6C/4kJyW5LsnFC+a/KskVSS5J8ra+2pckLa7PHv/JwPr5M5I8HTgY2K+q9gXe3mP7kqRF9Bb8VXUucMOC2X8KHF9Vtw7Xua6v9iVJixv3GP/DgKcm+UaSryT5zS2tmGRDktkks3Nzc2MsUZLWtnEH/zpgV+CJwOuBjyTJYitW1caqmqmqmampzc4/kCQt07iD/1rgzBr4D+BOYLcx1yBJTRv3mbufAA4AzknyMGBH4Pox1yBpjZs++jOTLmFkrj7+wJFvs7fgT3Ia8NvAbkmuBY4FTgJOGh7ieRtweHkLMEkaq96Cv6oO3cKiw/pqU5K0NM/claTGGPyS1BiDX5IaY/BLUmMMfklqjMEvSY0x+CWpMQa/JDXG4Jekxhj8ktQYg1+SGmPwS1JjDH5JaozBL0mNMfglqTEGvyQ1xuCXpMb0FvxJTkpy3fA2iwuXvS5JJfFG65I0Zn32+E8G1i+cmWRP4FnANT22LUnagt6Cv6rOBW5YZNG7gDcA3mRdkiZgrGP8SZ4H/LCqvt1h3Q1JZpPMzs3NjaE6SWrD2II/yc7AMcBfdlm/qjZW1UxVzUxNTfVbnCQ1ZJw9/ocCDwa+neRqYA/g/CS7j7EGSWreunE1VFUXAffZND0M/5mqun5cNUiS+j2c8zTga8DeSa5N8rK+2pIkdddbj7+qDl1i+XRfbUuStswzdyWpMQa/JDXG4Jekxhj8ktQYg1+SGmPwS1JjDH5JaozBL0mNMfglqTEGvyQ1xuCXpMYY/JLUGINfkhpj8EtSYwx+SWqMwS9JjTH4Jakxfd568aQk1yW5eN68v0lyeZILk3w8yb36al+StLg+e/wnA+sXzDsbeGRV7Qd8B3hTj+1LkhbRW/BX1bnADQvmfb6qbh9Ofh3Yo6/2JUmLm+QY/x8D/zrB9iWpSRMJ/iTHALcDp25lnQ1JZpPMzs3Nja84SVrjxh78SQ4HDgJeXFW1pfWqamNVzVTVzNTU1PgKlKQ1bt04G0uyHngj8LSqunmcbUuSBvo8nPM04GvA3kmuTfIy4ARgF+DsJBck+ce+2pckLa63Hn9VHbrI7Pf31Z4kqRvP3JWkxhj8ktQYg1+SGmPwS1JjDH5JaozBL0mNMfglqTEGvyQ1xuCXpMYY/JLUGINfkhpj8EtSYwx+SWqMwS9JjTH4JakxBr8kNcbgl6TGGPyS1JhOwZ/kQUmeOfx9pyS7dHjOSUmuS3LxvHn3TnJ2kiuHP3ddfumSpOVYMviTvAI4A3jvcNYewCc6bPtkYP2CeUcDX6yqvYAvDqclSWPUpcf/SmB/4EaAqroSuM9ST6qqc4EbFsw+GDhl+PspwO91rlSSNBJdgv/Wqrpt00SSdUAts737VtWPAYY/t/gBkmRDktkks3Nzc8tsTpK0UJfg/0qSNwM7JXkW8FHgX/otC6pqY1XNVNXM1NRU381JUjO6BP/RwBxwEfAnwGeBtyyzvZ8kuR/A8Od1y9yOJGmZ1i21QlXdCbxv+NhenwIOB44f/vzkCLYpSdoGXY7qOSjJt5LckOTGJD9LcmOH550GfA3YO8m1SV7GIPCfleRK4FnDaUnSGC3Z4wfeDfw+cFFVdf5St6oO3cKiZ3TdhiRp9LqM8f8AuHhbQl+StHJ16fG/Afhskq8At26aWVXv7K0qSVJvugT/XwE3AXcDduy3HElS37oE/72r6tm9VyJJGosuY/xfSGLwS9Ia0fVaPWcluWVbDueUJK1MXU7gWvISzJKk1WOLwZ/k4VV1eZLHLra8qs7vryxJUl+21uP/c2AD8I5FlhVwQC8VSZJ6tcXgr6oNw1+fU1W/mL8syd16rUqS1JsuX+5+teM8SdIqsLUx/t2BBzC4Dv9jgAwX3RPYeQy1SZJ6sLUx/t8BjmBwj9138KvgvxF4c79lSZL6srUx/lOAU5K8oKo+NsaaJEk9WnKM39CXpLWly5e7kqQ1xOCXpMZ0uTonSZ4MTM9fv6o+sNxGkxwFvJzBiWAXAS9deK6AJKkfSwZ/kg8CDwUuAO4Yzi5gWcGf5AHAnwH7VNUtST4CHAKcvJztSZK2TZce/wyDkB7lrRfXMTg/4JcMzgn40Qi3LUnaii5j/BcDu4+qwar6IfB24Brgx8BPq+rzC9dLsiHJbJLZubm5UTUvSc3rEvy7AZcm+VyST216LLfBJLsCBwMPBu4P3D3JYQvXq6qNVTVTVTNTU1PLbU6StECXoZ7jRtzmM4H/rKo5gCRnAk8GPjTidiRJi+hyI5avjLjNa4AnJtkZuAV4BjA74jYkSVuw5FBPkicm+WaSm5LcluSO7bn1YlV9AzgDOJ/BoZx3ATYud3uSpG3TZajnBAaHW36UwRE+fwTstT2NVtWxwLHbsw1J0vJ0OoGrqq5KskNV3QH8UxKvxy9Jq1SX4L85yY7ABUnexuAQzLv3W5YkqS9dDud8yXC9I4GfA3sCL+izKElSf7oc1fP9JDsB96uqt46hJklSj7oc1fO7DK7Tc9Zw+tHbcwKXJGmyugz1HAc8HvgfgKq6gMGVOiVJq1CX4L+9qn7aeyWSpLHoclTPxUn+ENghyV4MLqns4ZyStEp16fG/CtgXuBU4DbgReE2fRUmS+tPlqJ6bgWOGD0nSKtflDlwzwJvZ/NaL+/VXliSpL13G+E8FXs/ggmp39luOJKlvXYJ/rqo8bl+S1oguwX9skhOBLzL4gheAqjqzt6okSb3pEvwvBR4O3JVfDfUUYPBL0irUJfgfVVW/0XslkqSx6HIc/9eT7NN7JZKksegS/E9hcC3+K5JcmOSiJBduT6NJ7pXkjCSXJ7ksyZO2Z3uSpO66DPWs76Hd9wBnVdULhzd52bmHNiRJi+h0Pf5RNpjknsBvAUcMt38bcNso25AkbVmXoZ5Rewgwx+Devd9KcmKSzW7lmGRDktkks3Nzc+OvUpLWqEkE/zrgscA/VNVjGNzO8eiFK1XVxqqaqaqZqampcdcoSWvWJIL/WuDaqvrGcPoMBh8EkqQxGHvwV9V/AT9Isvdw1jOAS8ddhyS1qstRPX14FXDq8Iie7zE4O1iSNAYTCf7hfXtnJtG2JLVuEmP8kqQJMvglqTEGvyQ1xuCXpMZM6qgeqXfTR39m0iWMzNXHHzjpErSG2OOXpMas+R6/vT5J+v/s8UtSYwx+SWqMwS9JjTH4JakxBr8kNcbgl6TGGPyS1BiDX5IaY/BLUmMMfklqzMSCP8kOSb6V5NOTqkGSWjTJHv+rgcsm2L4kNWkiwZ9kD+BA4MRJtC9JLZtUj//dwBuAO7e0QpINSWaTzM7NzY2vMkla48Ye/EkOAq6rqvO2tl5VbayqmaqamZqaGlN1krT2TaLHvz/wvCRXAx8GDkjyoQnUIUlNGnvwV9WbqmqPqpoGDgG+VFWHjbsOSWqVx/FLUmMmeuvFqjoHOGeSNUhSa+zxS1JjDH5JaozBL0mNMfglqTEGvyQ1xuCXpMYY/JLUGINfkhpj8EtSYwx+SWqMwS9JjTH4JakxBr8kNcbgl6TGGPyS1BiDX5IaY/BLUmPGHvxJ9kzy5SSXJbkkyavHXYMktWwSt168HXhtVZ2fZBfgvCRnV9WlE6hFkpoz9h5/Vf24qs4f/v4z4DLgAeOuQ5JaNdEx/iTTwGOAb0yyDklqycSCP8k9gI8Br6mqGxdZviHJbJLZubm58RcoSWvURII/yV0ZhP6pVXXmYutU1caqmqmqmampqfEWKElr2CSO6gnwfuCyqnrnuNuXpNZNose/P/AS4IAkFwwfz51AHZLUpLEfzllV/wZk3O1KkgY8c1eSGmPwS1JjDH5JaozBL0mNMfglqTEGvyQ1xuCXpMYY/JLUGINfkhpj8EtSYwx+SWrMJG69KKln00d/ZtIljMzVxx846RLWHHv8ktQYg1+SGmPwS1JjDH5JaozBL0mNMfglqTETCf4k65NckeSqJEdPogZJatXYgz/JDsDfAc8B9gEOTbLPuOuQpFZNosf/eOCqqvpeVd0GfBg4eAJ1SFKTUlXjbTB5IbC+ql4+nH4J8ISqOnLBehuADcPJvYErxlrottsNuH7SRUyI+96ulvd/Nez7g6pqauHMSVyyIYvM2+zTp6o2Ahv7L2c0ksxW1cyk65gE973NfYe293817/skhnquBfacN70H8KMJ1CFJTZpE8H8T2CvJg5PsCBwCfGoCdUhSk8Y+1FNVtyc5EvgcsANwUlVdMu46erBqhqV64L63q+X9X7X7PvYvdyVJk+WZu5LUGINfkhpj8C8iyTFJLklyYZILkjxhOH9dkuuT/PWC9c9JMjNvejrJxfOmH5/k3OFlKi5PcmKSnce3R1quxd4La/X1TnLHcB83PaaH8xfdnyRHJDlhwTb+798myT2SvDfJd4f/hudu+r+02mxrJqx0Bv8CSZ4EHAQ8tqr2A54J/GC4+NkMTiT7gySLnY+w2PbuC3wUeGNV7Q08AjgL2GXUtXeoZWIfaMOQmBu2e3mSo+YtOy7JD4fLLk1y6Oj3ftst8V7Y0nNWzOu9DLdU1aPnPa7ezv05EbgB2Kuq9gWOYHDS06oy6kxYCQz+zd0PuL6qbgWoquuratN5BocC7wGuAZ7YcXuvBE6pqq8Nt1dVdUZV/WTEdW/VCvlAO72qHg3sDxyTZP75HO8aLjsYeG+Su3bfu95s7b2wJSvi9R6hZe1PkocCTwDeUlV3Dp/7vapajTcDHnUmTJzBv7nPA3sm+U6Sv0/yNIAkOwHPAD4NnMbgBZ/v1E1/IgOfnTf/kcB5Y6h7KSvmA62q/hu4aljTwmVXAjcDu3aso0+LvheGVvrrvRw7zRvm+fhw3lL786L5w0PApr8Q9wUuqKo7+ix4TJabCSuWwb9AVd0EPI7BdYLmgNOTHMGgt/zlqroZ+Bjw/AyuNLrJizf9iQw8d8xld7FiPtCSPBC4G3DhIsseC1xZVdctZ9ujtJX3Aqz813s55g/1PL/jc06fPzwEzPZZ4CRsRyasWJO4Vs+KN+ylnAOck+Qi4HDgl8D+Sa4ervbrwNOBLyyxuUsYvGk+2UuxHVXVTUkeBzyVQd2nZ3AvhJ8zfPMm+RjwF0mOmtdTe3FVzcJgjJ/BB8RyvSjJ0xlcdO8VVfWLecuOSvIK4CHA+u1oY6S28F7YmhXxeo/QcvfnEuBRSe6yaahnNRtxJkycPf4FkuydZK95sx7N4FP+KcADq2q6qqYZDHV0+dPuBODw+UczJDksye4jLLuTqrqjqs6pqmOBI4EXMNiHZw7fvOfxqzfvUjYFwrY4ffgl31OBdyz4N3jX8LuCFwEfSHK3bdz2yG3hvfD9JZ62Yl7vEVnW/lTVdxn0/t+66XujJHslWXWXYO8hEybO4N/cPYBThkeXXMjgZjGXAl/aND4+9EngeUl+bWsbG455HwK8fXj0y2UMgu/Gfspf3Er6QBt+L/BB4NWLLDuTQWAs1bMeh8XeC8dt7Qkr5fUele3cn5cDuwNXDXvJ72N1XpBxpJmwEnjJhkYMh3n+FrgXcDuDL1e/CsxU1SHz1rs3gyN89mBwPaXXLRzqqapHDqefBLwNuA9wJ3AucNRwzHNh+0cM2zpyOH1/4HxgL+C1wE1V9fZ5tf4z8Ii1MEwgrTQGvyQ1xqEeSWqMR/VopJK8lM3H7v+9ql45iXokbc6hHklqjEM9ktQYg1+SGmPwS1JjDH5Jasz/AvsmhRuQnaO7AAAAAElFTkSuQmCC\n",
      "text/plain": [
       "<Figure size 432x288 with 1 Axes>"
      ]
     },
     "metadata": {
      "needs_background": "light"
     },
     "output_type": "display_data"
    },
    {
     "data": {
      "image/png": "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\n",
      "text/plain": [
       "<Figure size 432x288 with 1 Axes>"
      ]
     },
     "metadata": {
      "needs_background": "light"
     },
     "output_type": "display_data"
    },
    {
     "data": {
      "image/png": "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\n",
      "text/plain": [
       "<Figure size 432x288 with 1 Axes>"
      ]
     },
     "metadata": {
      "needs_background": "light"
     },
     "output_type": "display_data"
    },
    {
     "name": "stdout",
     "output_type": "stream",
     "text": [
      "Box plot for the results\n",
      "Box plot for the runtime results\n"
     ]
    },
    {
     "data": {
      "image/png": "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\n",
      "text/plain": [
       "<Figure size 432x288 with 1 Axes>"
      ]
     },
     "metadata": {
      "needs_background": "light"
     },
     "output_type": "display_data"
    }
   ],
   "source": [
    "generateComparisons(N=20, n=20)"
   ]
  },
  {
   "cell_type": "markdown",
   "metadata": {},
   "source": [
    "From the above simulation results, we can conclude that the Steepest-Ascent Hill Climbing with Random Restart is the best algorithm in terms of minimizing conflicts and having the shortest runtime, especially when the number of squares grow. Simulated annealing gets better results than most other algorithms but have the worst runtime, especially when the number of squares grow. First choice hill climbing gets very good runtime but not very good results because it selects the first result without accounting for other factors. "
=======
   "execution_count": 289,
   "metadata": {},
   "outputs": [],
   "source": [
    "# Code, results, charts and discussion go here"
>>>>>>> 6ee1f640fb69a549482c5cc990eec0fd22023eb9
   ]
  },
  {
   "cell_type": "markdown",
   "metadata": {},
   "source": [
    "## Bonus: Implement a Genetic Algorithm for the n-Queens problem [+1 Point]"
   ]
  },
  {
   "cell_type": "code",
   "execution_count": 290,
   "metadata": {},
   "outputs": [],
   "source": [
    "# Code and description go here"
   ]
  }
 ],
 "metadata": {
  "kernelspec": {
   "display_name": "Python 3",
   "language": "python",
   "name": "python3"
  },
  "language_info": {
   "codemirror_mode": {
    "name": "ipython",
    "version": 3
   },
   "file_extension": ".py",
   "mimetype": "text/x-python",
   "name": "python",
   "nbconvert_exporter": "python",
   "pygments_lexer": "ipython3",
   "version": "3.8.2"
  }
 },
 "nbformat": 4,
 "nbformat_minor": 4
}
