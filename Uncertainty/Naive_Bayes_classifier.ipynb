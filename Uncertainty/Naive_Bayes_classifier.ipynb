{
 "cells": [
  {
   "cell_type": "markdown",
   "metadata": {},
   "source": [
    "# Naive Bayes Classifier for Spam Detection\n",
    "\n",
    "## Instructions\n",
    "\n",
    "Total Points: 10\n",
    "\n",
    "Complete this notebook and submit it. The notebook needs to be a complete project report with \n",
    "\n",
    "* your implementation,\n",
    "* documentation including a short discussion of how your implementation works and your design choices, and\n",
    "* experimental results (e.g., tables and charts with simulation results) with a short discussion of what they mean. \n",
    "\n",
    "Use the provided notebook cells and insert additional code and markdown cells as needed.\n",
    "\n",
    "## Introduction\n",
    "\n",
    "A spam detection agent gets as its percepts text messages and needs to decide if they are spam or not.\n",
    "Create a [naive Bayes classifier](https://en.wikipedia.org/wiki/Naive_Bayes_classifier) for the \n",
    "[UCI SMS Spam Collection Data Set](https://archive.ics.uci.edu/ml/datasets/SMS+Spam+Collection) to perform this task.\n",
    "\n",
    "## Create a bag-of-words representation of the text messages [3 Points]\n",
    "\n",
    "The first step is to tokenize the text. Here is an example of how to use the [natural language tool kit (nltk)](https://www.nltk.org/) to create tokens (separate words)."
   ]
  },
  {
   "cell_type": "code",
   "execution_count": 1,
   "metadata": {
    "scrolled": true
   },
   "outputs": [
    {
     "name": "stdout",
     "output_type": "stream",
     "text": [
      "text message: \"ham\tGo until jurong point, crazy.. Available only in bugis n great world la e buffet... Cine there got amore wat...\n",
      "\"\n",
      "tokens: ['ham', 'Go', 'until', 'jurong', 'point', ',', 'crazy', '..', 'Available', 'only', 'in', 'bugis', 'n', 'great', 'world', 'la', 'e', 'buffet', '...', 'Cine', 'there', 'got', 'amore', 'wat', '...']\n"
     ]
    }
   ],
   "source": [
    "import nltk\n",
    "# You need to install nltk and then download the tokenizer once.\n",
    "# nltk.download('punkt')\n",
    "\n",
    "file = open(\"smsspamcollection/SMSSpamCollection\", \"r\")\n",
    "\n",
    "sentence = file.readline()\n",
    "print(f\"text message: \\\"{sentence}\\\"\")\n",
    "\n",
    "tokens = nltk.word_tokenize(sentence)\n",
    "\n",
    "print(f\"tokens: {tokens}\")"
   ]
  },
  {
   "cell_type": "markdown",
   "metadata": {},
   "source": [
    "Experiment with removing frequent words (called [stopwords](https://en.wikipedia.org/wiki/Stop_word)) and very infrequent words so you end up with a reasonable number of words used in the classifier. Maybe you need to remove digits or all non-letter characters. You may also use a stemming algorithm. \n",
    "\n",
    "Convert the tokenized data into a data structure that indicates for each for document what words it contains. The data structure can be a [document-term matrix](https://en.wikipedia.org/wiki/Document-term_matrix) with 0s and 1s, a pandas dataframe or some sparse matrix structure. Make sure the data structure can be used to split the data into training and test documents (see below).\n",
    "\n",
    "Report the 20 most frequent and the 20 least frequent words in your data set."
   ]
  },
  {
   "cell_type": "code",
   "execution_count": 2,
   "metadata": {},
   "outputs": [],
   "source": [
    "from nltk.probability import FreqDist"
   ]
  },
  {
   "cell_type": "code",
   "execution_count": 3,
   "metadata": {},
   "outputs": [],
   "source": [
    "def getFreq(tokens):\n",
    "    fdist = FreqDist(tokens)\n",
    "    print('Most Common:')\n",
    "    print(fdist.most_common(20))\n",
    "    print('Least Common:')\n",
    "    print(fdist.most_common()[-20:])"
   ]
  },
  {
   "cell_type": "markdown",
   "metadata": {},
   "source": [
    "Download 'stopwords' and 'punkt' from nltk"
   ]
  },
  {
   "cell_type": "code",
   "execution_count": 4,
   "metadata": {},
   "outputs": [
    {
     "name": "stderr",
     "output_type": "stream",
     "text": [
      "[nltk_data] Downloading package stopwords to\n",
      "[nltk_data]     C:\\Users\\hhe99\\AppData\\Roaming\\nltk_data...\n",
      "[nltk_data]   Package stopwords is already up-to-date!\n"
     ]
    },
    {
     "data": {
      "text/plain": [
       "True"
      ]
     },
     "execution_count": 4,
     "metadata": {},
     "output_type": "execute_result"
    }
   ],
   "source": [
    "nltk.download('stopwords')"
   ]
  },
  {
   "cell_type": "code",
   "execution_count": 5,
   "metadata": {},
   "outputs": [
    {
     "name": "stderr",
     "output_type": "stream",
     "text": [
      "[nltk_data] Downloading package punkt to\n",
      "[nltk_data]     C:\\Users\\hhe99\\AppData\\Roaming\\nltk_data...\n",
      "[nltk_data]   Package punkt is already up-to-date!\n"
     ]
    },
    {
     "data": {
      "text/plain": [
       "True"
      ]
     },
     "execution_count": 5,
     "metadata": {},
     "output_type": "execute_result"
    }
   ],
   "source": [
    "nltk.download('punkt')"
   ]
  },
  {
   "cell_type": "code",
   "execution_count": 6,
   "metadata": {},
   "outputs": [
    {
     "name": "stderr",
     "output_type": "stream",
     "text": [
      "[nltk_data] Downloading package wordnet to\n",
      "[nltk_data]     C:\\Users\\hhe99\\AppData\\Roaming\\nltk_data...\n",
      "[nltk_data]   Package wordnet is already up-to-date!\n"
     ]
    },
    {
     "data": {
      "text/plain": [
       "True"
      ]
     },
     "execution_count": 6,
     "metadata": {},
     "output_type": "execute_result"
    }
   ],
   "source": [
    "nltk.download('wordnet')"
   ]
  },
  {
   "cell_type": "code",
   "execution_count": 7,
   "metadata": {},
   "outputs": [],
   "source": [
    "# Description and code goes here!\n",
    "from nltk.corpus import stopwords"
   ]
  },
  {
   "cell_type": "code",
   "execution_count": 8,
   "metadata": {},
   "outputs": [],
   "source": [
    "from nltk.stem import PorterStemmer\n",
    "from nltk.stem.wordnet import WordNetLemmatizer"
   ]
  },
  {
   "cell_type": "code",
   "execution_count": 9,
   "metadata": {},
   "outputs": [],
   "source": [
    "stop = set(stopwords.words('english'))"
   ]
  },
  {
   "cell_type": "code",
   "execution_count": 10,
   "metadata": {},
   "outputs": [],
   "source": [
    "porter = PorterStemmer()\n",
    "lmtzr = WordNetLemmatizer()"
   ]
  },
  {
   "cell_type": "code",
   "execution_count": 11,
   "metadata": {},
   "outputs": [],
   "source": [
    "labels=[]\n",
    "messages=[]"
   ]
  },
  {
   "cell_type": "code",
   "execution_count": 12,
   "metadata": {},
   "outputs": [],
   "source": [
    "while True:\n",
    "    line = file.readline()\n",
    "    if not line:\n",
    "        break\n",
    "    words = nltk.word_tokenize(line)\n",
    "    labels.append(words.pop(0))\n",
    "    # first word is the label\n",
    "    words_clean = []\n",
    "    for word in words:\n",
    "        # Remove punctuations, and non-letter words\n",
    "        if word.isalpha():\n",
    "            # lower case, lemmatize, and stem words\n",
    "            word = lmtzr.lemmatize(word.lower())\n",
    "            word = porter.stem(word)\n",
    "            # remove stop words\n",
    "            if word not in stop:\n",
    "                words_clean.append(porter.stem(word))\n",
    "    messages.append(words_clean)"
   ]
  },
  {
   "cell_type": "markdown",
   "metadata": {},
   "source": [
    "Convert the tokenized text to a dataframe"
   ]
  },
  {
   "cell_type": "code",
   "execution_count": 13,
   "metadata": {},
   "outputs": [],
   "source": [
    "import pandas as pd\n",
    "df = pd.DataFrame(list(zip(labels, messages)), columns=['Label', 'Message'])"
   ]
  },
  {
   "cell_type": "code",
   "execution_count": 14,
   "metadata": {},
   "outputs": [
    {
     "data": {
      "text/html": [
       "<div>\n",
       "<style scoped>\n",
       "    .dataframe tbody tr th:only-of-type {\n",
       "        vertical-align: middle;\n",
       "    }\n",
       "\n",
       "    .dataframe tbody tr th {\n",
       "        vertical-align: top;\n",
       "    }\n",
       "\n",
       "    .dataframe thead th {\n",
       "        text-align: right;\n",
       "    }\n",
       "</style>\n",
       "<table border=\"1\" class=\"dataframe\">\n",
       "  <thead>\n",
       "    <tr style=\"text-align: right;\">\n",
       "      <th></th>\n",
       "      <th>Label</th>\n",
       "      <th>Message</th>\n",
       "    </tr>\n",
       "  </thead>\n",
       "  <tbody>\n",
       "    <tr>\n",
       "      <th>0</th>\n",
       "      <td>ham</td>\n",
       "      <td>[ok, lar, joke, wif, u, oni]</td>\n",
       "    </tr>\n",
       "    <tr>\n",
       "      <th>1</th>\n",
       "      <td>spam</td>\n",
       "      <td>[free, entri, wkli, comp, win, fa, cup, final,...</td>\n",
       "    </tr>\n",
       "    <tr>\n",
       "      <th>2</th>\n",
       "      <td>ham</td>\n",
       "      <td>[u, dun, say, earli, hor, u, c, alreadi, say]</td>\n",
       "    </tr>\n",
       "    <tr>\n",
       "      <th>3</th>\n",
       "      <td>ham</td>\n",
       "      <td>[nah, think, go, usf, life, around, though]</td>\n",
       "    </tr>\n",
       "    <tr>\n",
       "      <th>4</th>\n",
       "      <td>spam</td>\n",
       "      <td>[freemsg, hey, darl, week, word, back, like, f...</td>\n",
       "    </tr>\n",
       "  </tbody>\n",
       "</table>\n",
       "</div>"
      ],
      "text/plain": [
       "  Label                                            Message\n",
       "0   ham                       [ok, lar, joke, wif, u, oni]\n",
       "1  spam  [free, entri, wkli, comp, win, fa, cup, final,...\n",
       "2   ham      [u, dun, say, earli, hor, u, c, alreadi, say]\n",
       "3   ham        [nah, think, go, usf, life, around, though]\n",
       "4  spam  [freemsg, hey, darl, week, word, back, like, f..."
      ]
     },
     "execution_count": 14,
     "metadata": {},
     "output_type": "execute_result"
    }
   ],
   "source": [
    "df.head()"
   ]
  },
  {
   "cell_type": "code",
   "execution_count": 15,
   "metadata": {},
   "outputs": [
    {
     "name": "stdout",
     "output_type": "stream",
     "text": [
      "<class 'pandas.core.frame.DataFrame'>\n",
      "RangeIndex: 5573 entries, 0 to 5572\n",
      "Data columns (total 2 columns):\n",
      " #   Column   Non-Null Count  Dtype \n",
      "---  ------   --------------  ----- \n",
      " 0   Label    5573 non-null   object\n",
      " 1   Message  5573 non-null   object\n",
      "dtypes: object(2)\n",
      "memory usage: 43.6+ KB\n"
     ]
    }
   ],
   "source": [
    "df.info()"
   ]
  },
  {
   "cell_type": "markdown",
   "metadata": {},
   "source": [
    "## Learn parameters [3 Points]\n",
    "\n",
    "Use 80% of the data (called training set; randomly chosen) to learn the parameters of the naive Bayes classifier (prior probabilities and likelihoods). Use [Laplacian smoothing](https://en.wikipedia.org/wiki/Additive_smoothing) for the counts.\n",
    "\n",
    "Report the top 20 words (highest conditional probability) for spam and for ham (i.e., not spam)."
   ]
  },
  {
   "cell_type": "code",
   "execution_count": 16,
   "metadata": {},
   "outputs": [],
   "source": [
    "from sklearn.model_selection import train_test_split\n",
    "\n",
    "train, test = train_test_split(df, test_size=0.2, random_state=1)"
   ]
  },
  {
   "cell_type": "code",
   "execution_count": 17,
   "metadata": {},
   "outputs": [],
   "source": [
    "train = train.reset_index()\n",
    "test = test.reset_index()\n",
    "train.drop('index', axis=1, inplace=True)\n",
    "test.drop('index', axis=1, inplace=True)"
   ]
  },
  {
   "cell_type": "markdown",
   "metadata": {},
   "source": [
    "Calculate the constants needed for the classifier"
   ]
  },
  {
   "cell_type": "code",
   "execution_count": 18,
   "metadata": {},
   "outputs": [],
   "source": [
    "spam = [word for message in list(train[train['Label']=='spam']['Message']) for word in message]\n",
    "ham = [word for message in list(train[train['Label']=='ham']['Message']) for word in message]\n",
    "\n",
    "messages = list(train['Message'])\n",
    "# total number of words\n",
    "n_total = len([word for message in messages for word in message])\n",
    "\n",
    "# total number of words in spam\n",
    "n_spam = len(spam)\n",
    "\n",
    "# total number of words in ham\n",
    "n_ham = len(ham)\n",
    "\n",
    "# P(Spam) and P(Ham)\n",
    "p_spam = n_spam / n_total\n",
    "p_ham = n_ham / n_total"
   ]
  },
  {
   "cell_type": "code",
   "execution_count": 19,
   "metadata": {},
   "outputs": [
    {
     "data": {
      "text/plain": [
       "38870"
      ]
     },
     "execution_count": 19,
     "metadata": {},
     "output_type": "execute_result"
    }
   ],
   "source": [
    "n_total"
   ]
  },
  {
   "cell_type": "code",
   "execution_count": 20,
   "metadata": {},
   "outputs": [
    {
     "data": {
      "text/plain": [
       "7674"
      ]
     },
     "execution_count": 20,
     "metadata": {},
     "output_type": "execute_result"
    }
   ],
   "source": [
    "n_spam"
   ]
  },
  {
   "cell_type": "code",
   "execution_count": 21,
   "metadata": {},
   "outputs": [
    {
     "data": {
      "text/plain": [
       "31196"
      ]
     },
     "execution_count": 21,
     "metadata": {},
     "output_type": "execute_result"
    }
   ],
   "source": [
    "n_ham"
   ]
  },
  {
   "cell_type": "code",
   "execution_count": 22,
   "metadata": {},
   "outputs": [
    {
     "data": {
      "text/plain": [
       "0.19742732184203757"
      ]
     },
     "execution_count": 22,
     "metadata": {},
     "output_type": "execute_result"
    }
   ],
   "source": [
    "p_spam"
   ]
  },
  {
   "cell_type": "code",
   "execution_count": 23,
   "metadata": {},
   "outputs": [
    {
     "data": {
      "text/plain": [
       "0.8025726781579624"
      ]
     },
     "execution_count": 23,
     "metadata": {},
     "output_type": "execute_result"
    }
   ],
   "source": [
    "p_ham"
   ]
  },
  {
   "cell_type": "code",
   "execution_count": null,
   "metadata": {},
   "outputs": [],
   "source": []
  },
  {
   "cell_type": "code",
   "execution_count": 24,
   "metadata": {},
   "outputs": [],
   "source": [
    "# Unique words\n",
    "vocabulary = set([word for message in messages for word in message])"
   ]
  },
  {
   "cell_type": "code",
   "execution_count": 25,
   "metadata": {},
   "outputs": [],
   "source": [
    "n_vocabulary = len(vocabulary)"
   ]
  },
  {
   "cell_type": "code",
   "execution_count": 26,
   "metadata": {},
   "outputs": [
    {
     "data": {
      "text/plain": [
       "5268"
      ]
     },
     "execution_count": 26,
     "metadata": {},
     "output_type": "execute_result"
    }
   ],
   "source": [
    "# number of unique words\n",
    "n_vocabulary"
   ]
  },
  {
   "cell_type": "code",
   "execution_count": 27,
   "metadata": {},
   "outputs": [],
   "source": [
    "# Laplace smoothing\n",
    "alpha=1\n",
    "n_classes=2"
   ]
  },
  {
   "cell_type": "markdown",
   "metadata": {},
   "source": [
    "Calculate parameters"
   ]
  },
  {
   "cell_type": "code",
   "execution_count": 28,
   "metadata": {},
   "outputs": [],
   "source": [
    "params_spam = {}\n",
    "params_ham = {}"
   ]
  },
  {
   "cell_type": "code",
   "execution_count": 29,
   "metadata": {},
   "outputs": [],
   "source": [
    "for word in vocabulary:\n",
    "    # number of occurances of this word in spam messages\n",
    "    n_word_spam = spam.count(word)\n",
    "    # probability of a word given that it's a spam\n",
    "    p_word_spam = (n_word_spam + alpha) / (n_spam + n_classes)\n",
    "    params_spam[word] = p_word_spam\n",
    "    \n",
    "    n_word_ham = ham.count(word)\n",
    "    p_word_ham = (n_word_ham + alpha) / (n_ham + n_classes)\n",
    "    params_ham[word] = p_word_ham"
   ]
  },
  {
   "cell_type": "code",
   "execution_count": 30,
   "metadata": {},
   "outputs": [],
   "source": [
    "sorted_params_spam = sorted(params_spam.items(), key=lambda x: x[1], reverse=True)"
   ]
  },
  {
   "cell_type": "code",
   "execution_count": 31,
   "metadata": {},
   "outputs": [],
   "source": [
    "sorted_params_ham = sorted(params_ham.items(), key=lambda x:x[1], reverse=True)"
   ]
  },
  {
   "cell_type": "code",
   "execution_count": 32,
   "metadata": {},
   "outputs": [],
   "source": [
    "def getTop20(arr):\n",
    "    for count, ele in enumerate(arr):\n",
    "        if count >= 20:\n",
    "            break\n",
    "        print(ele)"
   ]
  },
  {
   "cell_type": "code",
   "execution_count": 33,
   "metadata": {},
   "outputs": [
    {
     "name": "stdout",
     "output_type": "stream",
     "text": [
      "('call', 0.0385617509119333)\n",
      "('free', 0.02123501823866597)\n",
      "('u', 0.01706618030224075)\n",
      "('txt', 0.016545075560187597)\n",
      "('ur', 0.015242313705054716)\n",
      "('text', 0.0143303804064617)\n",
      "('mobil', 0.014069828035435123)\n",
      "('stop', 0.012245961438249088)\n",
      "('claim', 0.011073475768629494)\n",
      "('repli', 0.011073475768629494)\n",
      "('prize', 0.009900990099009901)\n",
      "('c', 0.009770713913496612)\n",
      "('thi', 0.009119332985930172)\n",
      "('get', 0.008728504429390308)\n",
      "('servic', 0.008467952058363731)\n",
      "('onli', 0.008337675872850442)\n",
      "('send', 0.007556018759770714)\n",
      "('tone', 0.00716519020323085)\n",
      "('cash', 0.0070349140177175615)\n",
      "('award', 0.0070349140177175615)\n"
     ]
    }
   ],
   "source": [
    "getTop20(sorted_params_spam)"
   ]
  },
  {
   "cell_type": "code",
   "execution_count": 34,
   "metadata": {},
   "outputs": [
    {
     "name": "stdout",
     "output_type": "stream",
     "text": [
      "('u', 0.026764536188217194)\n",
      "('go', 0.011378934547086352)\n",
      "('get', 0.009487787678697353)\n",
      "('gt', 0.008365920892364894)\n",
      "('lt', 0.008333867555612539)\n",
      "('come', 0.007660747483813065)\n",
      "('call', 0.007212000769280082)\n",
      "('thi', 0.006795307391499455)\n",
      "('ok', 0.006699147381242387)\n",
      "('like', 0.006570934034232963)\n",
      "('know', 0.0065388806974806075)\n",
      "('love', 0.006506827360728252)\n",
      "('ur', 0.006506827360728252)\n",
      "('good', 0.006410667350471184)\n",
      "('got', 0.0063786140137188285)\n",
      "('wa', 0.006250400666709404)\n",
      "('time', 0.005865760625681133)\n",
      "('day', 0.00573754727867171)\n",
      "('want', 0.005705493941919354)\n",
      "('need', 0.004487467145329829)\n"
     ]
    }
   ],
   "source": [
    "getTop20(sorted_params_ham)"
   ]
  },
  {
   "cell_type": "code",
   "execution_count": 35,
   "metadata": {},
   "outputs": [],
   "source": [
    "# Classify a message\n",
    "def classify(message):\n",
    "    # initialize the probability to the prior probability\n",
    "    p_message_spam = p_spam\n",
    "    p_message_ham = p_ham\n",
    "    for word in message:\n",
    "        if word in params_spam:\n",
    "            p_message_spam *= params_spam[word]\n",
    "        if word in params_ham:\n",
    "            p_message_ham *= params_ham[word]\n",
    "    \n",
    "    if p_message_spam > p_message_ham:\n",
    "        return ['spam', p_message_spam, p_message_ham]\n",
    "    else:\n",
    "        return ['ham', p_message_spam, p_message_ham]"
   ]
  },
  {
   "cell_type": "markdown",
   "metadata": {},
   "source": [
    "## Evaluate the classification performance [4 Points] \n",
    "\n",
    "Classify the remaining 20% of the data (test set) and calculate classification accuracy. Accuracy is defined as the proportion of correctly classified test documents.\n",
    "\n",
    "Inspect a few misclassified text messages and discuss why the classification failed.\n",
    "\n",
    "Discuss how you deal with words in the test data that you have not seen in the training data."
   ]
  },
  {
   "cell_type": "code",
   "execution_count": 36,
   "metadata": {},
   "outputs": [],
   "source": [
    "test['Prediction'] = test['Message'].apply(classify)"
   ]
  },
  {
   "cell_type": "code",
   "execution_count": 37,
   "metadata": {},
   "outputs": [
    {
     "data": {
      "text/html": [
       "<div>\n",
       "<style scoped>\n",
       "    .dataframe tbody tr th:only-of-type {\n",
       "        vertical-align: middle;\n",
       "    }\n",
       "\n",
       "    .dataframe tbody tr th {\n",
       "        vertical-align: top;\n",
       "    }\n",
       "\n",
       "    .dataframe thead th {\n",
       "        text-align: right;\n",
       "    }\n",
       "</style>\n",
       "<table border=\"1\" class=\"dataframe\">\n",
       "  <thead>\n",
       "    <tr style=\"text-align: right;\">\n",
       "      <th></th>\n",
       "      <th>Label</th>\n",
       "      <th>Message</th>\n",
       "      <th>Prediction</th>\n",
       "    </tr>\n",
       "  </thead>\n",
       "  <tbody>\n",
       "    <tr>\n",
       "      <th>0</th>\n",
       "      <td>ham</td>\n",
       "      <td>[give, fli, monkey, wot, think, certainli, min...</td>\n",
       "      <td>[ham, 9.487723465686995e-32, 1.344055342434491...</td>\n",
       "    </tr>\n",
       "    <tr>\n",
       "      <th>1</th>\n",
       "      <td>ham</td>\n",
       "      <td>[ye, small, kid, boost, secret, energi]</td>\n",
       "      <td>[spam, 2.2003353355928533e-18, 1.9571187436383...</td>\n",
       "    </tr>\n",
       "    <tr>\n",
       "      <th>2</th>\n",
       "      <td>ham</td>\n",
       "      <td>[dont, think, need, yellow, card, uk, travel, ...</td>\n",
       "      <td>[ham, 6.183935269817049e-50, 5.80330532730119e...</td>\n",
       "    </tr>\n",
       "    <tr>\n",
       "      <th>3</th>\n",
       "      <td>ham</td>\n",
       "      <td>[sorri, din, lock, keypad]</td>\n",
       "      <td>[ham, 1.7460728013524371e-12, 7.99255984286686...</td>\n",
       "    </tr>\n",
       "    <tr>\n",
       "      <th>4</th>\n",
       "      <td>ham</td>\n",
       "      <td>[hi, hope, ur, day, good, back, walk, tabl, bo...</td>\n",
       "      <td>[ham, 5.643459327235041e-45, 1.582976066998658...</td>\n",
       "    </tr>\n",
       "    <tr>\n",
       "      <th>5</th>\n",
       "      <td>ham</td>\n",
       "      <td>[ok, thk, got, u, wan, come, wat]</td>\n",
       "      <td>[ham, 2.7672160577987614e-23, 5.23323281517724...</td>\n",
       "    </tr>\n",
       "    <tr>\n",
       "      <th>6</th>\n",
       "      <td>spam</td>\n",
       "      <td>[last, chanc, claim, ur, worth, discount, ye, ...</td>\n",
       "      <td>[spam, 7.551543933791488e-39, 6.29078197600759...</td>\n",
       "    </tr>\n",
       "    <tr>\n",
       "      <th>7</th>\n",
       "      <td>ham</td>\n",
       "      <td>[bank, say, money]</td>\n",
       "      <td>[ham, 3.4921456027048742e-12, 1.37395909679758...</td>\n",
       "    </tr>\n",
       "    <tr>\n",
       "      <th>8</th>\n",
       "      <td>ham</td>\n",
       "      <td>[horribl, gal, sch, stuff, come, u, got, mc]</td>\n",
       "      <td>[ham, 4.612026762997935e-25, 7.600788770158969...</td>\n",
       "    </tr>\n",
       "    <tr>\n",
       "      <th>9</th>\n",
       "      <td>ham</td>\n",
       "      <td>[good, afternoon, love, ani, job, prospect, mi...</td>\n",
       "      <td>[ham, 2.603381860182261e-42, 4.203697548133950...</td>\n",
       "    </tr>\n",
       "    <tr>\n",
       "      <th>10</th>\n",
       "      <td>ham</td>\n",
       "      <td>[ãœ, neva, tell, noe, home, da, aft, wat]</td>\n",
       "      <td>[ham, 1.3759631774852724e-30, 2.47814184797429...</td>\n",
       "    </tr>\n",
       "    <tr>\n",
       "      <th>11</th>\n",
       "      <td>ham</td>\n",
       "      <td>[hou, ani, beer]</td>\n",
       "      <td>[ham, 8.293845806424077e-12, 3.568107072708421...</td>\n",
       "    </tr>\n",
       "    <tr>\n",
       "      <th>12</th>\n",
       "      <td>ham</td>\n",
       "      <td>[dunno, u, ask]</td>\n",
       "      <td>[ham, 2.8591942122146166e-10, 5.40700373629129...</td>\n",
       "    </tr>\n",
       "    <tr>\n",
       "      <th>13</th>\n",
       "      <td>ham</td>\n",
       "      <td>[ok, thanx, take, care]</td>\n",
       "      <td>[ham, 2.0472453376982718e-14, 3.72381155836603...</td>\n",
       "    </tr>\n",
       "    <tr>\n",
       "      <th>14</th>\n",
       "      <td>ham</td>\n",
       "      <td>[go, write, msg, put, dictionari, mode, cover,...</td>\n",
       "      <td>[ham, 6.550290461883065e-61, 2.454396991762156...</td>\n",
       "    </tr>\n",
       "    <tr>\n",
       "      <th>15</th>\n",
       "      <td>ham</td>\n",
       "      <td>[plan, famili, set, stone]</td>\n",
       "      <td>[ham, 2.2747170418869686e-16, 4.98347069838285...</td>\n",
       "    </tr>\n",
       "    <tr>\n",
       "      <th>16</th>\n",
       "      <td>ham</td>\n",
       "      <td>[call, check, life, begin, qatar, pl, pray, ve...</td>\n",
       "      <td>[ham, 1.4553476383317763e-30, 2.28306968860997...</td>\n",
       "    </tr>\n",
       "    <tr>\n",
       "      <th>17</th>\n",
       "      <td>ham</td>\n",
       "      <td>[sir, wait, mail]</td>\n",
       "      <td>[ham, 1.3095546010143281e-11, 1.57313876272300...</td>\n",
       "    </tr>\n",
       "    <tr>\n",
       "      <th>18</th>\n",
       "      <td>ham</td>\n",
       "      <td>[suck, got, plan, yo, valentin, yo, valentin]</td>\n",
       "      <td>[ham, 1.2674272020452344e-25, 1.46679639496213...</td>\n",
       "    </tr>\n",
       "    <tr>\n",
       "      <th>19</th>\n",
       "      <td>ham</td>\n",
       "      <td>[also, know, lunch, menu, onli, da, know]</td>\n",
       "      <td>[ham, 1.854064935563314e-23, 9.966595095358599...</td>\n",
       "    </tr>\n",
       "  </tbody>\n",
       "</table>\n",
       "</div>"
      ],
      "text/plain": [
       "   Label                                            Message  \\\n",
       "0    ham  [give, fli, monkey, wot, think, certainli, min...   \n",
       "1    ham            [ye, small, kid, boost, secret, energi]   \n",
       "2    ham  [dont, think, need, yellow, card, uk, travel, ...   \n",
       "3    ham                         [sorri, din, lock, keypad]   \n",
       "4    ham  [hi, hope, ur, day, good, back, walk, tabl, bo...   \n",
       "5    ham                  [ok, thk, got, u, wan, come, wat]   \n",
       "6   spam  [last, chanc, claim, ur, worth, discount, ye, ...   \n",
       "7    ham                                 [bank, say, money]   \n",
       "8    ham       [horribl, gal, sch, stuff, come, u, got, mc]   \n",
       "9    ham  [good, afternoon, love, ani, job, prospect, mi...   \n",
       "10   ham          [ãœ, neva, tell, noe, home, da, aft, wat]   \n",
       "11   ham                                   [hou, ani, beer]   \n",
       "12   ham                                    [dunno, u, ask]   \n",
       "13   ham                            [ok, thanx, take, care]   \n",
       "14   ham  [go, write, msg, put, dictionari, mode, cover,...   \n",
       "15   ham                         [plan, famili, set, stone]   \n",
       "16   ham  [call, check, life, begin, qatar, pl, pray, ve...   \n",
       "17   ham                                  [sir, wait, mail]   \n",
       "18   ham      [suck, got, plan, yo, valentin, yo, valentin]   \n",
       "19   ham          [also, know, lunch, menu, onli, da, know]   \n",
       "\n",
       "                                           Prediction  \n",
       "0   [ham, 9.487723465686995e-32, 1.344055342434491...  \n",
       "1   [spam, 2.2003353355928533e-18, 1.9571187436383...  \n",
       "2   [ham, 6.183935269817049e-50, 5.80330532730119e...  \n",
       "3   [ham, 1.7460728013524371e-12, 7.99255984286686...  \n",
       "4   [ham, 5.643459327235041e-45, 1.582976066998658...  \n",
       "5   [ham, 2.7672160577987614e-23, 5.23323281517724...  \n",
       "6   [spam, 7.551543933791488e-39, 6.29078197600759...  \n",
       "7   [ham, 3.4921456027048742e-12, 1.37395909679758...  \n",
       "8   [ham, 4.612026762997935e-25, 7.600788770158969...  \n",
       "9   [ham, 2.603381860182261e-42, 4.203697548133950...  \n",
       "10  [ham, 1.3759631774852724e-30, 2.47814184797429...  \n",
       "11  [ham, 8.293845806424077e-12, 3.568107072708421...  \n",
       "12  [ham, 2.8591942122146166e-10, 5.40700373629129...  \n",
       "13  [ham, 2.0472453376982718e-14, 3.72381155836603...  \n",
       "14  [ham, 6.550290461883065e-61, 2.454396991762156...  \n",
       "15  [ham, 2.2747170418869686e-16, 4.98347069838285...  \n",
       "16  [ham, 1.4553476383317763e-30, 2.28306968860997...  \n",
       "17  [ham, 1.3095546010143281e-11, 1.57313876272300...  \n",
       "18  [ham, 1.2674272020452344e-25, 1.46679639496213...  \n",
       "19  [ham, 1.854064935563314e-23, 9.966595095358599...  "
      ]
     },
     "execution_count": 37,
     "metadata": {},
     "output_type": "execute_result"
    }
   ],
   "source": [
    "test.head(20)"
   ]
  },
  {
   "cell_type": "code",
   "execution_count": 38,
   "metadata": {},
   "outputs": [
    {
     "name": "stdout",
     "output_type": "stream",
     "text": [
      "Correctly classified: 1058\n",
      "Incorrectly classified: 57\n",
      "Accuracy 0.9488789237668162\n"
     ]
    }
   ],
   "source": [
    "correct = 0\n",
    "total = len(test)\n",
    "incorrect_index = []\n",
    "\n",
    "for index, row in test.iterrows():\n",
    "    if row['Label'] == row['Prediction'][0]:\n",
    "        correct += 1\n",
    "    else:\n",
    "        incorrect_index.append(index)\n",
    "\n",
    "print('Correctly classified:', correct)\n",
    "print('Incorrectly classified:', total-correct)\n",
    "print('Accuracy', correct/total)"
   ]
  },
  {
   "cell_type": "markdown",
   "metadata": {},
   "source": [
    "Inspect incorrectly classified"
   ]
  },
  {
   "cell_type": "code",
   "execution_count": 39,
   "metadata": {},
   "outputs": [
    {
     "data": {
      "text/html": [
       "<div>\n",
       "<style scoped>\n",
       "    .dataframe tbody tr th:only-of-type {\n",
       "        vertical-align: middle;\n",
       "    }\n",
       "\n",
       "    .dataframe tbody tr th {\n",
       "        vertical-align: top;\n",
       "    }\n",
       "\n",
       "    .dataframe thead th {\n",
       "        text-align: right;\n",
       "    }\n",
       "</style>\n",
       "<table border=\"1\" class=\"dataframe\">\n",
       "  <thead>\n",
       "    <tr style=\"text-align: right;\">\n",
       "      <th></th>\n",
       "      <th>Label</th>\n",
       "      <th>Message</th>\n",
       "      <th>Prediction</th>\n",
       "    </tr>\n",
       "  </thead>\n",
       "  <tbody>\n",
       "    <tr>\n",
       "      <th>1</th>\n",
       "      <td>ham</td>\n",
       "      <td>[ye, small, kid, boost, secret, energi]</td>\n",
       "      <td>[spam, 2.2003353355928533e-18, 1.9571187436383694e-18]</td>\n",
       "    </tr>\n",
       "    <tr>\n",
       "      <th>24</th>\n",
       "      <td>ham</td>\n",
       "      <td>[daili, text, favour, thi, time]</td>\n",
       "      <td>[spam, 3.650926779057771e-15, 4.803993329289673e-16]</td>\n",
       "    </tr>\n",
       "    <tr>\n",
       "      <th>45</th>\n",
       "      <td>ham</td>\n",
       "      <td>[sort, code, acc, bank, natwest, repli, confirm, sent, thi, right, person]</td>\n",
       "      <td>[spam, 1.0004291599560244e-32, 7.976402069057452e-33]</td>\n",
       "    </tr>\n",
       "    <tr>\n",
       "      <th>63</th>\n",
       "      <td>ham</td>\n",
       "      <td>[madam, regret, receiv, refer, check, dlf, rakhesh, kerala]</td>\n",
       "      <td>[spam, 5.404872890499567e-22, 1.178970281743925e-22]</td>\n",
       "    </tr>\n",
       "    <tr>\n",
       "      <th>87</th>\n",
       "      <td>ham</td>\n",
       "      <td>[pa, select]</td>\n",
       "      <td>[spam, 4.825027736345271e-07, 9.235254888065201e-08]</td>\n",
       "    </tr>\n",
       "    <tr>\n",
       "      <th>105</th>\n",
       "      <td>ham</td>\n",
       "      <td>[call, messag, miss, call]</td>\n",
       "      <td>[spam, 1.5944128667357497e-09, 2.418919949605203e-10]</td>\n",
       "    </tr>\n",
       "    <tr>\n",
       "      <th>109</th>\n",
       "      <td>spam</td>\n",
       "      <td>[money, wine, number, wot, next]</td>\n",
       "      <td>[ham, 6.7417681999646354e-18, 3.5290702620052495e-16]</td>\n",
       "    </tr>\n",
       "    <tr>\n",
       "      <th>123</th>\n",
       "      <td>ham</td>\n",
       "      <td>[u, get, pic, msg, phone]</td>\n",
       "      <td>[spam, 1.8571061378741976e-12, 2.830567934844545e-13]</td>\n",
       "    </tr>\n",
       "    <tr>\n",
       "      <th>130</th>\n",
       "      <td>ham</td>\n",
       "      <td>[know, complain, num, onli, bettr, directli, go, bsnl, offc, nd, appli]</td>\n",
       "      <td>[spam, 1.3171586313064376e-22, 4.2026086525196473e-23]</td>\n",
       "    </tr>\n",
       "    <tr>\n",
       "      <th>148</th>\n",
       "      <td>ham</td>\n",
       "      <td>[call, messag, miss, call]</td>\n",
       "      <td>[spam, 1.5944128667357497e-09, 2.418919949605203e-10]</td>\n",
       "    </tr>\n",
       "    <tr>\n",
       "      <th>212</th>\n",
       "      <td>ham</td>\n",
       "      <td>[mostli, sport, type, lyk, footbl, crckt]</td>\n",
       "      <td>[spam, 3.055627402366765e-12, 1.480103674604975e-12]</td>\n",
       "    </tr>\n",
       "    <tr>\n",
       "      <th>244</th>\n",
       "      <td>ham</td>\n",
       "      <td>[sorri, miss, call, plea, call, back]</td>\n",
       "      <td>[spam, 3.869607318507626e-15, 3.3004954989624238e-15]</td>\n",
       "    </tr>\n",
       "    <tr>\n",
       "      <th>248</th>\n",
       "      <td>ham</td>\n",
       "      <td>[hi, spoke, maneesha, like, know, satisfi, experi, repli, toll, free, ye]</td>\n",
       "      <td>[spam, 6.340722909705756e-35, 1.8942242718310841e-35]</td>\n",
       "    </tr>\n",
       "    <tr>\n",
       "      <th>270</th>\n",
       "      <td>ham</td>\n",
       "      <td>[plea, send, aunti, number]</td>\n",
       "      <td>[spam, 6.00297827353971e-12, 1.0683658418870956e-12]</td>\n",
       "    </tr>\n",
       "    <tr>\n",
       "      <th>292</th>\n",
       "      <td>ham</td>\n",
       "      <td>[number, u, live]</td>\n",
       "      <td>[spam, 5.403877061085626e-08, 1.5889970163794836e-08]</td>\n",
       "    </tr>\n",
       "    <tr>\n",
       "      <th>301</th>\n",
       "      <td>ham</td>\n",
       "      <td>[send, ur, birthdat, month, year, tel, u, ur, life, partner, name, method, calcul, repli, must]</td>\n",
       "      <td>[spam, 1.998141460098403e-40, 3.989093652939048e-43]</td>\n",
       "    </tr>\n",
       "    <tr>\n",
       "      <th>305</th>\n",
       "      <td>ham</td>\n",
       "      <td>[ye, last, week, take, live, call]</td>\n",
       "      <td>[spam, 5.248282913116016e-16, 7.300657766104162e-17]</td>\n",
       "    </tr>\n",
       "    <tr>\n",
       "      <th>336</th>\n",
       "      <td>ham</td>\n",
       "      <td>[sir, wait, call, onc, free, plea, call]</td>\n",
       "      <td>[spam, 2.801290294942662e-18, 3.335774751088211e-19]</td>\n",
       "    </tr>\n",
       "    <tr>\n",
       "      <th>349</th>\n",
       "      <td>ham</td>\n",
       "      <td>[open, rebtel, firefox, load, put, plu, sign, user, name, place, show, two, number, lower, number, number, onc, pick, number, pin, display, okay]</td>\n",
       "      <td>[spam, 7.895495295137726e-66, 1.7473484266780188e-66]</td>\n",
       "    </tr>\n",
       "    <tr>\n",
       "      <th>366</th>\n",
       "      <td>ham</td>\n",
       "      <td>[network, technic, support, associ]</td>\n",
       "      <td>[spam, 3.011975582332954e-11, 3.964563414120468e-12]</td>\n",
       "    </tr>\n",
       "    <tr>\n",
       "      <th>369</th>\n",
       "      <td>ham</td>\n",
       "      <td>[custom, place, call]</td>\n",
       "      <td>[spam, 2.713397133301688e-08, 2.461993880168811e-09]</td>\n",
       "    </tr>\n",
       "    <tr>\n",
       "      <th>372</th>\n",
       "      <td>spam</td>\n",
       "      <td>[hear, new, divorc, barbi, come, ken, stuff]</td>\n",
       "      <td>[ham, 4.711829203491766e-18, 5.90595176426225e-16]</td>\n",
       "    </tr>\n",
       "    <tr>\n",
       "      <th>380</th>\n",
       "      <td>ham</td>\n",
       "      <td>[messag, responc, happend]</td>\n",
       "      <td>[spam, 1.3968582410819497e-11, 9.514952193889124e-12]</td>\n",
       "    </tr>\n",
       "    <tr>\n",
       "      <th>389</th>\n",
       "      <td>ham</td>\n",
       "      <td>[news, hassl, get, weed, week, andr, ha, money, haughaighgtujhyguj]</td>\n",
       "      <td>[spam, 1.9106465070831914e-22, 1.830464880139157e-22]</td>\n",
       "    </tr>\n",
       "    <tr>\n",
       "      <th>400</th>\n",
       "      <td>ham</td>\n",
       "      <td>[erm, woodland, avenu, somewh, get, parish, magazin, hi, telephon, number]</td>\n",
       "      <td>[spam, 6.789871568690081e-20, 6.719801590978025e-20]</td>\n",
       "    </tr>\n",
       "    <tr>\n",
       "      <th>407</th>\n",
       "      <td>ham</td>\n",
       "      <td>[god, pick, flower, dippeditinadew, lovingli, touch, itwhichturnedinto, u, gift, tomeandsaid, thi, friend]</td>\n",
       "      <td>[spam, 6.299678297422913e-40, 4.097892259178751e-40]</td>\n",
       "    </tr>\n",
       "    <tr>\n",
       "      <th>418</th>\n",
       "      <td>ham</td>\n",
       "      <td>[avail, soir, june]</td>\n",
       "      <td>[spam, 5.238218404057311e-12, 8.722039511065031e-13]</td>\n",
       "    </tr>\n",
       "    <tr>\n",
       "      <th>429</th>\n",
       "      <td>ham</td>\n",
       "      <td>[cau, old, live, high]</td>\n",
       "      <td>[spam, 1.3818906029463337e-14, 1.0139089031389569e-14]</td>\n",
       "    </tr>\n",
       "    <tr>\n",
       "      <th>441</th>\n",
       "      <td>ham</td>\n",
       "      <td>[laid, airtel, line, rest]</td>\n",
       "      <td>[spam, 6.824151125660907e-15, 1.524929834266479e-16]</td>\n",
       "    </tr>\n",
       "    <tr>\n",
       "      <th>467</th>\n",
       "      <td>ham</td>\n",
       "      <td>[handl, victoria, island, traffic, plu, album, due]</td>\n",
       "      <td>[spam, 2.3163740959283855e-23, 1.880085499126525e-24]</td>\n",
       "    </tr>\n",
       "    <tr>\n",
       "      <th>505</th>\n",
       "      <td>ham</td>\n",
       "      <td>[call]</td>\n",
       "      <td>[spam, 0.007613143208082741, 0.0057881547722784]</td>\n",
       "    </tr>\n",
       "    <tr>\n",
       "      <th>510</th>\n",
       "      <td>ham</td>\n",
       "      <td>[studi, free, next, weekend]</td>\n",
       "      <td>[spam, 1.3255344882335839e-12, 7.231827246025351e-13]</td>\n",
       "    </tr>\n",
       "    <tr>\n",
       "      <th>517</th>\n",
       "      <td>ham</td>\n",
       "      <td>[see, cup, coff, anim]</td>\n",
       "      <td>[spam, 9.098868167547875e-15, 6.262378519387676e-15]</td>\n",
       "    </tr>\n",
       "    <tr>\n",
       "      <th>518</th>\n",
       "      <td>ham</td>\n",
       "      <td>[pl, speak, custom, machan]</td>\n",
       "      <td>[spam, 1.50472532320823e-13, 4.227105500586681e-14]</td>\n",
       "    </tr>\n",
       "    <tr>\n",
       "      <th>525</th>\n",
       "      <td>ham</td>\n",
       "      <td>[offic, matter, msg, call, break]</td>\n",
       "      <td>[spam, 8.947141340366255e-16, 6.605275759779495e-16]</td>\n",
       "    </tr>\n",
       "    <tr>\n",
       "      <th>526</th>\n",
       "      <td>ham</td>\n",
       "      <td>[anytim]</td>\n",
       "      <td>[spam, 0.00023148070565116443, 7.717539696371202e-05]</td>\n",
       "    </tr>\n",
       "    <tr>\n",
       "      <th>602</th>\n",
       "      <td>ham</td>\n",
       "      <td>[stupid, auto, correct, phone]</td>\n",
       "      <td>[spam, 6.824151125660907e-15, 6.7368011344928026e-15]</td>\n",
       "    </tr>\n",
       "    <tr>\n",
       "      <th>625</th>\n",
       "      <td>ham</td>\n",
       "      <td>[messag, responc, happend]</td>\n",
       "      <td>[spam, 1.3968582410819497e-11, 9.514952193889124e-12]</td>\n",
       "    </tr>\n",
       "    <tr>\n",
       "      <th>667</th>\n",
       "      <td>ham</td>\n",
       "      <td>[send, naughti, pix]</td>\n",
       "      <td>[spam, 7.595416685883103e-11, 7.167930652729807e-11]</td>\n",
       "    </tr>\n",
       "    <tr>\n",
       "      <th>685</th>\n",
       "      <td>ham</td>\n",
       "      <td>[mind, blastin, tsunami, occur, rajnik, stop, swim, indian, ocean]</td>\n",
       "      <td>[spam, 3.628986083621137e-22, 8.422783036086831e-23]</td>\n",
       "    </tr>\n",
       "    <tr>\n",
       "      <th>721</th>\n",
       "      <td>ham</td>\n",
       "      <td>[per, request, mell, oru, minnaminungint, nurungu, vettam, ha, set, callertun, caller, press, copi, friend, callertun]</td>\n",
       "      <td>[spam, 5.800227886552786e-53, 4.4471278969612735e-54]</td>\n",
       "    </tr>\n",
       "    <tr>\n",
       "      <th>722</th>\n",
       "      <td>ham</td>\n",
       "      <td>[alright, new, goal]</td>\n",
       "      <td>[spam, 9.254185847167919e-11, 2.5108901622762967e-11]</td>\n",
       "    </tr>\n",
       "    <tr>\n",
       "      <th>755</th>\n",
       "      <td>ham</td>\n",
       "      <td>[doubl, evict, thi, week, spiral, michael, good, riddanc]</td>\n",
       "      <td>[spam, 2.006300430944307e-11, 1.005775944022869e-11]</td>\n",
       "    </tr>\n",
       "    <tr>\n",
       "      <th>799</th>\n",
       "      <td>ham</td>\n",
       "      <td>[like, new, mobil]</td>\n",
       "      <td>[spam, 3.24821923235594e-08, 2.9800301662805524e-09]</td>\n",
       "    </tr>\n",
       "    <tr>\n",
       "      <th>815</th>\n",
       "      <td>spam</td>\n",
       "      <td>[wo, believ, true, incr, txt, repli, g, learn, truli, amaz, thing, blow, mind, onli]</td>\n",
       "      <td>[ham, 5.435822734817587e-44, 7.345622358332118e-44]</td>\n",
       "    </tr>\n",
       "    <tr>\n",
       "      <th>897</th>\n",
       "      <td>spam</td>\n",
       "      <td>[wo, believ, true, incr, txt, repli, g, learn, truli, amaz, thing, blow, mind, onli]</td>\n",
       "      <td>[ham, 5.435822734817587e-44, 7.345622358332118e-44]</td>\n",
       "    </tr>\n",
       "    <tr>\n",
       "      <th>912</th>\n",
       "      <td>ham</td>\n",
       "      <td>[prepar, pound, everi, night]</td>\n",
       "      <td>[spam, 1.691820799903433e-13, 6.953680044255147e-14]</td>\n",
       "    </tr>\n",
       "    <tr>\n",
       "      <th>918</th>\n",
       "      <td>ham</td>\n",
       "      <td>[channel]</td>\n",
       "      <td>[spam, 5.144015681136987e-05, 2.5725132321237336e-05]</td>\n",
       "    </tr>\n",
       "    <tr>\n",
       "      <th>944</th>\n",
       "      <td>ham</td>\n",
       "      <td>[wait, call]</td>\n",
       "      <td>[spam, 1.4877168853731258e-05, 1.4842373927247643e-05]</td>\n",
       "    </tr>\n",
       "    <tr>\n",
       "      <th>951</th>\n",
       "      <td>ham</td>\n",
       "      <td>[hmmm, mani, player, select]</td>\n",
       "      <td>[spam, 6.551185080634471e-14, 1.1223483580201287e-14]</td>\n",
       "    </tr>\n",
       "    <tr>\n",
       "      <th>959</th>\n",
       "      <td>ham</td>\n",
       "      <td>[urgh, coach, hot, smell, chip, fat, thank, especi, duvet, predict, text, word]</td>\n",
       "      <td>[spam, 1.0704098268980199e-30, 3.086008083256998e-32]</td>\n",
       "    </tr>\n",
       "    <tr>\n",
       "      <th>1022</th>\n",
       "      <td>ham</td>\n",
       "      <td>[sac, score, big, set, batsman]</td>\n",
       "      <td>[spam, 2.7296604502643625e-15, 2.4703863315116967e-15]</td>\n",
       "    </tr>\n",
       "    <tr>\n",
       "      <th>1056</th>\n",
       "      <td>ham</td>\n",
       "      <td>[final, readi, fyi]</td>\n",
       "      <td>[spam, 3.666752882840118e-11, 3.6473983409908315e-11]</td>\n",
       "    </tr>\n",
       "    <tr>\n",
       "      <th>1058</th>\n",
       "      <td>spam</td>\n",
       "      <td>[hi, babe, chloe, r, u, wa, smash, saturday, night, wa, great, wa, weekend, u, miss, sp, text, stop, stop]</td>\n",
       "      <td>[ham, 7.703969621361522e-50, 3.0663271137820592e-49]</td>\n",
       "    </tr>\n",
       "    <tr>\n",
       "      <th>1060</th>\n",
       "      <td>ham</td>\n",
       "      <td>[hi, babe, uawak, feellikw, via, alett, thatmum, gotmarri, ourback, fuckinn, selfish, iâ, l, call, u]</td>\n",
       "      <td>[spam, 6.8598447647360065e-25, 3.6225188282862653e-25]</td>\n",
       "    </tr>\n",
       "    <tr>\n",
       "      <th>1099</th>\n",
       "      <td>ham</td>\n",
       "      <td>[free, call]</td>\n",
       "      <td>[spam, 0.00016166523487721297, 8.905424356348589e-06]</td>\n",
       "    </tr>\n",
       "    <tr>\n",
       "      <th>1105</th>\n",
       "      <td>ham</td>\n",
       "      <td>[receiv, understood, n, act, upon]</td>\n",
       "      <td>[spam, 1.2738415434567023e-14, 9.51810371554661e-15]</td>\n",
       "    </tr>\n",
       "  </tbody>\n",
       "</table>\n",
       "</div>"
      ],
      "text/plain": [
       "     Label  \\\n",
       "1      ham   \n",
       "24     ham   \n",
       "45     ham   \n",
       "63     ham   \n",
       "87     ham   \n",
       "105    ham   \n",
       "109   spam   \n",
       "123    ham   \n",
       "130    ham   \n",
       "148    ham   \n",
       "212    ham   \n",
       "244    ham   \n",
       "248    ham   \n",
       "270    ham   \n",
       "292    ham   \n",
       "301    ham   \n",
       "305    ham   \n",
       "336    ham   \n",
       "349    ham   \n",
       "366    ham   \n",
       "369    ham   \n",
       "372   spam   \n",
       "380    ham   \n",
       "389    ham   \n",
       "400    ham   \n",
       "407    ham   \n",
       "418    ham   \n",
       "429    ham   \n",
       "441    ham   \n",
       "467    ham   \n",
       "505    ham   \n",
       "510    ham   \n",
       "517    ham   \n",
       "518    ham   \n",
       "525    ham   \n",
       "526    ham   \n",
       "602    ham   \n",
       "625    ham   \n",
       "667    ham   \n",
       "685    ham   \n",
       "721    ham   \n",
       "722    ham   \n",
       "755    ham   \n",
       "799    ham   \n",
       "815   spam   \n",
       "897   spam   \n",
       "912    ham   \n",
       "918    ham   \n",
       "944    ham   \n",
       "951    ham   \n",
       "959    ham   \n",
       "1022   ham   \n",
       "1056   ham   \n",
       "1058  spam   \n",
       "1060   ham   \n",
       "1099   ham   \n",
       "1105   ham   \n",
       "\n",
       "                                                                                                                                                Message  \\\n",
       "1                                                                                                               [ye, small, kid, boost, secret, energi]   \n",
       "24                                                                                                                     [daili, text, favour, thi, time]   \n",
       "45                                                                           [sort, code, acc, bank, natwest, repli, confirm, sent, thi, right, person]   \n",
       "63                                                                                          [madam, regret, receiv, refer, check, dlf, rakhesh, kerala]   \n",
       "87                                                                                                                                         [pa, select]   \n",
       "105                                                                                                                          [call, messag, miss, call]   \n",
       "109                                                                                                                    [money, wine, number, wot, next]   \n",
       "123                                                                                                                           [u, get, pic, msg, phone]   \n",
       "130                                                                             [know, complain, num, onli, bettr, directli, go, bsnl, offc, nd, appli]   \n",
       "148                                                                                                                          [call, messag, miss, call]   \n",
       "212                                                                                                           [mostli, sport, type, lyk, footbl, crckt]   \n",
       "244                                                                                                               [sorri, miss, call, plea, call, back]   \n",
       "248                                                                           [hi, spoke, maneesha, like, know, satisfi, experi, repli, toll, free, ye]   \n",
       "270                                                                                                                         [plea, send, aunti, number]   \n",
       "292                                                                                                                                   [number, u, live]   \n",
       "301                                                     [send, ur, birthdat, month, year, tel, u, ur, life, partner, name, method, calcul, repli, must]   \n",
       "305                                                                                                                  [ye, last, week, take, live, call]   \n",
       "336                                                                                                            [sir, wait, call, onc, free, plea, call]   \n",
       "349   [open, rebtel, firefox, load, put, plu, sign, user, name, place, show, two, number, lower, number, number, onc, pick, number, pin, display, okay]   \n",
       "366                                                                                                                 [network, technic, support, associ]   \n",
       "369                                                                                                                               [custom, place, call]   \n",
       "372                                                                                                        [hear, new, divorc, barbi, come, ken, stuff]   \n",
       "380                                                                                                                          [messag, responc, happend]   \n",
       "389                                                                                 [news, hassl, get, weed, week, andr, ha, money, haughaighgtujhyguj]   \n",
       "400                                                                          [erm, woodland, avenu, somewh, get, parish, magazin, hi, telephon, number]   \n",
       "407                                          [god, pick, flower, dippeditinadew, lovingli, touch, itwhichturnedinto, u, gift, tomeandsaid, thi, friend]   \n",
       "418                                                                                                                                 [avail, soir, june]   \n",
       "429                                                                                                                              [cau, old, live, high]   \n",
       "441                                                                                                                          [laid, airtel, line, rest]   \n",
       "467                                                                                                 [handl, victoria, island, traffic, plu, album, due]   \n",
       "505                                                                                                                                              [call]   \n",
       "510                                                                                                                        [studi, free, next, weekend]   \n",
       "517                                                                                                                              [see, cup, coff, anim]   \n",
       "518                                                                                                                         [pl, speak, custom, machan]   \n",
       "525                                                                                                                   [offic, matter, msg, call, break]   \n",
       "526                                                                                                                                            [anytim]   \n",
       "602                                                                                                                      [stupid, auto, correct, phone]   \n",
       "625                                                                                                                          [messag, responc, happend]   \n",
       "667                                                                                                                                [send, naughti, pix]   \n",
       "685                                                                                  [mind, blastin, tsunami, occur, rajnik, stop, swim, indian, ocean]   \n",
       "721                              [per, request, mell, oru, minnaminungint, nurungu, vettam, ha, set, callertun, caller, press, copi, friend, callertun]   \n",
       "722                                                                                                                                [alright, new, goal]   \n",
       "755                                                                                           [doubl, evict, thi, week, spiral, michael, good, riddanc]   \n",
       "799                                                                                                                                  [like, new, mobil]   \n",
       "815                                                                [wo, believ, true, incr, txt, repli, g, learn, truli, amaz, thing, blow, mind, onli]   \n",
       "897                                                                [wo, believ, true, incr, txt, repli, g, learn, truli, amaz, thing, blow, mind, onli]   \n",
       "912                                                                                                                       [prepar, pound, everi, night]   \n",
       "918                                                                                                                                           [channel]   \n",
       "944                                                                                                                                        [wait, call]   \n",
       "951                                                                                                                        [hmmm, mani, player, select]   \n",
       "959                                                                     [urgh, coach, hot, smell, chip, fat, thank, especi, duvet, predict, text, word]   \n",
       "1022                                                                                                                    [sac, score, big, set, batsman]   \n",
       "1056                                                                                                                                [final, readi, fyi]   \n",
       "1058                                         [hi, babe, chloe, r, u, wa, smash, saturday, night, wa, great, wa, weekend, u, miss, sp, text, stop, stop]   \n",
       "1060                                              [hi, babe, uawak, feellikw, via, alett, thatmum, gotmarri, ourback, fuckinn, selfish, iâ, l, call, u]   \n",
       "1099                                                                                                                                       [free, call]   \n",
       "1105                                                                                                                 [receiv, understood, n, act, upon]   \n",
       "\n",
       "                                                  Prediction  \n",
       "1     [spam, 2.2003353355928533e-18, 1.9571187436383694e-18]  \n",
       "24      [spam, 3.650926779057771e-15, 4.803993329289673e-16]  \n",
       "45     [spam, 1.0004291599560244e-32, 7.976402069057452e-33]  \n",
       "63      [spam, 5.404872890499567e-22, 1.178970281743925e-22]  \n",
       "87      [spam, 4.825027736345271e-07, 9.235254888065201e-08]  \n",
       "105    [spam, 1.5944128667357497e-09, 2.418919949605203e-10]  \n",
       "109    [ham, 6.7417681999646354e-18, 3.5290702620052495e-16]  \n",
       "123    [spam, 1.8571061378741976e-12, 2.830567934844545e-13]  \n",
       "130   [spam, 1.3171586313064376e-22, 4.2026086525196473e-23]  \n",
       "148    [spam, 1.5944128667357497e-09, 2.418919949605203e-10]  \n",
       "212     [spam, 3.055627402366765e-12, 1.480103674604975e-12]  \n",
       "244    [spam, 3.869607318507626e-15, 3.3004954989624238e-15]  \n",
       "248    [spam, 6.340722909705756e-35, 1.8942242718310841e-35]  \n",
       "270     [spam, 6.00297827353971e-12, 1.0683658418870956e-12]  \n",
       "292    [spam, 5.403877061085626e-08, 1.5889970163794836e-08]  \n",
       "301     [spam, 1.998141460098403e-40, 3.989093652939048e-43]  \n",
       "305     [spam, 5.248282913116016e-16, 7.300657766104162e-17]  \n",
       "336     [spam, 2.801290294942662e-18, 3.335774751088211e-19]  \n",
       "349    [spam, 7.895495295137726e-66, 1.7473484266780188e-66]  \n",
       "366     [spam, 3.011975582332954e-11, 3.964563414120468e-12]  \n",
       "369     [spam, 2.713397133301688e-08, 2.461993880168811e-09]  \n",
       "372       [ham, 4.711829203491766e-18, 5.90595176426225e-16]  \n",
       "380    [spam, 1.3968582410819497e-11, 9.514952193889124e-12]  \n",
       "389    [spam, 1.9106465070831914e-22, 1.830464880139157e-22]  \n",
       "400     [spam, 6.789871568690081e-20, 6.719801590978025e-20]  \n",
       "407     [spam, 6.299678297422913e-40, 4.097892259178751e-40]  \n",
       "418     [spam, 5.238218404057311e-12, 8.722039511065031e-13]  \n",
       "429   [spam, 1.3818906029463337e-14, 1.0139089031389569e-14]  \n",
       "441     [spam, 6.824151125660907e-15, 1.524929834266479e-16]  \n",
       "467    [spam, 2.3163740959283855e-23, 1.880085499126525e-24]  \n",
       "505         [spam, 0.007613143208082741, 0.0057881547722784]  \n",
       "510    [spam, 1.3255344882335839e-12, 7.231827246025351e-13]  \n",
       "517     [spam, 9.098868167547875e-15, 6.262378519387676e-15]  \n",
       "518      [spam, 1.50472532320823e-13, 4.227105500586681e-14]  \n",
       "525     [spam, 8.947141340366255e-16, 6.605275759779495e-16]  \n",
       "526    [spam, 0.00023148070565116443, 7.717539696371202e-05]  \n",
       "602    [spam, 6.824151125660907e-15, 6.7368011344928026e-15]  \n",
       "625    [spam, 1.3968582410819497e-11, 9.514952193889124e-12]  \n",
       "667     [spam, 7.595416685883103e-11, 7.167930652729807e-11]  \n",
       "685     [spam, 3.628986083621137e-22, 8.422783036086831e-23]  \n",
       "721    [spam, 5.800227886552786e-53, 4.4471278969612735e-54]  \n",
       "722    [spam, 9.254185847167919e-11, 2.5108901622762967e-11]  \n",
       "755     [spam, 2.006300430944307e-11, 1.005775944022869e-11]  \n",
       "799     [spam, 3.24821923235594e-08, 2.9800301662805524e-09]  \n",
       "815      [ham, 5.435822734817587e-44, 7.345622358332118e-44]  \n",
       "897      [ham, 5.435822734817587e-44, 7.345622358332118e-44]  \n",
       "912     [spam, 1.691820799903433e-13, 6.953680044255147e-14]  \n",
       "918    [spam, 5.144015681136987e-05, 2.5725132321237336e-05]  \n",
       "944   [spam, 1.4877168853731258e-05, 1.4842373927247643e-05]  \n",
       "951    [spam, 6.551185080634471e-14, 1.1223483580201287e-14]  \n",
       "959    [spam, 1.0704098268980199e-30, 3.086008083256998e-32]  \n",
       "1022  [spam, 2.7296604502643625e-15, 2.4703863315116967e-15]  \n",
       "1056   [spam, 3.666752882840118e-11, 3.6473983409908315e-11]  \n",
       "1058    [ham, 7.703969621361522e-50, 3.0663271137820592e-49]  \n",
       "1060  [spam, 6.8598447647360065e-25, 3.6225188282862653e-25]  \n",
       "1099   [spam, 0.00016166523487721297, 8.905424356348589e-06]  \n",
       "1105    [spam, 1.2738415434567023e-14, 9.51810371554661e-15]  "
      ]
     },
     "execution_count": 39,
     "metadata": {},
     "output_type": "execute_result"
    }
   ],
   "source": [
    "pd.set_option('display.max_colwidth', None)\n",
    "test.iloc[incorrect_index]"
   ]
  },
  {
   "cell_type": "markdown",
   "metadata": {},
   "source": [
    "Some messages are incorrectly classified but by a very small difference. For example, messages 270, 366, 722 are all down to the last decimal place. These messages contain many neutral words that have similar probabilities in both spam and ham. Another potential reason that these messages are incorrectly classified is because the classifier does not take into account words that it has not seen before. Third potential reason is that the classifier does not take into account the order of the words and therefore cannot get a sense of context."
   ]
  },
  {
   "cell_type": "markdown",
   "metadata": {},
   "source": [
    "Words that the classifier has not seen are ignored"
   ]
  },
  {
   "cell_type": "markdown",
   "metadata": {},
   "source": [
    "## Bonus task [+1 Point]\n",
    "\n",
    "Describe how you could improve the classifier."
   ]
  },
  {
   "cell_type": "markdown",
   "metadata": {},
   "source": [
    "I would use TF-IDF to imporve the classifier. TF-IDF stands for term frequency-inverse document frequency. It effectively diminishes the impact of words that occur a lot. For example, if the word \"like\" appears in almost every message, the classifier would treat it as less influencial than words that do not appear as frequent.\n",
    "Also, if the probability of a word being spam verse being ham is very close, we can flag the message instead of labeling it as spam. Filtering termsmtime of the message, contact, length of spam messages"
   ]
  },
  {
   "cell_type": "markdown",
   "metadata": {},
   "source": [
    "for each word:<br>\n",
    "    TF = number of occurences of a word given the message is spam<br>\n",
    "    IDF = log(total number of messages / total number of message containing the word)<br>\n",
    "    p(word|spam) = (TF * IDF) / (sum of all words' TF * IDF) <br>"
   ]
  },
  {
   "cell_type": "code",
   "execution_count": null,
   "metadata": {},
   "outputs": [],
   "source": []
  }
 ],
 "metadata": {
  "kernelspec": {
   "display_name": "Python 3",
   "language": "python",
   "name": "python3"
  },
  "language_info": {
   "codemirror_mode": {
    "name": "ipython",
    "version": 3
   },
   "file_extension": ".py",
   "mimetype": "text/x-python",
   "name": "python",
   "nbconvert_exporter": "python",
   "pygments_lexer": "ipython3",
   "version": "3.8.2"
  }
 },
 "nbformat": 4,
 "nbformat_minor": 4
}
