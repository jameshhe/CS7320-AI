{
 "cells": [
  {
   "cell_type": "raw",
   "metadata": {},
   "source": [
    "# Search: Solving a maze\n",
    "\n",
    "\n",
    "## Instructions\n",
    "\n",
    "Total Points: 10\n",
    "\n",
    "Complete this notebook and submit it. The notebook needs to be a complete project report with \n",
    "\n",
    "* your implementation,\n",
    "* documentation including a short discussion of how your implementation works and your design choices, and\n",
    "* experimental results (e.g., tables and charts with simulation results) with a short discussion of what they mean. \n",
    "\n",
    "Use the provided notebook cells and insert additional code and markdown cells as needed.\n",
    "\n",
    "\n",
    "## Introduction\n",
    "\n",
    "The agent has a map of the maze it is in (i.e., the environment is deterministic, discrete, and known). The agent must use the map to plan a path through the maze from the starting location $S$ to the goal location $G$.  \n",
    "\n",
    "Here is the small example maze:"
   ]
  },
  {
   "cell_type": "code",
<<<<<<< HEAD
   "execution_count": 72,
=======
   "execution_count": 1,
>>>>>>> upstream/master
   "metadata": {},
   "outputs": [
    {
     "name": "stdout",
     "output_type": "stream",
     "text": [
      "XXXXXXXXXXXXXXXXXXXXXX\n",
      "X XX        X X      X\n",
      "X    XXXXXX X XXXXXX X\n",
      "XXXXXX     S  X      X\n",
      "X    X XXXXXX XX XXXXX\n",
      "X XXXX X         X   X\n",
      "X        XXX XXX   X X\n",
      "XXXXXXXXXX    XXXXXX X\n",
      "XG         XX        X\n",
      "XXXXXXXXXXXXXXXXXXXXXX\n",
      "\n"
     ]
    }
   ],
   "source": [
    "f = open(\"small_maze.txt\", \"r\")\n",
    "maze_str = f.read()\n",
    "print(maze_str)"
   ]
  },
  {
   "cell_type": "markdown",
   "metadata": {},
   "source": [
    "__Notes:__ \n",
    "* This is a planing exercise, so you do not need to implement an environment, just use the map to search for a path. Once the plan is made, the agent can just follow the path and does not need percepts. The execution phase is trivial and we do not implement it in this exercise.\n",
    "* Tree search algorithm implementations that you find online have often a different aim. The algorithms assume that you already have a tree and the goal is to traverse all nodes. We are interested in dynamically creating a search tree with the aim of finding a good/the best path to the goal state. Ideally, we would like to search only a small part of the maze, i.e., create a search tree with as few nodes as possible. \n",
    "* Some mazes may contain cycles and therefore not form proper trees unless cycles are prevented. \n",
    "\n",
    "## Parsing and pretty printing the maze\n",
    "\n",
    "The maze can also be displayed in color using code in the file [maze_helper.py](maze_helper.py). The code parses the string representing the maze and converts it into a `numpy` 2d array which you can use in your implementation."
   ]
  },
  {
   "cell_type": "code",
<<<<<<< HEAD
<<<<<<< HEAD
   "execution_count": 73,
=======
   "execution_count": 2,
>>>>>>> upstream/master
=======
   "execution_count": 36,
>>>>>>> 6ee1f640fb69a549482c5cc990eec0fd22023eb9
   "metadata": {
    "scrolled": true
   },
   "outputs": [
    {
     "name": "stdout",
     "output_type": "stream",
     "text": [
      "Position(0,0): X\n",
      "Position(8,1): G\n"
     ]
    }
   ],
   "source": [
    "%run maze_helper.py\n",
    "\n",
    "maze = parse_maze(maze_str)\n",
    "\n",
    "# look at two positions in the maze\n",
    "print(\"Position(0,0):\", maze[0, 0])\n",
    "\n",
    "# there is also a helper function called `look(maze, pos)`\n",
    "print(\"Position(8,1):\", look(maze, (8, 1)))"
   ]
  },
  {
   "cell_type": "markdown",
   "metadata": {},
   "source": [
    "Visualize the maze"
   ]
  },
  {
   "cell_type": "code",
<<<<<<< HEAD
   "execution_count": 74,
=======
   "execution_count": 3,
>>>>>>> upstream/master
   "metadata": {},
   "outputs": [
    {
     "data": {
      "image/png": "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\n",
      "text/plain": [
       "<Figure size 432x288 with 1 Axes>"
      ]
     },
     "metadata": {
      "needs_background": "light"
     },
     "output_type": "display_data"
    }
   ],
   "source": [
    "show_maze(maze)"
   ]
  },
  {
   "cell_type": "markdown",
   "metadata": {},
   "source": [
    "Find the position of the start and the goal using the helper function `find_pos()`"
   ]
  },
  {
   "cell_type": "code",
<<<<<<< HEAD
<<<<<<< HEAD
   "execution_count": 75,
=======
   "execution_count": 4,
>>>>>>> upstream/master
=======
   "execution_count": 37,
>>>>>>> 6ee1f640fb69a549482c5cc990eec0fd22023eb9
   "metadata": {},
   "outputs": [
    {
     "name": "stdout",
     "output_type": "stream",
     "text": [
      "Start location: (3, 11)\n",
      "Goal location: (8, 1)\n"
     ]
    }
   ],
   "source": [
    "print(\"Start location:\", find_pos(maze, what = \"S\"))\n",
    "print(\"Goal location:\", find_pos(maze, what = \"G\"))"
   ]
  },
  {
   "cell_type": "markdown",
   "metadata": {},
   "source": [
    "## Tree structure\n",
    "\n",
    "Implementation of the basic node structure for the search algorithms (see Fig 3.7 on page 73):"
   ]
  },
  {
   "cell_type": "code",
   "execution_count": 38,
   "metadata": {},
   "outputs": [],
   "source": [
    "class Node:\n",
    "    def __init__(self, pos, parent, action, cost):\n",
    "        self.pos = tuple(pos)    # the state; positions are (row,col)\n",
    "        self.parent = parent     # reference to parent node. None means root node.\n",
    "        self.action = action     # action used in the transition function (root node has None)\n",
    "        self.cost = cost         # for uniform cost this is the depth. It is also g(n) for A* search\n",
    "\n",
    "    def __str__(self):\n",
    "        return f\"Node - pos = {self.pos}; parent = {repr(self.parent)}; action = {self.action}; cost = {self.cost}\""
   ]
  },
  {
   "cell_type": "markdown",
   "metadata": {},
   "source": [
    "Example: Create the root node and append the node for going east with a cost of 1."
   ]
  },
  {
   "cell_type": "code",
   "execution_count": 39,
   "metadata": {},
   "outputs": [
    {
     "name": "stdout",
     "output_type": "stream",
     "text": [
      "root: Node - pos = (0, 0); parent = None; action = None; cost = 0\n",
      "root (reference): <__main__.Node object at 0x7f0065bc64f0>\n",
      "node2: Node - pos = (0, 1); parent = <__main__.Node object at 0x7f0065bc64f0>; action = E; cost = 1\n",
      "parent of node2:  Node - pos = (0, 0); parent = None; action = None; cost = 0\n"
     ]
    }
   ],
   "source": [
    "root = Node((0,0), None, None, 0)\n",
    "print(\"root:\", root)\n",
    "print(\"root (reference):\", repr(root))\n",
    "\n",
    "node2 = Node((0,1), root, \"E\", 1)\n",
    "print(\"node2:\", node2)\n",
    "\n",
    "print(\"parent of node2: \", node2.parent)"
   ]
  },
  {
   "cell_type": "code",
   "execution_count": 76,
   "metadata": {},
   "outputs": [],
   "source": [
    "from pyTree.Tree import Tree as Tree\n",
    "import numpy as np\n",
    "import pandas as pd"
   ]
  },
  {
   "cell_type": "markdown",
   "metadata": {},
   "source": [
    "### Helper Functions"
   ]
  },
  {
   "cell_type": "code",
   "execution_count": 77,
   "metadata": {},
   "outputs": [
    {
     "data": {
      "text/plain": [
       "[[3, 12], [2, 11], [3, 10]]"
      ]
     },
     "execution_count": 77,
     "metadata": {},
     "output_type": "execute_result"
    }
   ],
   "source": [
    "# given a position in the maze, find all possible directions\n",
    "def available_directions(maze, pos):\n",
    "    new_pos = np.add(pos, [[-1,0], [0,1], [1,0], [0,-1]])\n",
    "    # randomly select a position\n",
    "    np.random.shuffle(new_pos)\n",
    "    return [available_pos.tolist() for available_pos in new_pos if look(maze, available_pos) != 'X']\n",
    "available_directions(maze, find_pos(maze, 'S'))"
   ]
  },
  {
   "cell_type": "code",
   "execution_count": 78,
   "metadata": {},
   "outputs": [],
   "source": [
    "def get_path(node):\n",
    "    path = [node.data]\n",
    "    \n",
    "    while not node.isRoot():\n",
    "        node = node.getParent()\n",
    "        path.append(node.data)\n",
    "    \n",
    "    path.reverse()\n",
    "    return path"
   ]
  },
  {
   "cell_type": "code",
   "execution_count": 79,
   "metadata": {},
   "outputs": [],
   "source": [
    "def display_path(maze, path, reached=[]):\n",
    "    maze_copy = np.copy(maze)\n",
    "    for pos in path:\n",
    "        maze_copy[pos[0], pos[1]] = 'P' if maze_copy[pos[0], pos[1]] == ' ' else maze_copy[pos[0], pos[1]]\n",
    "    for pos in reached:\n",
    "        maze_copy[pos[0], pos[1]] = '.' if maze_copy[pos[0], pos[1]] == ' ' else maze_copy[pos[0], pos[1]]\n",
    "    \n",
    "    show_maze(maze_copy)"
   ]
  },
  {
   "cell_type": "code",
   "execution_count": 80,
   "metadata": {},
   "outputs": [],
   "source": [
    "# get the current depth of the tree\n",
    "def get_depth(node):\n",
    "    depth = 0\n",
    "    while not node.isRoot():\n",
    "        node = node.getParent()\n",
    "        depth += 1\n",
    "    return depth"
   ]
  },
  {
   "cell_type": "markdown",
   "metadata": {},
   "source": [
    "### Heuristics"
   ]
  },
  {
   "cell_type": "code",
   "execution_count": 81,
   "metadata": {},
   "outputs": [],
   "source": [
    "# g(n) returns the length from start to the current node\n",
    "def g(node):\n",
    "    return len(get_path(node)) - 1"
   ]
  },
  {
   "cell_type": "code",
   "execution_count": 82,
   "metadata": {},
   "outputs": [],
   "source": [
    "def manhattan(pos1, pos2):\n",
    "    return np.sum(np.abs(np.subtract(pos1, pos2)))"
   ]
  },
  {
   "cell_type": "markdown",
   "metadata": {},
   "source": [
    "### Search functions for each strategy"
   ]
  },
  {
   "cell_type": "code",
   "execution_count": 103,
   "metadata": {},
   "outputs": [],
   "source": [
    "def search(maze, strategy='BFS', debug=False):\n",
    "    start = find_pos(maze, what='S')\n",
    "    goal = find_pos(maze, what='G')\n",
    "    \n",
    "    # Initialize tree, set root to the starting position\n",
    "    root = Tree(data=start)\n",
    "    # set frontier and add root as the first frontier\n",
    "    frontier = [root]\n",
    "    # also have a 'reached' list to record all the places we've been\n",
    "    reached = [root.data]\n",
    "    max_frontier_size = 0\n",
    "    max_depth = 0\n",
    "    \n",
    "    # depth for ids \n",
    "    ids_depth = 0\n",
    "    curr_depth = 0\n",
    "    \n",
    "    curr_node = root\n",
    "    # keep looping while there is something in the frontier list (there's something we need to go)\n",
    "    while len(frontier) > 0:\n",
    "        # add frontier based on each strategy\n",
    "        if strategy == 'BFS':\n",
    "            # pop the first node in the queue for BFS\n",
    "            curr_node = frontier.pop(0)\n",
    "        elif strategy == 'DFS':\n",
    "            # pop the first node in the stack (aka the last node in the list)\n",
    "            curr_node = frontier.pop(-1)\n",
    "        elif strategy == 'IDS':\n",
    "            curr_node = frontier.pop(-1)\n",
    "        elif strategy == 'GBFS':\n",
    "            h = [manhattan(node.data, goal) for node in frontier]\n",
    "            curr_node = frontier.pop(np.argmin(h))\n",
    "        elif strategy == 'A*':\n",
    "            f = [g(node) + manhattan(node.data, goal) for node in frontier]\n",
    "            curr_node = frontier.pop(np.argmin(f))\n",
    "        else:\n",
    "            # error checking\n",
    "            raise Exception('Strategy not available!')\n",
    "        \n",
    "        if debug:\n",
    "            print('Current node', curr_node.data)\n",
    "        # now that we have the current node\n",
    "        # 1. check if we've reached the goal\n",
    "        if look(maze, curr_node.data) == 'G':\n",
    "            print('Path found! Path Cost:', len(get_path(curr_node))-1, 'Squares Explored:', len(reached))\n",
    "            return {\n",
    "                'path': get_path(curr_node),\n",
    "                'reached': reached,\n",
    "                'max_depth': max_depth,\n",
    "                'max_frontier_size': max_frontier_size\n",
    "                }\n",
    "        # if we haven't reached the goal, the frontier is empty, and the strategy is IDS:\n",
    "        elif (strategy == 'IDS') & len(frontier) < 1:    \n",
    "            # increment the depth\n",
    "            ids_depth += 1\n",
    "        \n",
    "        # 2. if we haven't reached the goal\n",
    "        # add available nodes to the frontier\n",
    "        for new_pos in available_directions(maze, curr_node.data):\n",
    "            new_node = Tree(new_pos)\n",
    "            # if we've already been to the node, don't add it\n",
    "            if new_pos in reached: \n",
    "                # however, if the strategy is DFS or greedy, we have to check it further\n",
    "                if strategy == 'DFS' or strategy == 'GBFS':\n",
    "                    if g(new_node) <= g(curr_node) + 1: continue\n",
    "                else: continue\n",
    "            # if the strategy is IDS, we need to check if the current depth is exceeding the maximum depth\n",
    "            # if it is, we need to break out of the loop (not adding any new frontiers)\n",
    "            if strategy == 'IDS' and curr_depth >= ids_depth: break\n",
    "            # use append child so that we can backtrack to parent\n",
    "            curr_node.addChild(new_node)\n",
    "            frontier.append(new_node)\n",
    "            reached.append(new_pos)\n",
    "        max_frontier_size = max(max_frontier_size, len(frontier))\n",
    "        max_depth = max(max_depth, get_depth(curr_node))\n",
    "        if debug:\n",
    "            print('New nodes in frontier:', [new_node.data for new_node in curr_node.getChildren()])\n",
    "            print('Already reached:', reached)\n",
    "    # if we're out of frontiers but still haven't found the path\n",
    "    print('Failed to find a path')"
   ]
  },
  {
   "cell_type": "markdown",
   "metadata": {},
   "source": [
    "# Goal\n",
    "Implement the following search algorithms for solving different mazes:\n",
    "\n",
    "* Breadth-first search (BFS)\n",
    "* Depth-first search (DFS)\n",
    "* Iterative deepening search (IDS)\n",
    "* Greedy best-first search (GBFS)\n",
    "* A* search\n",
    "\n",
    "Run each of the above algorithms on the \n",
    "[small maze](small_maze.txt), \n",
    "[medium maze](medium_maze.txt), \n",
    "[large maze](large_maze.txt), \n",
    "[open maze](open_maze.txt),\n",
    "[wall maze](wall_maze.txt),\n",
    "[loops maze](loops_maze.txt),\n",
    "[empty maze](empty_maze.txt), and\n",
    "[empty 2_maze](empty_2_maze.txt).\n",
    "For each problem instance and each search algorithm, report the following in a table:\n",
    "\n",
    "* The solution and its path cost\n",
    "* Number of nodes expanded\n",
    "* Maximum tree depth searched\n",
    "* Maximum size of the frontier.\n",
    "\n",
    "Display each solution by marking every maze square (or state) visited and the squares on the final path."
   ]
  },
  {
   "cell_type": "markdown",
   "metadata": {},
   "source": [
    "## Task 1: Defining the search Problem [1 point]\n",
    "\n",
    "Define the components of the search problem:\n",
    "\n",
    "* Initial state: S\n",
    "* Actions: Go from S to G\n",
    "* Transition model: If you go from S to G, you end up in G\n",
    "* Goal state: G\n",
    "* Path cost: 1 (constant)"
   ]
  },
  {
   "cell_type": "markdown",
   "metadata": {},
   "source": [
    "## Task 2: Breadth-first, Depth-first and iterative deepening search [4 points]\n",
    "\n",
    "Implement these search strategies. You can implement a generic tree search following the BFS pseudo-code in your textbook and then just adapt the order in which the frontier is explored."
   ]
  },
  {
   "cell_type": "markdown",
   "metadata": {},
   "source": [
    "### BFS"
   ]
  },
  {
   "cell_type": "code",
<<<<<<< HEAD
   "execution_count": 104,
=======
   "execution_count": 5,
>>>>>>> upstream/master
   "metadata": {},
   "outputs": [
    {
     "name": "stdout",
     "output_type": "stream",
     "text": [
      "Path found! Path Cost: 19 Squares Explored: 93\n"
     ]
    },
    {
     "data": {
      "image/png": "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\n",
      "text/plain": [
       "<Figure size 432x288 with 1 Axes>"
      ]
     },
     "metadata": {
      "needs_background": "light"
     },
     "output_type": "display_data"
    }
   ],
   "source": [
    "bfs_results = search(maze, 'BFS', False)\n",
    "display_path(maze, bfs_results['path'], bfs_results['reached'])"
   ]
  },
  {
   "cell_type": "markdown",
   "metadata": {},
   "source": [
<<<<<<< HEAD
    "### DFS"
=======
    "## Task 2: Breadth-first, Depth-first and iterative deepening search [6 points]\n",
    "\n",
    "Implement these search strategies. You can implement a generic tree search following the BFS pseudo-code in your textbook and then just adapt the order in which the frontier is explored."
>>>>>>> upstream/master
   ]
  },
  {
   "cell_type": "code",
<<<<<<< HEAD
   "execution_count": 105,
   "metadata": {},
   "outputs": [
    {
     "name": "stdout",
     "output_type": "stream",
     "text": [
      "Path found! Path Cost: 49 Squares Explored: 78\n"
     ]
    },
    {
     "data": {
      "image/png": "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\n",
      "text/plain": [
       "<Figure size 432x288 with 1 Axes>"
      ]
     },
     "metadata": {
      "needs_background": "light"
     },
     "output_type": "display_data"
    }
   ],
   "source": [
    "dfs_results = search(maze, 'DFS', False)\n",
    "display_path(maze, dfs_results['path'], dfs_results['reached'])"
   ]
  },
  {
   "cell_type": "markdown",
   "metadata": {},
   "source": [
    "### Iterative Deepening Search"
   ]
  },
  {
   "cell_type": "code",
   "execution_count": 106,
   "metadata": {},
   "outputs": [
    {
     "name": "stdout",
     "output_type": "stream",
     "text": [
      "Path found! Path Cost: 37 Squares Explored: 57\n"
     ]
    },
    {
     "data": {
      "image/png": "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\n",
      "text/plain": [
       "<Figure size 432x288 with 1 Axes>"
      ]
     },
     "metadata": {
      "needs_background": "light"
     },
     "output_type": "display_data"
    }
   ],
   "source": [
    "ids_results = search(maze, 'IDS', False)\n",
    "display_path(maze, ids_results['path'], ids_results['reached'])"
   ]
  },
  {
   "cell_type": "markdown",
   "metadata": {},
   "source": [
    "Are your implementations complete and optimal? Explain why. What is the time and space complexity of each?"
   ]
  },
  {
   "cell_type": "markdown",
   "metadata": {},
   "source": [
    "BFS\n",
    "* Complete: because branching factor is finite \n",
    "* Optimal: because cost is 1 (constant) per step\n",
    "* Time complexity: Number of nodes in a b-ary tree of depth d: O(b<sup>d</sup>)\n",
    "* Space complexity: O(b<sup>d</sup>)"
   ]
  },
  {
   "cell_type": "markdown",
=======
   "execution_count": 6,
>>>>>>> upstream/master
   "metadata": {},
   "source": [
<<<<<<< HEAD
    "DFS\n",
    "* Not Complete: because it can be stuck in loops\n",
    "* Not optimal: because it returns the first solution instead of the best solution\n",
    "* Time complexity: Number of nodes in a b-ary tree of maximum depth m: O(b<sup>m</sup>)\n",
    "* Space complexity: O(bm)"
   ]
  },
  {
   "cell_type": "markdown",
   "metadata": {},
   "source": [
    "IDS\n",
    "* Complete: because braching factor is finite\n",
    "* Optimal: because cost is 1 (constant) per step\n",
    "* Time complexity: O(b<sup>d</sup>)\n",
    "* Space complexity: O(bd)"
=======
    "# Your code goes here"
>>>>>>> upstream/master
   ]
  },
  {
   "cell_type": "markdown",
   "metadata": {},
   "source": [
    "How do you deal with loops (cycles)?"
   ]
  },
  {
   "cell_type": "code",
   "execution_count": 107,
   "metadata": {},
   "outputs": [
    {
     "name": "stdout",
     "output_type": "stream",
     "text": [
      "Path found! Path Cost: 29 Squares Explored: 44\n"
     ]
    },
    {
     "data": {
      "image/png": "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\n",
      "text/plain": [
       "<Figure size 432x288 with 1 Axes>"
      ]
     },
     "metadata": {
      "needs_background": "light"
     },
     "output_type": "display_data"
    }
   ],
   "source": [
<<<<<<< HEAD
    "# Your code goes here\n",
    "gbfs_results = search(maze, 'GBFS', False)\n",
    "display_path(maze, gbfs_results['path'], gbfs_results['reached'])"
=======
    "# Discussion"
>>>>>>> upstream/master
   ]
  },
  {
   "cell_type": "markdown",
   "metadata": {},
   "source": [
    "Are your implementations complete and optimal? Explain why. What is the time and space complexity of each of **your** implementations?"
   ]
  },
  {
   "cell_type": "markdown",
   "metadata": {},
   "source": [
    "* Not Complete: because it can be stuck in loops\n",
    "* Not Optimal: because cost is 1 (constant) per step\n",
    "* Time complexity: O(b<sup>m</sup>)\n",
    "* Space complexity: O(bd)"
   ]
  },
  {
   "cell_type": "markdown",
   "metadata": {},
   "source": [
    "## Task 3: Implement greedy best-first search and A* search  [2 points]\n",
    "\n",
    "You can use the map to estimate the distance from your current position to the goal using the Manhattan distance (see https://en.wikipedia.org/wiki/Taxicab_geometry) as a heuristic function."
   ]
  },
  {
   "cell_type": "code",
   "execution_count": 108,
   "metadata": {},
   "outputs": [
    {
     "name": "stdout",
     "output_type": "stream",
     "text": [
      "Path found! Path Cost: 19 Squares Explored: 59\n"
     ]
    },
    {
     "data": {
      "image/png": "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\n",
      "text/plain": [
       "<Figure size 432x288 with 1 Axes>"
      ]
     },
     "metadata": {
      "needs_background": "light"
     },
     "output_type": "display_data"
    }
   ],
   "source": [
    "# Your code goes here\n",
    "aStar_results = search(maze, 'A*', False)\n",
    "display_path(maze, aStar_results['path'], results['reached'])"
   ]
  },
  {
   "cell_type": "markdown",
   "metadata": {},
   "source": [
    "Are your implementations complete and optimal? What is the time and space complexity?"
   ]
  },
  {
   "cell_type": "markdown",
   "metadata": {},
   "source": [
    "* Complete: Yes\n",
    "* Optimal: because of the proof of optimality of A*\n",
    "* Time complexity: number of nodes with g(n) + h(n) <= C<sup>*</sup>\n",
    "* Space complexity: number of nodes with g(n) + h(n) <= C<sup>*</sup>"
   ]
  },
  {
   "cell_type": "markdown",
   "metadata": {},
   "source": [
    "## Task 4: Comparison and discussion [2 points] \n",
    "\n",
    "Don't forget to add a table that compares the following for the algorithms on the different mazes:\n",
    "\n",
    "* The solution and its path cost\n",
    "* Number of nodes expanded\n",
    "* Maximum tree depth searched\n",
    "* Maximum size of the frontier.\n",
    "\n",
    "Discuss the most important lessons you have learned from implementing the different search strategies. "
   ]
  },
  {
   "cell_type": "code",
<<<<<<< HEAD
   "execution_count": 111,
=======
   "execution_count": 11,
>>>>>>> upstream/master
   "metadata": {},
   "outputs": [
    {
     "name": "stdout",
     "output_type": "stream",
     "text": [
      "Empty_maze\n",
      "Path found! Path Cost: 14 Squares Explored: 98\n",
      "Path found! Path Cost: 22 Squares Explored: 52\n",
      "Path found! Path Cost: 26 Squares Explored: 98\n",
      "Path found! Path Cost: 14 Squares Explored: 38\n",
      "Path found! Path Cost: 14 Squares Explored: 94\n"
     ]
    },
    {
     "data": {
      "text/html": [
       "<div>\n",
       "<style scoped>\n",
       "    .dataframe tbody tr th:only-of-type {\n",
       "        vertical-align: middle;\n",
       "    }\n",
       "\n",
       "    .dataframe tbody tr th {\n",
       "        vertical-align: top;\n",
       "    }\n",
       "\n",
       "    .dataframe thead th {\n",
       "        text-align: right;\n",
       "    }\n",
       "</style>\n",
       "<table border=\"1\" class=\"dataframe\">\n",
       "  <thead>\n",
       "    <tr style=\"text-align: right;\">\n",
       "      <th></th>\n",
       "      <th>Solution</th>\n",
       "      <th>Path Cost</th>\n",
       "      <th>Nodes Expanded</th>\n",
       "      <th>Max Tree Depth</th>\n",
       "      <th>Max Frontier Size</th>\n",
       "    </tr>\n",
       "  </thead>\n",
       "  <tbody>\n",
       "    <tr>\n",
       "      <th>0</th>\n",
       "      <td>BFS</td>\n",
       "      <td>14</td>\n",
       "      <td>98</td>\n",
       "      <td>14</td>\n",
       "      <td>12</td>\n",
       "    </tr>\n",
       "    <tr>\n",
       "      <th>1</th>\n",
       "      <td>DFS</td>\n",
       "      <td>22</td>\n",
       "      <td>52</td>\n",
       "      <td>21</td>\n",
       "      <td>30</td>\n",
       "    </tr>\n",
       "    <tr>\n",
       "      <th>2</th>\n",
       "      <td>IDS</td>\n",
       "      <td>26</td>\n",
       "      <td>98</td>\n",
       "      <td>46</td>\n",
       "      <td>41</td>\n",
       "    </tr>\n",
       "    <tr>\n",
       "      <th>3</th>\n",
       "      <td>GBFS</td>\n",
       "      <td>14</td>\n",
       "      <td>38</td>\n",
       "      <td>13</td>\n",
       "      <td>24</td>\n",
       "    </tr>\n",
       "    <tr>\n",
       "      <th>4</th>\n",
       "      <td>A*</td>\n",
       "      <td>14</td>\n",
       "      <td>94</td>\n",
       "      <td>13</td>\n",
       "      <td>31</td>\n",
       "    </tr>\n",
       "  </tbody>\n",
       "</table>\n",
       "</div>"
      ],
      "text/plain": [
       "  Solution  Path Cost  Nodes Expanded  Max Tree Depth  Max Frontier Size\n",
       "0      BFS         14              98              14                 12\n",
       "1      DFS         22              52              21                 30\n",
       "2      IDS         26              98              46                 41\n",
       "3     GBFS         14              38              13                 24\n",
       "4       A*         14              94              13                 31"
      ]
     },
     "metadata": {},
     "output_type": "display_data"
    },
    {
     "name": "stdout",
     "output_type": "stream",
     "text": [
      "Open_maze\n",
      "Path found! Path Cost: 54 Squares Explored: 684\n",
      "Path found! Path Cost: 94 Squares Explored: 667\n",
      "Path found! Path Cost: 104 Squares Explored: 351\n",
      "Path found! Path Cost: 68 Squares Explored: 162\n",
      "Path found! Path Cost: 54 Squares Explored: 555\n"
     ]
    },
    {
     "data": {
      "text/html": [
       "<div>\n",
       "<style scoped>\n",
       "    .dataframe tbody tr th:only-of-type {\n",
       "        vertical-align: middle;\n",
       "    }\n",
       "\n",
       "    .dataframe tbody tr th {\n",
       "        vertical-align: top;\n",
       "    }\n",
       "\n",
       "    .dataframe thead th {\n",
       "        text-align: right;\n",
       "    }\n",
       "</style>\n",
       "<table border=\"1\" class=\"dataframe\">\n",
       "  <thead>\n",
       "    <tr style=\"text-align: right;\">\n",
       "      <th></th>\n",
       "      <th>Solution</th>\n",
       "      <th>Path Cost</th>\n",
       "      <th>Nodes Expanded</th>\n",
       "      <th>Max Tree Depth</th>\n",
       "      <th>Max Frontier Size</th>\n",
       "    </tr>\n",
       "  </thead>\n",
       "  <tbody>\n",
       "    <tr>\n",
       "      <th>0</th>\n",
       "      <td>BFS</td>\n",
       "      <td>54</td>\n",
       "      <td>684</td>\n",
       "      <td>54</td>\n",
       "      <td>25</td>\n",
       "    </tr>\n",
       "    <tr>\n",
       "      <th>1</th>\n",
       "      <td>DFS</td>\n",
       "      <td>94</td>\n",
       "      <td>667</td>\n",
       "      <td>159</td>\n",
       "      <td>150</td>\n",
       "    </tr>\n",
       "    <tr>\n",
       "      <th>2</th>\n",
       "      <td>IDS</td>\n",
       "      <td>104</td>\n",
       "      <td>351</td>\n",
       "      <td>110</td>\n",
       "      <td>118</td>\n",
       "    </tr>\n",
       "    <tr>\n",
       "      <th>3</th>\n",
       "      <td>GBFS</td>\n",
       "      <td>68</td>\n",
       "      <td>162</td>\n",
       "      <td>67</td>\n",
       "      <td>73</td>\n",
       "    </tr>\n",
       "    <tr>\n",
       "      <th>4</th>\n",
       "      <td>A*</td>\n",
       "      <td>54</td>\n",
       "      <td>555</td>\n",
       "      <td>53</td>\n",
       "      <td>25</td>\n",
       "    </tr>\n",
       "  </tbody>\n",
       "</table>\n",
       "</div>"
      ],
      "text/plain": [
       "  Solution  Path Cost  Nodes Expanded  Max Tree Depth  Max Frontier Size\n",
       "0      BFS         54             684              54                 25\n",
       "1      DFS         94             667             159                150\n",
       "2      IDS        104             351             110                118\n",
       "3     GBFS         68             162              67                 73\n",
       "4       A*         54             555              53                 25"
      ]
     },
     "metadata": {},
     "output_type": "display_data"
    },
    {
     "name": "stdout",
     "output_type": "stream",
     "text": [
      "Small_maze\n",
      "Path found! Path Cost: 19 Squares Explored: 94\n",
      "Path found! Path Cost: 29 Squares Explored: 68\n",
      "Path found! Path Cost: 19 Squares Explored: 27\n",
      "Path found! Path Cost: 29 Squares Explored: 44\n",
      "Path found! Path Cost: 19 Squares Explored: 59\n"
     ]
    },
    {
     "data": {
      "text/html": [
       "<div>\n",
       "<style scoped>\n",
       "    .dataframe tbody tr th:only-of-type {\n",
       "        vertical-align: middle;\n",
       "    }\n",
       "\n",
       "    .dataframe tbody tr th {\n",
       "        vertical-align: top;\n",
       "    }\n",
       "\n",
       "    .dataframe thead th {\n",
       "        text-align: right;\n",
       "    }\n",
       "</style>\n",
       "<table border=\"1\" class=\"dataframe\">\n",
       "  <thead>\n",
       "    <tr style=\"text-align: right;\">\n",
       "      <th></th>\n",
       "      <th>Solution</th>\n",
       "      <th>Path Cost</th>\n",
       "      <th>Nodes Expanded</th>\n",
       "      <th>Max Tree Depth</th>\n",
       "      <th>Max Frontier Size</th>\n",
       "    </tr>\n",
       "  </thead>\n",
       "  <tbody>\n",
       "    <tr>\n",
       "      <th>0</th>\n",
       "      <td>BFS</td>\n",
       "      <td>19</td>\n",
       "      <td>94</td>\n",
       "      <td>19</td>\n",
       "      <td>9</td>\n",
       "    </tr>\n",
       "    <tr>\n",
       "      <th>1</th>\n",
       "      <td>DFS</td>\n",
       "      <td>29</td>\n",
       "      <td>68</td>\n",
       "      <td>48</td>\n",
       "      <td>7</td>\n",
       "    </tr>\n",
       "    <tr>\n",
       "      <th>2</th>\n",
       "      <td>IDS</td>\n",
       "      <td>19</td>\n",
       "      <td>27</td>\n",
       "      <td>18</td>\n",
       "      <td>6</td>\n",
       "    </tr>\n",
       "    <tr>\n",
       "      <th>3</th>\n",
       "      <td>GBFS</td>\n",
       "      <td>29</td>\n",
       "      <td>44</td>\n",
       "      <td>28</td>\n",
       "      <td>5</td>\n",
       "    </tr>\n",
       "    <tr>\n",
       "      <th>4</th>\n",
       "      <td>A*</td>\n",
       "      <td>19</td>\n",
       "      <td>59</td>\n",
       "      <td>18</td>\n",
       "      <td>8</td>\n",
       "    </tr>\n",
       "  </tbody>\n",
       "</table>\n",
       "</div>"
      ],
      "text/plain": [
       "  Solution  Path Cost  Nodes Expanded  Max Tree Depth  Max Frontier Size\n",
       "0      BFS         19              94              19                  9\n",
       "1      DFS         29              68              48                  7\n",
       "2      IDS         19              27              18                  6\n",
       "3     GBFS         29              44              28                  5\n",
       "4       A*         19              59              18                  8"
      ]
     },
     "metadata": {},
     "output_type": "display_data"
    },
    {
     "name": "stdout",
     "output_type": "stream",
     "text": [
      "Medium_maze\n",
      "Path found! Path Cost: 68 Squares Explored: 271\n",
      "Path found! Path Cost: 154 Squares Explored: 175\n",
      "Path found! Path Cost: 162 Squares Explored: 265\n",
      "Path found! Path Cost: 152 Squares Explored: 165\n",
      "Path found! Path Cost: 68 Squares Explored: 228\n"
     ]
    },
    {
     "data": {
      "text/html": [
       "<div>\n",
       "<style scoped>\n",
       "    .dataframe tbody tr th:only-of-type {\n",
       "        vertical-align: middle;\n",
       "    }\n",
       "\n",
       "    .dataframe tbody tr th {\n",
       "        vertical-align: top;\n",
       "    }\n",
       "\n",
       "    .dataframe thead th {\n",
       "        text-align: right;\n",
       "    }\n",
       "</style>\n",
       "<table border=\"1\" class=\"dataframe\">\n",
       "  <thead>\n",
       "    <tr style=\"text-align: right;\">\n",
       "      <th></th>\n",
       "      <th>Solution</th>\n",
       "      <th>Path Cost</th>\n",
       "      <th>Nodes Expanded</th>\n",
       "      <th>Max Tree Depth</th>\n",
       "      <th>Max Frontier Size</th>\n",
       "    </tr>\n",
       "  </thead>\n",
       "  <tbody>\n",
       "    <tr>\n",
       "      <th>0</th>\n",
       "      <td>BFS</td>\n",
       "      <td>68</td>\n",
       "      <td>271</td>\n",
       "      <td>67</td>\n",
       "      <td>8</td>\n",
       "    </tr>\n",
       "    <tr>\n",
       "      <th>1</th>\n",
       "      <td>DFS</td>\n",
       "      <td>154</td>\n",
       "      <td>175</td>\n",
       "      <td>153</td>\n",
       "      <td>10</td>\n",
       "    </tr>\n",
       "    <tr>\n",
       "      <th>2</th>\n",
       "      <td>IDS</td>\n",
       "      <td>162</td>\n",
       "      <td>265</td>\n",
       "      <td>161</td>\n",
       "      <td>8</td>\n",
       "    </tr>\n",
       "    <tr>\n",
       "      <th>3</th>\n",
       "      <td>GBFS</td>\n",
       "      <td>152</td>\n",
       "      <td>165</td>\n",
       "      <td>151</td>\n",
       "      <td>8</td>\n",
       "    </tr>\n",
       "    <tr>\n",
       "      <th>4</th>\n",
       "      <td>A*</td>\n",
       "      <td>68</td>\n",
       "      <td>228</td>\n",
       "      <td>67</td>\n",
       "      <td>8</td>\n",
       "    </tr>\n",
       "  </tbody>\n",
       "</table>\n",
       "</div>"
      ],
      "text/plain": [
       "  Solution  Path Cost  Nodes Expanded  Max Tree Depth  Max Frontier Size\n",
       "0      BFS         68             271              67                  8\n",
       "1      DFS        154             175             153                 10\n",
       "2      IDS        162             265             161                  8\n",
       "3     GBFS        152             165             151                  8\n",
       "4       A*         68             228              67                  8"
      ]
     },
     "metadata": {},
     "output_type": "display_data"
    },
    {
     "name": "stdout",
     "output_type": "stream",
     "text": [
      "Large_maze\n",
      "Path found! Path Cost: 210 Squares Explored: 624\n",
      "Path found! Path Cost: 210 Squares Explored: 514\n",
      "Path found! Path Cost: 210 Squares Explored: 389\n",
      "Path found! Path Cost: 210 Squares Explored: 493\n",
      "Path found! Path Cost: 210 Squares Explored: 557\n"
     ]
    },
    {
     "data": {
      "text/html": [
       "<div>\n",
       "<style scoped>\n",
       "    .dataframe tbody tr th:only-of-type {\n",
       "        vertical-align: middle;\n",
       "    }\n",
       "\n",
       "    .dataframe tbody tr th {\n",
       "        vertical-align: top;\n",
       "    }\n",
       "\n",
       "    .dataframe thead th {\n",
       "        text-align: right;\n",
       "    }\n",
       "</style>\n",
       "<table border=\"1\" class=\"dataframe\">\n",
       "  <thead>\n",
       "    <tr style=\"text-align: right;\">\n",
       "      <th></th>\n",
       "      <th>Solution</th>\n",
       "      <th>Path Cost</th>\n",
       "      <th>Nodes Expanded</th>\n",
       "      <th>Max Tree Depth</th>\n",
       "      <th>Max Frontier Size</th>\n",
       "    </tr>\n",
       "  </thead>\n",
       "  <tbody>\n",
       "    <tr>\n",
       "      <th>0</th>\n",
       "      <td>BFS</td>\n",
       "      <td>210</td>\n",
       "      <td>624</td>\n",
       "      <td>210</td>\n",
       "      <td>8</td>\n",
       "    </tr>\n",
       "    <tr>\n",
       "      <th>1</th>\n",
       "      <td>DFS</td>\n",
       "      <td>210</td>\n",
       "      <td>514</td>\n",
       "      <td>222</td>\n",
       "      <td>36</td>\n",
       "    </tr>\n",
       "    <tr>\n",
       "      <th>2</th>\n",
       "      <td>IDS</td>\n",
       "      <td>210</td>\n",
       "      <td>389</td>\n",
       "      <td>214</td>\n",
       "      <td>40</td>\n",
       "    </tr>\n",
       "    <tr>\n",
       "      <th>3</th>\n",
       "      <td>GBFS</td>\n",
       "      <td>210</td>\n",
       "      <td>493</td>\n",
       "      <td>209</td>\n",
       "      <td>21</td>\n",
       "    </tr>\n",
       "    <tr>\n",
       "      <th>4</th>\n",
       "      <td>A*</td>\n",
       "      <td>210</td>\n",
       "      <td>557</td>\n",
       "      <td>209</td>\n",
       "      <td>12</td>\n",
       "    </tr>\n",
       "  </tbody>\n",
       "</table>\n",
       "</div>"
      ],
      "text/plain": [
       "  Solution  Path Cost  Nodes Expanded  Max Tree Depth  Max Frontier Size\n",
       "0      BFS        210             624             210                  8\n",
       "1      DFS        210             514             222                 36\n",
       "2      IDS        210             389             214                 40\n",
       "3     GBFS        210             493             209                 21\n",
       "4       A*        210             557             209                 12"
      ]
     },
     "metadata": {},
     "output_type": "display_data"
    },
    {
     "name": "stdout",
     "output_type": "stream",
     "text": [
      "Wall_maze\n",
      "Path found! Path Cost: 14 Squares Explored: 91\n",
      "Path found! Path Cost: 18 Squares Explored: 85\n",
      "Path found! Path Cost: 18 Squares Explored: 35\n",
      "Path found! Path Cost: 14 Squares Explored: 43\n",
      "Path found! Path Cost: 14 Squares Explored: 87\n"
     ]
    },
    {
     "data": {
      "text/html": [
       "<div>\n",
       "<style scoped>\n",
       "    .dataframe tbody tr th:only-of-type {\n",
       "        vertical-align: middle;\n",
       "    }\n",
       "\n",
       "    .dataframe tbody tr th {\n",
       "        vertical-align: top;\n",
       "    }\n",
       "\n",
       "    .dataframe thead th {\n",
       "        text-align: right;\n",
       "    }\n",
       "</style>\n",
       "<table border=\"1\" class=\"dataframe\">\n",
       "  <thead>\n",
       "    <tr style=\"text-align: right;\">\n",
       "      <th></th>\n",
       "      <th>Solution</th>\n",
       "      <th>Path Cost</th>\n",
       "      <th>Nodes Expanded</th>\n",
       "      <th>Max Tree Depth</th>\n",
       "      <th>Max Frontier Size</th>\n",
       "    </tr>\n",
       "  </thead>\n",
       "  <tbody>\n",
       "    <tr>\n",
       "      <th>0</th>\n",
       "      <td>BFS</td>\n",
       "      <td>14</td>\n",
       "      <td>91</td>\n",
       "      <td>14</td>\n",
       "      <td>10</td>\n",
       "    </tr>\n",
       "    <tr>\n",
       "      <th>1</th>\n",
       "      <td>DFS</td>\n",
       "      <td>18</td>\n",
       "      <td>85</td>\n",
       "      <td>38</td>\n",
       "      <td>35</td>\n",
       "    </tr>\n",
       "    <tr>\n",
       "      <th>2</th>\n",
       "      <td>IDS</td>\n",
       "      <td>18</td>\n",
       "      <td>35</td>\n",
       "      <td>17</td>\n",
       "      <td>16</td>\n",
       "    </tr>\n",
       "    <tr>\n",
       "      <th>3</th>\n",
       "      <td>GBFS</td>\n",
       "      <td>14</td>\n",
       "      <td>43</td>\n",
       "      <td>13</td>\n",
       "      <td>22</td>\n",
       "    </tr>\n",
       "    <tr>\n",
       "      <th>4</th>\n",
       "      <td>A*</td>\n",
       "      <td>14</td>\n",
       "      <td>87</td>\n",
       "      <td>13</td>\n",
       "      <td>31</td>\n",
       "    </tr>\n",
       "  </tbody>\n",
       "</table>\n",
       "</div>"
      ],
      "text/plain": [
       "  Solution  Path Cost  Nodes Expanded  Max Tree Depth  Max Frontier Size\n",
       "0      BFS         14              91              14                 10\n",
       "1      DFS         18              85              38                 35\n",
       "2      IDS         18              35              17                 16\n",
       "3     GBFS         14              43              13                 22\n",
       "4       A*         14              87              13                 31"
      ]
     },
     "metadata": {},
     "output_type": "display_data"
    }
   ],
   "source": [
<<<<<<< HEAD
    "mazes = ['empty_maze.txt', 'open_maze.txt', 'small_maze.txt', 'medium_maze.txt', 'large_maze.txt', 'wall_maze.txt']\n",
    "for m in mazes:\n",
    "    print(m.split('.')[0].capitalize())\n",
    "    f = open(m, \"r\")\n",
    "    maze_str = f.read()\n",
    "    m = parse_maze(maze_str)\n",
    "    bfs_results = search(m, 'BFS', False)\n",
    "    dfs_results = search(m, 'DFS', False)\n",
    "    ids_results = search(m, 'IDS', False)\n",
    "    gbfs_results = search(m, 'GBFS', False)\n",
    "    aStar_results = search(m, 'A*', False)\n",
    "    # Add table\n",
    "    df = pd.DataFrame({\n",
    "        'Solution': ['BFS', 'DFS', 'IDS', 'GBFS', 'A*'],\n",
    "        'Path Cost': [len(bfs_results['path'])-1, len(dfs_results['path'])-1, len(ids_results['path'])-1, len(gbfs_results['path'])-1, len(aStar_results['path'])-1],\n",
    "        'Nodes Expanded': [len(bfs_results['reached']), len(dfs_results['reached']), len(ids_results['reached']), len(gbfs_results['reached']), len(aStar_results['reached'])],\n",
    "        'Max Tree Depth': [bfs_results['max_depth'], dfs_results['max_depth'], ids_results['max_depth'], gbfs_results['max_depth'], aStar_results['max_depth']],\n",
    "        'Max Frontier Size': [bfs_results['max_frontier_size'], dfs_results['max_frontier_size'], ids_results['max_frontier_size'], gbfs_results['max_frontier_size'], aStar_results['max_frontier_size']]\n",
    "    })\n",
    "    display(df)\n"
=======
    "# Add table and discussion"
>>>>>>> upstream/master
   ]
  },
  {
   "cell_type": "markdown",
   "metadata": {},
   "source": [
    "## Bonus Tasks [+1 point]\n",
    "\n",
    "Instead of defining each square as a state (which you probably did), use only intersections as states. Now the storage requirement is reduced, but the path length between two intersections can be different. If we use total path length in number of squares as path cost, how can we make sure that BFS and iterative deepening search is optimal? Change the code to do so."
   ]
  },
  {
   "cell_type": "code",
<<<<<<< HEAD
   "execution_count": null,
=======
   "execution_count": 12,
>>>>>>> upstream/master
   "metadata": {},
   "outputs": [],
   "source": [
    "# Your code/answer goes here"
   ]
  },
  {
   "cell_type": "markdown",
   "metadata": {},
   "source": [
    "Modify your A* search to add weights (see text book) and explore how different weights influence the result."
   ]
  },
  {
   "cell_type": "code",
<<<<<<< HEAD
   "execution_count": null,
=======
   "execution_count": 13,
>>>>>>> upstream/master
   "metadata": {},
   "outputs": [],
   "source": [
    "# Your code/answer goes here"
   ]
  },
  {
   "cell_type": "markdown",
   "metadata": {},
   "source": [
    "What happens if the agent does not know the layout of the maze in advance (i.e., faces an unkown, only partially observable environment)? How does the environment look then (PEAS description)? How would you implement a rational agent to solve the maze? What if the agent still has a GPS device to tell the distance to the goal?"
   ]
  },
  {
   "cell_type": "code",
<<<<<<< HEAD
   "execution_count": null,
=======
   "execution_count": 14,
>>>>>>> upstream/master
   "metadata": {},
   "outputs": [],
   "source": [
    "# Your code/answer goes here"
   ]
  }
 ],
 "metadata": {
  "kernelspec": {
   "display_name": "Python 3",
   "language": "python",
   "name": "python3"
  },
  "language_info": {
   "codemirror_mode": {
    "name": "ipython",
    "version": 3
   },
   "file_extension": ".py",
   "mimetype": "text/x-python",
   "name": "python",
   "nbconvert_exporter": "python",
   "pygments_lexer": "ipython3",
   "version": "3.8.2"
  }
 },
 "nbformat": 4,
 "nbformat_minor": 4
}
